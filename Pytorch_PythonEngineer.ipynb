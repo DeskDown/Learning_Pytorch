{
  "nbformat": 4,
  "nbformat_minor": 0,
  "metadata": {
    "colab": {
      "name": "Pytorch_PythonEngineer.ipynb",
      "provenance": [],
      "authorship_tag": "ABX9TyPmhEwF4c211rMVlHa5GnbH",
      "include_colab_link": true
    },
    "kernelspec": {
      "name": "python3",
      "display_name": "Python 3"
    },
    "language_info": {
      "name": "python"
    }
  },
  "cells": [
    {
      "cell_type": "markdown",
      "metadata": {
        "id": "view-in-github",
        "colab_type": "text"
      },
      "source": [
        "<a href=\"https://colab.research.google.com/github/rehman-official/Learning_Pytorch/blob/main/Pytorch_PythonEngineer.ipynb\" target=\"_parent\"><img src=\"https://colab.research.google.com/assets/colab-badge.svg\" alt=\"Open In Colab\"/></a>"
      ]
    },
    {
      "cell_type": "markdown",
      "metadata": {
        "id": "kT0gnuElKbTX"
      },
      "source": [
        "# 01 - Installation"
      ]
    },
    {
      "cell_type": "code",
      "metadata": {
        "id": "bVLW0NtSKsnj"
      },
      "source": [
        "import torch"
      ],
      "execution_count": 1,
      "outputs": []
    },
    {
      "cell_type": "markdown",
      "metadata": {
        "id": "jRlKWDaSJ-qk"
      },
      "source": [
        "# 02 - Tensor Basics"
      ]
    },
    {
      "cell_type": "code",
      "metadata": {
        "colab": {
          "base_uri": "https://localhost:8080/"
        },
        "id": "dQSu1_HeKAUa",
        "outputId": "2ccb7fd2-5365-4694-fd97-1e63913a58a8"
      },
      "source": [
        "x = torch.empty(2,2)\n",
        "\n",
        "x"
      ],
      "execution_count": 2,
      "outputs": [
        {
          "output_type": "execute_result",
          "data": {
            "text/plain": [
              "tensor([[-1.3643e-29,  3.0702e-41],\n",
              "        [ 3.3631e-44,  0.0000e+00]])"
            ]
          },
          "metadata": {
            "tags": []
          },
          "execution_count": 2
        }
      ]
    },
    {
      "cell_type": "code",
      "metadata": {
        "colab": {
          "base_uri": "https://localhost:8080/"
        },
        "id": "AdzjU9UlK1sR",
        "outputId": "a023c3f7-f79a-468a-e899-efc4574f390b"
      },
      "source": [
        "x = torch.empty(2,3,2)\n",
        "x"
      ],
      "execution_count": 3,
      "outputs": [
        {
          "output_type": "execute_result",
          "data": {
            "text/plain": [
              "tensor([[[-1.3643e-29,  3.0702e-41],\n",
              "         [ 5.0447e-44,  0.0000e+00],\n",
              "         [        nan,  0.0000e+00]],\n",
              "\n",
              "        [[ 1.3788e-14,  1.8369e+28],\n",
              "         [ 1.9433e-19,  3.3738e-12],\n",
              "         [ 7.4086e+28,  6.9397e+22]]])"
            ]
          },
          "metadata": {
            "tags": []
          },
          "execution_count": 3
        }
      ]
    },
    {
      "cell_type": "code",
      "metadata": {
        "colab": {
          "base_uri": "https://localhost:8080/"
        },
        "id": "901j9_08K7Cb",
        "outputId": "839cd087-5426-4d81-faa9-4f40eabe2797"
      },
      "source": [
        "torch.rand(2,2)"
      ],
      "execution_count": 4,
      "outputs": [
        {
          "output_type": "execute_result",
          "data": {
            "text/plain": [
              "tensor([[0.1887, 0.2376],\n",
              "        [0.3064, 0.9748]])"
            ]
          },
          "metadata": {
            "tags": []
          },
          "execution_count": 4
        }
      ]
    },
    {
      "cell_type": "code",
      "metadata": {
        "colab": {
          "base_uri": "https://localhost:8080/"
        },
        "id": "1I1bSBOzLAX7",
        "outputId": "fe16691a-0a96-4eef-f90e-0ee88c94e931"
      },
      "source": [
        "torch.ones(2,4)"
      ],
      "execution_count": 5,
      "outputs": [
        {
          "output_type": "execute_result",
          "data": {
            "text/plain": [
              "tensor([[1., 1., 1., 1.],\n",
              "        [1., 1., 1., 1.]])"
            ]
          },
          "metadata": {
            "tags": []
          },
          "execution_count": 5
        }
      ]
    },
    {
      "cell_type": "code",
      "metadata": {
        "colab": {
          "base_uri": "https://localhost:8080/"
        },
        "id": "foqDrDzTLMhK",
        "outputId": "1ecd280c-2723-4776-98f6-4e4ca6077e78"
      },
      "source": [
        "torch.zeros(2,4, dtype=torch.float16)"
      ],
      "execution_count": 6,
      "outputs": [
        {
          "output_type": "execute_result",
          "data": {
            "text/plain": [
              "tensor([[0., 0., 0., 0.],\n",
              "        [0., 0., 0., 0.]], dtype=torch.float16)"
            ]
          },
          "metadata": {
            "tags": []
          },
          "execution_count": 6
        }
      ]
    },
    {
      "cell_type": "code",
      "metadata": {
        "colab": {
          "base_uri": "https://localhost:8080/"
        },
        "id": "XTh0SCLVLVdC",
        "outputId": "18b52854-8379-4cb1-fcbe-6e76b6383814"
      },
      "source": [
        "ls = [2,4,6]\n",
        "torch.tensor(ls)"
      ],
      "execution_count": 7,
      "outputs": [
        {
          "output_type": "execute_result",
          "data": {
            "text/plain": [
              "tensor([2, 4, 6])"
            ]
          },
          "metadata": {
            "tags": []
          },
          "execution_count": 7
        }
      ]
    },
    {
      "cell_type": "code",
      "metadata": {
        "colab": {
          "base_uri": "https://localhost:8080/"
        },
        "id": "9EGjLYfHLa32",
        "outputId": "5459c64d-707b-46c8-bc3c-803746205abe"
      },
      "source": [
        "x = torch.rand(2,2)\n",
        "y = torch.rand(2,2)\n",
        "\n",
        "x,y"
      ],
      "execution_count": 8,
      "outputs": [
        {
          "output_type": "execute_result",
          "data": {
            "text/plain": [
              "(tensor([[0.1952, 0.7165],\n",
              "         [0.8469, 0.1682]]), tensor([[0.8611, 0.6431],\n",
              "         [0.2255, 0.9459]]))"
            ]
          },
          "metadata": {
            "tags": []
          },
          "execution_count": 8
        }
      ]
    },
    {
      "cell_type": "code",
      "metadata": {
        "colab": {
          "base_uri": "https://localhost:8080/"
        },
        "id": "5sf70YdmLgaK",
        "outputId": "0d9e744e-c9fc-49d7-ac39-6496e265da8f"
      },
      "source": [
        "x + y"
      ],
      "execution_count": 9,
      "outputs": [
        {
          "output_type": "execute_result",
          "data": {
            "text/plain": [
              "tensor([[1.0563, 1.3595],\n",
              "        [1.0724, 1.1140]])"
            ]
          },
          "metadata": {
            "tags": []
          },
          "execution_count": 9
        }
      ]
    },
    {
      "cell_type": "code",
      "metadata": {
        "colab": {
          "base_uri": "https://localhost:8080/"
        },
        "id": "fsPSW-tZLhoi",
        "outputId": "cd5a2f4d-bf13-4005-f47c-03746c65a081"
      },
      "source": [
        "torch.add(x,y)"
      ],
      "execution_count": 10,
      "outputs": [
        {
          "output_type": "execute_result",
          "data": {
            "text/plain": [
              "tensor([[1.0563, 1.3595],\n",
              "        [1.0724, 1.1140]])"
            ]
          },
          "metadata": {
            "tags": []
          },
          "execution_count": 10
        }
      ]
    },
    {
      "cell_type": "code",
      "metadata": {
        "colab": {
          "base_uri": "https://localhost:8080/"
        },
        "id": "agNsMIzILojE",
        "outputId": "a5da1965-c7b7-4750-8ced-b9728b0ad9e1"
      },
      "source": [
        "x.add(y)"
      ],
      "execution_count": 11,
      "outputs": [
        {
          "output_type": "execute_result",
          "data": {
            "text/plain": [
              "tensor([[1.0563, 1.3595],\n",
              "        [1.0724, 1.1140]])"
            ]
          },
          "metadata": {
            "tags": []
          },
          "execution_count": 11
        }
      ]
    },
    {
      "cell_type": "code",
      "metadata": {
        "colab": {
          "base_uri": "https://localhost:8080/"
        },
        "id": "rN6-g-AYLts6",
        "outputId": "43656bac-1415-4e11-b855-eb05da3dc483"
      },
      "source": [
        "x"
      ],
      "execution_count": 12,
      "outputs": [
        {
          "output_type": "execute_result",
          "data": {
            "text/plain": [
              "tensor([[0.1952, 0.7165],\n",
              "        [0.8469, 0.1682]])"
            ]
          },
          "metadata": {
            "tags": []
          },
          "execution_count": 12
        }
      ]
    },
    {
      "cell_type": "code",
      "metadata": {
        "colab": {
          "base_uri": "https://localhost:8080/"
        },
        "id": "dKL36WTiLuhp",
        "outputId": "902dc661-0f9b-415a-fb25-75ca82492a41"
      },
      "source": [
        "# inplace addition\n",
        "x.add_(y)"
      ],
      "execution_count": 13,
      "outputs": [
        {
          "output_type": "execute_result",
          "data": {
            "text/plain": [
              "tensor([[1.0563, 1.3595],\n",
              "        [1.0724, 1.1140]])"
            ]
          },
          "metadata": {
            "tags": []
          },
          "execution_count": 13
        }
      ]
    },
    {
      "cell_type": "code",
      "metadata": {
        "colab": {
          "base_uri": "https://localhost:8080/"
        },
        "id": "bD4PlcLzLywn",
        "outputId": "63e823bb-c696-4946-934b-c8be975e6bfd"
      },
      "source": [
        "x"
      ],
      "execution_count": 14,
      "outputs": [
        {
          "output_type": "execute_result",
          "data": {
            "text/plain": [
              "tensor([[1.0563, 1.3595],\n",
              "        [1.0724, 1.1140]])"
            ]
          },
          "metadata": {
            "tags": []
          },
          "execution_count": 14
        }
      ]
    },
    {
      "cell_type": "code",
      "metadata": {
        "colab": {
          "base_uri": "https://localhost:8080/"
        },
        "id": "V8s2LrDlLzH5",
        "outputId": "663d5575-9515-46d6-e0e5-60fc658e5a04"
      },
      "source": [
        "x * y"
      ],
      "execution_count": 15,
      "outputs": [
        {
          "output_type": "execute_result",
          "data": {
            "text/plain": [
              "tensor([[0.9095, 0.8743],\n",
              "        [0.2419, 1.0537]])"
            ]
          },
          "metadata": {
            "tags": []
          },
          "execution_count": 15
        }
      ]
    },
    {
      "cell_type": "code",
      "metadata": {
        "colab": {
          "base_uri": "https://localhost:8080/"
        },
        "id": "MA-gUPveL68k",
        "outputId": "96ed5b07-b2c2-49fa-cdea-0b4654f6e8fe"
      },
      "source": [
        "x.mul(y)"
      ],
      "execution_count": 16,
      "outputs": [
        {
          "output_type": "execute_result",
          "data": {
            "text/plain": [
              "tensor([[0.9095, 0.8743],\n",
              "        [0.2419, 1.0537]])"
            ]
          },
          "metadata": {
            "tags": []
          },
          "execution_count": 16
        }
      ]
    },
    {
      "cell_type": "code",
      "metadata": {
        "colab": {
          "base_uri": "https://localhost:8080/"
        },
        "id": "3fiqcBBIL9KL",
        "outputId": "d8cba8ad-494c-4051-877b-3bdfd7ac1d7c"
      },
      "source": [
        "x.sub(y)"
      ],
      "execution_count": 17,
      "outputs": [
        {
          "output_type": "execute_result",
          "data": {
            "text/plain": [
              "tensor([[0.1952, 0.7165],\n",
              "        [0.8469, 0.1682]])"
            ]
          },
          "metadata": {
            "tags": []
          },
          "execution_count": 17
        }
      ]
    },
    {
      "cell_type": "code",
      "metadata": {
        "colab": {
          "base_uri": "https://localhost:8080/"
        },
        "id": "zM_EgrjLMBEr",
        "outputId": "bdcf3058-c4ef-4122-88eb-325fc93fc8c7"
      },
      "source": [
        "ls = torch.rand(2,3,4)\n",
        "ls"
      ],
      "execution_count": 18,
      "outputs": [
        {
          "output_type": "execute_result",
          "data": {
            "text/plain": [
              "tensor([[[0.9084, 0.1484, 0.5242, 0.3289],\n",
              "         [0.6338, 0.2218, 0.3811, 0.7445],\n",
              "         [0.7153, 0.6333, 0.4732, 0.9337]],\n",
              "\n",
              "        [[0.7842, 0.5413, 0.3055, 0.9647],\n",
              "         [0.4770, 0.0910, 0.6785, 0.9160],\n",
              "         [0.5054, 0.8989, 0.9498, 0.2884]]])"
            ]
          },
          "metadata": {
            "tags": []
          },
          "execution_count": 18
        }
      ]
    },
    {
      "cell_type": "code",
      "metadata": {
        "colab": {
          "base_uri": "https://localhost:8080/"
        },
        "id": "L5Sqf-AtMIeE",
        "outputId": "0f4d5644-6083-418d-c0f2-16846fb4e58b"
      },
      "source": [
        "ls[:,1,2]"
      ],
      "execution_count": 19,
      "outputs": [
        {
          "output_type": "execute_result",
          "data": {
            "text/plain": [
              "tensor([0.3811, 0.6785])"
            ]
          },
          "metadata": {
            "tags": []
          },
          "execution_count": 19
        }
      ]
    },
    {
      "cell_type": "code",
      "metadata": {
        "colab": {
          "base_uri": "https://localhost:8080/"
        },
        "id": "F5R5LS_fMWpr",
        "outputId": "0248c492-01e7-461c-8f7f-98a855d68441"
      },
      "source": [
        "ls[-1]"
      ],
      "execution_count": 20,
      "outputs": [
        {
          "output_type": "execute_result",
          "data": {
            "text/plain": [
              "tensor([[0.7842, 0.5413, 0.3055, 0.9647],\n",
              "        [0.4770, 0.0910, 0.6785, 0.9160],\n",
              "        [0.5054, 0.8989, 0.9498, 0.2884]])"
            ]
          },
          "metadata": {
            "tags": []
          },
          "execution_count": 20
        }
      ]
    },
    {
      "cell_type": "code",
      "metadata": {
        "colab": {
          "base_uri": "https://localhost:8080/"
        },
        "id": "ky6fwSxncXnH",
        "outputId": "2442c89e-2bac-4c0a-e600-843d3c06790e"
      },
      "source": [
        "y.sub_(x)"
      ],
      "execution_count": 21,
      "outputs": [
        {
          "output_type": "execute_result",
          "data": {
            "text/plain": [
              "tensor([[-0.1952, -0.7165],\n",
              "        [-0.8469, -0.1682]])"
            ]
          },
          "metadata": {
            "tags": []
          },
          "execution_count": 21
        }
      ]
    },
    {
      "cell_type": "code",
      "metadata": {
        "colab": {
          "base_uri": "https://localhost:8080/"
        },
        "id": "YA-scKvcoFsI",
        "outputId": "644bd5c9-acd2-4970-8a90-baab140a38c6"
      },
      "source": [
        "y.div_(x)"
      ],
      "execution_count": 22,
      "outputs": [
        {
          "output_type": "execute_result",
          "data": {
            "text/plain": [
              "tensor([[-0.1848, -0.5270],\n",
              "        [-0.7897, -0.1510]])"
            ]
          },
          "metadata": {
            "tags": []
          },
          "execution_count": 22
        }
      ]
    },
    {
      "cell_type": "code",
      "metadata": {
        "colab": {
          "base_uri": "https://localhost:8080/"
        },
        "id": "LVPbouLgoKNk",
        "outputId": "c7ba0804-229f-4f64-a894-7914cbaecedf"
      },
      "source": [
        " v = x.reshape(4)\n",
        " v"
      ],
      "execution_count": 23,
      "outputs": [
        {
          "output_type": "execute_result",
          "data": {
            "text/plain": [
              "tensor([1.0563, 1.3595, 1.0724, 1.1140])"
            ]
          },
          "metadata": {
            "tags": []
          },
          "execution_count": 23
        }
      ]
    },
    {
      "cell_type": "code",
      "metadata": {
        "colab": {
          "base_uri": "https://localhost:8080/"
        },
        "id": "MqDMiT0n0BnM",
        "outputId": "ef5d18c7-9d73-4e8d-ccb0-823ad7689e73"
      },
      "source": [
        "v[0] = 0\n",
        "x"
      ],
      "execution_count": 24,
      "outputs": [
        {
          "output_type": "execute_result",
          "data": {
            "text/plain": [
              "tensor([[0.0000, 1.3595],\n",
              "        [1.0724, 1.1140]])"
            ]
          },
          "metadata": {
            "tags": []
          },
          "execution_count": 24
        }
      ]
    },
    {
      "cell_type": "code",
      "metadata": {
        "colab": {
          "base_uri": "https://localhost:8080/"
        },
        "id": "JCu7vea90FeW",
        "outputId": "4e0d09e3-9498-4775-ac51-c7d73969f43a"
      },
      "source": [
        "x.view(4)\n"
      ],
      "execution_count": 25,
      "outputs": [
        {
          "output_type": "execute_result",
          "data": {
            "text/plain": [
              "tensor([0.0000, 1.3595, 1.0724, 1.1140])"
            ]
          },
          "metadata": {
            "tags": []
          },
          "execution_count": 25
        }
      ]
    },
    {
      "cell_type": "code",
      "metadata": {
        "colab": {
          "base_uri": "https://localhost:8080/"
        },
        "id": "j2twmBLF0O2f",
        "outputId": "33635594-69e8-4587-9e1c-ae08b87a055d"
      },
      "source": [
        "torch.device(\"cuda\")"
      ],
      "execution_count": 26,
      "outputs": [
        {
          "output_type": "execute_result",
          "data": {
            "text/plain": [
              "device(type='cuda')"
            ]
          },
          "metadata": {
            "tags": []
          },
          "execution_count": 26
        }
      ]
    },
    {
      "cell_type": "code",
      "metadata": {
        "id": "GixLkgxY0PeE",
        "colab": {
          "base_uri": "https://localhost:8080/",
          "height": 298
        },
        "outputId": "79a28aab-b50c-4da7-c79c-ed6ce1cbba0d"
      },
      "source": [
        "xx = x.to(\"cuda\")"
      ],
      "execution_count": 27,
      "outputs": [
        {
          "output_type": "error",
          "ename": "RuntimeError",
          "evalue": "ignored",
          "traceback": [
            "\u001b[0;31m---------------------------------------------------------------------------\u001b[0m",
            "\u001b[0;31mRuntimeError\u001b[0m                              Traceback (most recent call last)",
            "\u001b[0;32m<ipython-input-27-c28b7329993c>\u001b[0m in \u001b[0;36m<module>\u001b[0;34m()\u001b[0m\n\u001b[0;32m----> 1\u001b[0;31m \u001b[0mxx\u001b[0m \u001b[0;34m=\u001b[0m \u001b[0mx\u001b[0m\u001b[0;34m.\u001b[0m\u001b[0mto\u001b[0m\u001b[0;34m(\u001b[0m\u001b[0;34m\"cuda\"\u001b[0m\u001b[0;34m)\u001b[0m\u001b[0;34m\u001b[0m\u001b[0;34m\u001b[0m\u001b[0m\n\u001b[0m",
            "\u001b[0;32m/usr/local/lib/python3.7/dist-packages/torch/cuda/__init__.py\u001b[0m in \u001b[0;36m_lazy_init\u001b[0;34m()\u001b[0m\n\u001b[1;32m    168\u001b[0m         \u001b[0;31m# This function throws if there's a driver initialization error, no GPUs\u001b[0m\u001b[0;34m\u001b[0m\u001b[0;34m\u001b[0m\u001b[0;34m\u001b[0m\u001b[0m\n\u001b[1;32m    169\u001b[0m         \u001b[0;31m# are found or any other error occurs\u001b[0m\u001b[0;34m\u001b[0m\u001b[0;34m\u001b[0m\u001b[0;34m\u001b[0m\u001b[0m\n\u001b[0;32m--> 170\u001b[0;31m         \u001b[0mtorch\u001b[0m\u001b[0;34m.\u001b[0m\u001b[0m_C\u001b[0m\u001b[0;34m.\u001b[0m\u001b[0m_cuda_init\u001b[0m\u001b[0;34m(\u001b[0m\u001b[0;34m)\u001b[0m\u001b[0;34m\u001b[0m\u001b[0;34m\u001b[0m\u001b[0m\n\u001b[0m\u001b[1;32m    171\u001b[0m         \u001b[0;31m# Some of the queued calls may reentrantly call _lazy_init();\u001b[0m\u001b[0;34m\u001b[0m\u001b[0;34m\u001b[0m\u001b[0;34m\u001b[0m\u001b[0m\n\u001b[1;32m    172\u001b[0m         \u001b[0;31m# we need to just return without initializing in that case.\u001b[0m\u001b[0;34m\u001b[0m\u001b[0;34m\u001b[0m\u001b[0;34m\u001b[0m\u001b[0m\n",
            "\u001b[0;31mRuntimeError\u001b[0m: No CUDA GPUs are available"
          ]
        }
      ]
    },
    {
      "cell_type": "code",
      "metadata": {
        "id": "OfHzfN8Q11HH"
      },
      "source": [
        "xx.device"
      ],
      "execution_count": null,
      "outputs": []
    },
    {
      "cell_type": "code",
      "metadata": {
        "id": "v_OxYx2W2Mf-"
      },
      "source": [
        ""
      ],
      "execution_count": null,
      "outputs": []
    },
    {
      "cell_type": "markdown",
      "metadata": {
        "id": "5Q3u03a82hjf"
      },
      "source": [
        "# Autograd"
      ]
    },
    {
      "cell_type": "code",
      "metadata": {
        "colab": {
          "base_uri": "https://localhost:8080/"
        },
        "id": "sQQOoJwS2miU",
        "outputId": "4a881ce1-7b79-4173-b50c-1f5db0441cce"
      },
      "source": [
        "x = torch.tensor([1.0,2.0,3.0], dtype=torch.float16, requires_grad=True)\n",
        "x"
      ],
      "execution_count": 28,
      "outputs": [
        {
          "output_type": "execute_result",
          "data": {
            "text/plain": [
              "tensor([1., 2., 3.], dtype=torch.float16, requires_grad=True)"
            ]
          },
          "metadata": {
            "tags": []
          },
          "execution_count": 28
        }
      ]
    },
    {
      "cell_type": "code",
      "metadata": {
        "colab": {
          "base_uri": "https://localhost:8080/"
        },
        "id": "eTaZV0qP23lE",
        "outputId": "19a186fa-d533-410f-cae1-9e6e9853dfe7"
      },
      "source": [
        "x.device"
      ],
      "execution_count": 29,
      "outputs": [
        {
          "output_type": "execute_result",
          "data": {
            "text/plain": [
              "device(type='cpu')"
            ]
          },
          "metadata": {
            "tags": []
          },
          "execution_count": 29
        }
      ]
    },
    {
      "cell_type": "code",
      "metadata": {
        "id": "eImIhgcS5O-a"
      },
      "source": [
        "x.grad"
      ],
      "execution_count": 30,
      "outputs": []
    },
    {
      "cell_type": "code",
      "metadata": {
        "colab": {
          "base_uri": "https://localhost:8080/"
        },
        "id": "B-41GDwz3i7N",
        "outputId": "40f77813-bc36-4d9b-e9c0-2281cd0a643c"
      },
      "source": [
        "y = x*x + 2\n",
        "z = y.mean()\n",
        "x,y,z"
      ],
      "execution_count": 31,
      "outputs": [
        {
          "output_type": "execute_result",
          "data": {
            "text/plain": [
              "(tensor([1., 2., 3.], dtype=torch.float16, requires_grad=True),\n",
              " tensor([ 3.,  6., 11.], dtype=torch.float16, grad_fn=<AddBackward0>),\n",
              " tensor(6.6680, dtype=torch.float16, grad_fn=<MeanBackward0>))"
            ]
          },
          "metadata": {
            "tags": []
          },
          "execution_count": 31
        }
      ]
    },
    {
      "cell_type": "code",
      "metadata": {
        "id": "EDsKgBaG5Vnq"
      },
      "source": [
        "x.grad"
      ],
      "execution_count": 32,
      "outputs": []
    },
    {
      "cell_type": "code",
      "metadata": {
        "id": "LqavPDoL3kP0"
      },
      "source": [
        "z.backward()"
      ],
      "execution_count": 33,
      "outputs": []
    },
    {
      "cell_type": "code",
      "metadata": {
        "colab": {
          "base_uri": "https://localhost:8080/"
        },
        "id": "Ee2_jSHc4IcP",
        "outputId": "8c9e75d7-4a66-4156-9072-495b822e25eb"
      },
      "source": [
        "x.grad"
      ],
      "execution_count": 34,
      "outputs": [
        {
          "output_type": "execute_result",
          "data": {
            "text/plain": [
              "tensor([0.6665, 1.3330, 2.0000], dtype=torch.float16)"
            ]
          },
          "metadata": {
            "tags": []
          },
          "execution_count": 34
        }
      ]
    },
    {
      "cell_type": "code",
      "metadata": {
        "colab": {
          "base_uri": "https://localhost:8080/"
        },
        "id": "yhxqbgQq4Jmk",
        "outputId": "26eef6c0-0f84-45da-9bd4-9189b5618ce2"
      },
      "source": [
        "dz_dy = 1 / 3\n",
        "dz_dx = dz_dy * 2*x\n",
        "dz_dy, dz_dx"
      ],
      "execution_count": 35,
      "outputs": [
        {
          "output_type": "execute_result",
          "data": {
            "text/plain": [
              "(0.3333333333333333,\n",
              " tensor([0.6665, 1.3330, 2.0000], dtype=torch.float16, grad_fn=<MulBackward0>))"
            ]
          },
          "metadata": {
            "tags": []
          },
          "execution_count": 35
        }
      ]
    },
    {
      "cell_type": "code",
      "metadata": {
        "colab": {
          "base_uri": "https://localhost:8080/"
        },
        "id": "O9KPtLXa4jnl",
        "outputId": "37fb73cf-9167-45cc-a712-2ac199044d57"
      },
      "source": [
        "x.grad"
      ],
      "execution_count": 36,
      "outputs": [
        {
          "output_type": "execute_result",
          "data": {
            "text/plain": [
              "tensor([0.6665, 1.3330, 2.0000], dtype=torch.float16)"
            ]
          },
          "metadata": {
            "tags": []
          },
          "execution_count": 36
        }
      ]
    },
    {
      "cell_type": "code",
      "metadata": {
        "colab": {
          "base_uri": "https://localhost:8080/"
        },
        "id": "IYYn3PdJ4of1",
        "outputId": "7b5c524a-466b-4399-fe9b-e8fb45af96b2"
      },
      "source": [
        "t = x.detach()\n",
        "t"
      ],
      "execution_count": 37,
      "outputs": [
        {
          "output_type": "execute_result",
          "data": {
            "text/plain": [
              "tensor([1., 2., 3.], dtype=torch.float16)"
            ]
          },
          "metadata": {
            "tags": []
          },
          "execution_count": 37
        }
      ]
    },
    {
      "cell_type": "code",
      "metadata": {
        "colab": {
          "base_uri": "https://localhost:8080/"
        },
        "id": "BzhIQtIj50GW",
        "outputId": "62a1297f-d3fa-46d5-aa2c-7d6879db850a"
      },
      "source": [
        "import torch.tensor as tn\n",
        "x = tn(1)\n",
        "w = tn(1.0, requires_grad=True)\n",
        "y = tn(2)\n",
        "x,w,y"
      ],
      "execution_count": 38,
      "outputs": [
        {
          "output_type": "execute_result",
          "data": {
            "text/plain": [
              "(tensor(1), tensor(1., requires_grad=True), tensor(2))"
            ]
          },
          "metadata": {
            "tags": []
          },
          "execution_count": 38
        }
      ]
    },
    {
      "cell_type": "code",
      "metadata": {
        "colab": {
          "base_uri": "https://localhost:8080/"
        },
        "id": "rC63t8LD6K8u",
        "outputId": "d95afc8d-88ae-41bc-a8b3-c84df6ba5099"
      },
      "source": [
        "y_hat = x*w\n",
        "loss = (y-y_hat)**2\n",
        "loss"
      ],
      "execution_count": 39,
      "outputs": [
        {
          "output_type": "execute_result",
          "data": {
            "text/plain": [
              "tensor(1., grad_fn=<PowBackward0>)"
            ]
          },
          "metadata": {
            "tags": []
          },
          "execution_count": 39
        }
      ]
    },
    {
      "cell_type": "code",
      "metadata": {
        "id": "rc4aINPX6wh2"
      },
      "source": [
        "loss.backward()\n",
        "w.grad"
      ],
      "execution_count": null,
      "outputs": []
    },
    {
      "cell_type": "code",
      "metadata": {
        "id": "RmGfnmKb60hW"
      },
      "source": [
        "w.grad.zeros_()"
      ],
      "execution_count": null,
      "outputs": []
    },
    {
      "cell_type": "markdown",
      "metadata": {
        "id": "ovW49RQS6qdf"
      },
      "source": [
        "## Linear Regression\n",
        "## Manual"
      ]
    },
    {
      "cell_type": "code",
      "metadata": {
        "id": "rBCL3z4P7UeL"
      },
      "source": [
        "from matplotlib import pyplot as plt"
      ],
      "execution_count": 41,
      "outputs": []
    },
    {
      "cell_type": "code",
      "metadata": {
        "colab": {
          "base_uri": "https://localhost:8080/"
        },
        "id": "tISV10H56qC2",
        "outputId": "1ce524c5-9beb-4d0c-e96a-6408be96cebb"
      },
      "source": [
        "x = torch.arange(-10,10,.1)\n",
        "x"
      ],
      "execution_count": 42,
      "outputs": [
        {
          "output_type": "execute_result",
          "data": {
            "text/plain": [
              "tensor([-1.0000e+01, -9.9000e+00, -9.8000e+00, -9.7000e+00, -9.6000e+00,\n",
              "        -9.5000e+00, -9.4000e+00, -9.3000e+00, -9.2000e+00, -9.1000e+00,\n",
              "        -9.0000e+00, -8.9000e+00, -8.8000e+00, -8.7000e+00, -8.6000e+00,\n",
              "        -8.5000e+00, -8.4000e+00, -8.3000e+00, -8.2000e+00, -8.1000e+00,\n",
              "        -8.0000e+00, -7.9000e+00, -7.8000e+00, -7.7000e+00, -7.6000e+00,\n",
              "        -7.5000e+00, -7.4000e+00, -7.3000e+00, -7.2000e+00, -7.1000e+00,\n",
              "        -7.0000e+00, -6.9000e+00, -6.8000e+00, -6.7000e+00, -6.6000e+00,\n",
              "        -6.5000e+00, -6.4000e+00, -6.3000e+00, -6.2000e+00, -6.1000e+00,\n",
              "        -6.0000e+00, -5.9000e+00, -5.8000e+00, -5.7000e+00, -5.6000e+00,\n",
              "        -5.5000e+00, -5.4000e+00, -5.3000e+00, -5.2000e+00, -5.1000e+00,\n",
              "        -5.0000e+00, -4.9000e+00, -4.8000e+00, -4.7000e+00, -4.6000e+00,\n",
              "        -4.5000e+00, -4.4000e+00, -4.3000e+00, -4.2000e+00, -4.1000e+00,\n",
              "        -4.0000e+00, -3.9000e+00, -3.8000e+00, -3.7000e+00, -3.6000e+00,\n",
              "        -3.5000e+00, -3.4000e+00, -3.3000e+00, -3.2000e+00, -3.1000e+00,\n",
              "        -3.0000e+00, -2.9000e+00, -2.8000e+00, -2.7000e+00, -2.6000e+00,\n",
              "        -2.5000e+00, -2.4000e+00, -2.3000e+00, -2.2000e+00, -2.1000e+00,\n",
              "        -2.0000e+00, -1.9000e+00, -1.8000e+00, -1.7000e+00, -1.6000e+00,\n",
              "        -1.5000e+00, -1.4000e+00, -1.3000e+00, -1.2000e+00, -1.1000e+00,\n",
              "        -1.0000e+00, -9.0000e-01, -8.0000e-01, -7.0000e-01, -6.0000e-01,\n",
              "        -5.0000e-01, -4.0000e-01, -3.0000e-01, -2.0000e-01, -1.0000e-01,\n",
              "        -5.9605e-09,  1.0000e-01,  2.0000e-01,  3.0000e-01,  4.0000e-01,\n",
              "         5.0000e-01,  6.0000e-01,  7.0000e-01,  8.0000e-01,  9.0000e-01,\n",
              "         1.0000e+00,  1.1000e+00,  1.2000e+00,  1.3000e+00,  1.4000e+00,\n",
              "         1.5000e+00,  1.6000e+00,  1.7000e+00,  1.8000e+00,  1.9000e+00,\n",
              "         2.0000e+00,  2.1000e+00,  2.2000e+00,  2.3000e+00,  2.4000e+00,\n",
              "         2.5000e+00,  2.6000e+00,  2.7000e+00,  2.8000e+00,  2.9000e+00,\n",
              "         3.0000e+00,  3.1000e+00,  3.2000e+00,  3.3000e+00,  3.4000e+00,\n",
              "         3.5000e+00,  3.6000e+00,  3.7000e+00,  3.8000e+00,  3.9000e+00,\n",
              "         4.0000e+00,  4.1000e+00,  4.2000e+00,  4.3000e+00,  4.4000e+00,\n",
              "         4.5000e+00,  4.6000e+00,  4.7000e+00,  4.8000e+00,  4.9000e+00,\n",
              "         5.0000e+00,  5.1000e+00,  5.2000e+00,  5.3000e+00,  5.4000e+00,\n",
              "         5.5000e+00,  5.6000e+00,  5.7000e+00,  5.8000e+00,  5.9000e+00,\n",
              "         6.0000e+00,  6.1000e+00,  6.2000e+00,  6.3000e+00,  6.4000e+00,\n",
              "         6.5000e+00,  6.6000e+00,  6.7000e+00,  6.8000e+00,  6.9000e+00,\n",
              "         7.0000e+00,  7.1000e+00,  7.2000e+00,  7.3000e+00,  7.4000e+00,\n",
              "         7.5000e+00,  7.6000e+00,  7.7000e+00,  7.8000e+00,  7.9000e+00,\n",
              "         8.0000e+00,  8.1000e+00,  8.2000e+00,  8.3000e+00,  8.4000e+00,\n",
              "         8.5000e+00,  8.6000e+00,  8.7000e+00,  8.8000e+00,  8.9000e+00,\n",
              "         9.0000e+00,  9.1000e+00,  9.2000e+00,  9.3000e+00,  9.4000e+00,\n",
              "         9.5000e+00,  9.6000e+00,  9.7000e+00,  9.8000e+00,  9.9000e+00])"
            ]
          },
          "metadata": {
            "tags": []
          },
          "execution_count": 42
        }
      ]
    },
    {
      "cell_type": "code",
      "metadata": {
        "colab": {
          "base_uri": "https://localhost:8080/"
        },
        "id": "3PR7MTk764io",
        "outputId": "7b5b0d05-b0bd-4372-87f5-d5a3f51a82a8"
      },
      "source": [
        "def f(x): return 2*x + 5\n",
        "noise = torch.randn_like(x)\n",
        "y = f(x) + 2*noise\n",
        "y"
      ],
      "execution_count": 88,
      "outputs": [
        {
          "output_type": "execute_result",
          "data": {
            "text/plain": [
              "tensor([-4.3460e-01, -3.3771e-01, -3.6865e-03,  ...,  8.7024e+00,\n",
              "         9.3793e+00,  1.1081e+01])"
            ]
          },
          "metadata": {
            "tags": []
          },
          "execution_count": 88
        }
      ]
    },
    {
      "cell_type": "code",
      "metadata": {
        "colab": {
          "base_uri": "https://localhost:8080/",
          "height": 265
        },
        "id": "wkVXGQaE7bWe",
        "outputId": "0d466c3b-764f-4ec7-f61a-6658ef504d79"
      },
      "source": [
        "plt.scatter(x,y, s= .8);"
      ],
      "execution_count": 89,
      "outputs": [
        {
          "output_type": "display_data",
          "data": {
            "image/png": "[encoded data removed]",
            "text/plain": [
              "<Figure size 432x288 with 1 Axes>"
            ]
          },
          "metadata": {
            "tags": [],
            "needs_background": "light"
          }
        }
      ]
    },
    {
      "cell_type": "code",
      "metadata": {
        "colab": {
          "base_uri": "https://localhost:8080/"
        },
        "id": "I8eoYkmI7c9H",
        "outputId": "2993c1da-d4dd-4ddf-9bcc-da1db127ae62"
      },
      "source": [
        "w = torch.zeros_like(x, requires_grad=True)\n",
        "b = torch.tensor(0.0, requires_grad=True)\n",
        "w,b"
      ],
      "execution_count": 90,
      "outputs": [
        {
          "output_type": "execute_result",
          "data": {
            "text/plain": [
              "(tensor([0., 0., 0.,  ..., 0., 0., 0.], requires_grad=True),\n",
              " tensor(0., requires_grad=True))"
            ]
          },
          "metadata": {
            "tags": []
          },
          "execution_count": 90
        }
      ]
    },
    {
      "cell_type": "code",
      "metadata": {
        "id": "YkNIKegf7z7r"
      },
      "source": [
        "w = torch.zeros_like(x, requires_grad=True)\n",
        "b = torch.tensor(0.0, requires_grad=True)\n",
        "lr = 0.1\n",
        "loss = torch.nn.MSELoss()\n",
        "\n",
        "for epoch in range(1001):\n",
        "    # Forward pass\n",
        "    y_hat = w*x + b\n",
        "    L = loss(y_hat,y)\n",
        "    if not epoch%100: print(f\"epoch: {epoch} MSE: {L:.4f}\")\n",
        "    \n",
        "    # Backward pass\n",
        "    L.backward()\n",
        "    with torch.no_grad():\n",
        "        w -= lr * w.grad\n",
        "        b -= lr * b.grad\n",
        "\n",
        "        b.grad = None\n",
        "        w.grad = None\n"
      ],
      "execution_count": null,
      "outputs": []
    },
    {
      "cell_type": "code",
      "metadata": {
        "colab": {
          "base_uri": "https://localhost:8080/"
        },
        "id": "QZ-xDjAF-95M",
        "outputId": "721b0424-991a-4afd-b5a3-952671e1b293"
      },
      "source": [
        "w.is_leaf"
      ],
      "execution_count": 108,
      "outputs": [
        {
          "output_type": "execute_result",
          "data": {
            "text/plain": [
              "True"
            ]
          },
          "metadata": {
            "tags": []
          },
          "execution_count": 108
        }
      ]
    },
    {
      "cell_type": "code",
      "metadata": {
        "colab": {
          "base_uri": "https://localhost:8080/"
        },
        "id": "n-aOXQtRPOnO",
        "outputId": "dfc489c0-7883-41da-f357-45e659fbc604"
      },
      "source": [
        "def show_ids(*arg):\n",
        "    for x in arg:\n",
        "        print(id(x))\n",
        "\n",
        "\n",
        "w = torch.zeros_like(x, requires_grad=True)\n",
        "b = torch.tensor(0.0, requires_grad=True)\n",
        "lr = 0.1\n",
        "loss = torch.nn.MSELoss()\n",
        "\n",
        "for epoch in range(1001):\n",
        "    # Forward pass\n",
        "    y_hat = w*x + b\n",
        "    L = loss(y_hat,y)\n",
        "    if not epoch%100: print(f\"epoch: {epoch} MSE: {L:.4f}\")\n",
        "    \n",
        "    # w,b require grads\n",
        "    # show_ids(w,b)\n",
        "    \n",
        "    # Backward pass\n",
        "    L.backward()\n",
        "    with torch.no_grad():\n",
        "        w = w - lr * w.grad\n",
        "        b = b - lr * b.grad\n",
        "        # w,b are new objects now, which are created with rg = False due to no_grad()\n",
        "        # w,b are still leaf tensors\n",
        "\n",
        "        # turn on the rg flag\n",
        "        w.requires_grad_()\n",
        "        b.requires_grad_()\n",
        "\n",
        "    # show_ids(w,b)"
      ],
      "execution_count": 223,
      "outputs": [
        {
          "output_type": "stream",
          "text": [
            "epoch: 0 MSE: 0.4997\n",
            "epoch: 100 MSE: 0.4729\n",
            "epoch: 200 MSE: 0.4481\n",
            "epoch: 300 MSE: 0.4252\n",
            "epoch: 400 MSE: 0.4039\n",
            "epoch: 500 MSE: 0.3841\n",
            "epoch: 600 MSE: 0.3658\n",
            "epoch: 700 MSE: 0.3487\n",
            "epoch: 800 MSE: 0.3327\n",
            "epoch: 900 MSE: 0.3178\n",
            "epoch: 1000 MSE: 0.3039\n"
          ],
          "name": "stdout"
        }
      ]
    },
    {
      "cell_type": "code",
      "metadata": {
        "colab": {
          "base_uri": "https://localhost:8080/"
        },
        "id": "uNwrU8JDCCQA",
        "outputId": "6ce54152-f89a-4bf4-b36c-3cbcd1c30322"
      },
      "source": [
        "# -*- coding: utf-8 -*-\n",
        "import torch\n",
        "import math\n",
        "\n",
        "dtype = torch.float\n",
        "device = torch.device(\"cpu\")\n",
        "# device = torch.device(\"cuda:0\")  # Uncomment this to run on GPU\n",
        "\n",
        "# Create Tensors to hold input and outputs.\n",
        "# By default, requires_grad=False, which indicates that we do not need to\n",
        "# compute gradients with respect to these Tensors during the backward pass.\n",
        "x = torch.linspace(-math.pi, math.pi, 2000, device=device, dtype=dtype)\n",
        "y = torch.sin(x)\n",
        "\n",
        "# Create random Tensors for weights. For a third order polynomial, we need\n",
        "# 4 weights: y = a + b x + c x^2 + d x^3\n",
        "# Setting requires_grad=True indicates that we want to compute gradients with\n",
        "# respect to these Tensors during the backward pass.\n",
        "a = torch.randn((), device=device, dtype=dtype, requires_grad=True)\n",
        "b = torch.randn((), device=device, dtype=dtype, requires_grad=True)\n",
        "c = torch.randn((), device=device, dtype=dtype, requires_grad=True)\n",
        "d = torch.randn((), device=device, dtype=dtype, requires_grad=True)\n",
        "\n",
        "learning_rate = 1e-6\n",
        "for t in range(2000):\n",
        "    # Forward pass: compute predicted y using operations on Tensors.\n",
        "    y_pred = a + b * x + c * x ** 2 + d * x ** 3\n",
        "    # Compute and print loss using operations on Tensors.\n",
        "    # Now loss is a Tensor of shape (1,)\n",
        "    # loss.item() gets the scalar value held in the loss.\n",
        "    loss = (y_pred - y).pow(2).sum()\n",
        "    if t % 100 == 99:\n",
        "        print(t, loss.item())\n",
        "\n",
        "    # Use autograd to compute the backward pass. This call will compute the\n",
        "    # gradient of loss with respect to all Tensors with requires_grad=True.\n",
        "    # After this call a.grad, b.grad. c.grad and d.grad will be Tensors holding\n",
        "    # the gradient of the loss with respect to a, b, c, d respectively.\n",
        "    loss.backward()\n",
        "\n",
        "    # Manually update weights using gradient descent. Wrap in torch.no_grad()\n",
        "    # because weights have requires_grad=True, but we don't need to track this\n",
        "    # in autograd.\n",
        "    with torch.no_grad():\n",
        "        a -= learning_rate * a.grad\n",
        "        b -= learning_rate * b.grad\n",
        "        c -= learning_rate * c.grad\n",
        "        d -= learning_rate * d.grad\n",
        "\n",
        "        # Manually zero the gradients after updating weights\n",
        "        a.grad = None\n",
        "        b.grad = None\n",
        "        c.grad = None\n",
        "        d.grad = None\n",
        "\n",
        "print(f'Result: y = {a.item()} + {b.item()} x + {c.item()} x^2 + {d.item()} x^3')"
      ],
      "execution_count": 105,
      "outputs": [
        {
          "output_type": "stream",
          "text": [
            "99 2496.44140625\n",
            "199 1656.6026611328125\n",
            "299 1100.4300537109375\n",
            "399 732.07177734375\n",
            "499 488.07818603515625\n",
            "599 326.4422912597656\n",
            "699 219.35202026367188\n",
            "799 148.39083862304688\n",
            "899 101.3631591796875\n",
            "999 70.19212341308594\n",
            "1099 49.528053283691406\n",
            "1199 35.82678985595703\n",
            "1299 26.740758895874023\n",
            "1399 20.71402931213379\n",
            "1499 16.715747833251953\n",
            "1599 14.062570571899414\n",
            "1699 12.301624298095703\n",
            "1799 11.132506370544434\n",
            "1899 10.356170654296875\n",
            "1999 9.840470314025879\n",
            "Result: y = 0.009812860749661922 + 0.8269791603088379 x + -0.0016928815748542547 x^2 + -0.0890970453619957 x^3\n"
          ],
          "name": "stdout"
        }
      ]
    },
    {
      "cell_type": "code",
      "metadata": {
        "id": "nuS0hhp1CJcv"
      },
      "source": [
        "dt = torch.float\n",
        "a = torch.tensor((2),dtype=dt, requires_grad=True)\n",
        "b = torch.tensor((1))"
      ],
      "execution_count": 195,
      "outputs": []
    },
    {
      "cell_type": "code",
      "metadata": {
        "id": "WLtNPyKyeDgo"
      },
      "source": [
        "p = a + b\n",
        "p.backward()"
      ],
      "execution_count": 196,
      "outputs": []
    },
    {
      "cell_type": "code",
      "metadata": {
        "id": "bmSIvwhof11D"
      },
      "source": [
        "def show_is_leaf(*arg):\n",
        "    for x in arg:\n",
        "        print(x.is_leaf)"
      ],
      "execution_count": 197,
      "outputs": []
    },
    {
      "cell_type": "code",
      "metadata": {
        "colab": {
          "base_uri": "https://localhost:8080/"
        },
        "id": "q6ddN3UeI5Do",
        "outputId": "00eb4b65-4fc0-4fca-ea62-11a6cdc41c6c"
      },
      "source": [
        "show_is_leaf(p,a,b)\n",
        "p,a,b"
      ],
      "execution_count": 198,
      "outputs": [
        {
          "output_type": "stream",
          "text": [
            "False\n",
            "True\n",
            "True\n"
          ],
          "name": "stdout"
        },
        {
          "output_type": "execute_result",
          "data": {
            "text/plain": [
              "(tensor(3., grad_fn=<AddBackward0>), tensor(2., requires_grad=True), tensor(1))"
            ]
          },
          "metadata": {
            "tags": []
          },
          "execution_count": 198
        }
      ]
    },
    {
      "cell_type": "code",
      "metadata": {
        "colab": {
          "base_uri": "https://localhost:8080/"
        },
        "id": "ZhoFoX2yaMuN",
        "outputId": "bbd29bd3-18ef-43e2-a9a5-1cda1a3aa21f"
      },
      "source": [
        "a.grad"
      ],
      "execution_count": 199,
      "outputs": [
        {
          "output_type": "execute_result",
          "data": {
            "text/plain": [
              "tensor(1.)"
            ]
          },
          "metadata": {
            "tags": []
          },
          "execution_count": 199
        }
      ]
    },
    {
      "cell_type": "code",
      "metadata": {
        "colab": {
          "base_uri": "https://localhost:8080/"
        },
        "id": "oZrEAI3uaRVg",
        "outputId": "806dcbd4-dbcc-40ab-ed1d-8f46135ce785"
      },
      "source": [
        "a = a + a.grad*5\n",
        "a, a.requires_grad"
      ],
      "execution_count": 200,
      "outputs": [
        {
          "output_type": "execute_result",
          "data": {
            "text/plain": [
              "(tensor(7., grad_fn=<AddBackward0>), True)"
            ]
          },
          "metadata": {
            "tags": []
          },
          "execution_count": 200
        }
      ]
    },
    {
      "cell_type": "markdown",
      "metadata": {
        "id": "Vjb5RJL-qSWs"
      },
      "source": [
        "A is no more leaf because it was created by an operation and it has rg = True"
      ]
    },
    {
      "cell_type": "code",
      "metadata": {
        "colab": {
          "base_uri": "https://localhost:8080/",
          "height": 189
        },
        "id": "WtgRHDF5wRxe",
        "outputId": "de0b07c3-3e80-4371-fb13-7076a45a20a7"
      },
      "source": [
        "a.requires_grad = False"
      ],
      "execution_count": 225,
      "outputs": [
        {
          "output_type": "error",
          "ename": "RuntimeError",
          "evalue": "ignored",
          "traceback": [
            "\u001b[0;31m---------------------------------------------------------------------------\u001b[0m",
            "\u001b[0;31mRuntimeError\u001b[0m                              Traceback (most recent call last)",
            "\u001b[0;32m<ipython-input-225-fdc2cff0a844>\u001b[0m in \u001b[0;36m<module>\u001b[0;34m()\u001b[0m\n\u001b[0;32m----> 1\u001b[0;31m \u001b[0ma\u001b[0m\u001b[0;34m.\u001b[0m\u001b[0mrequires_grad\u001b[0m \u001b[0;34m=\u001b[0m \u001b[0;32mFalse\u001b[0m\u001b[0;34m\u001b[0m\u001b[0;34m\u001b[0m\u001b[0m\n\u001b[0m",
            "\u001b[0;31mRuntimeError\u001b[0m: you can only change requires_grad flags of leaf variables. If you want to use a computed variable in a subgraph that doesn't require differentiation use var_no_grad = var.detach()."
          ]
        }
      ]
    },
    {
      "cell_type": "code",
      "metadata": {
        "colab": {
          "base_uri": "https://localhost:8080/"
        },
        "id": "EOkN2I_XaTlo",
        "outputId": "ac0b1da1-d895-4764-8eb7-9867ea455a96"
      },
      "source": [
        "show_is_leaf(p,a,b)\n",
        "p,a,b"
      ],
      "execution_count": 201,
      "outputs": [
        {
          "output_type": "stream",
          "text": [
            "False\n",
            "False\n",
            "True\n"
          ],
          "name": "stdout"
        },
        {
          "output_type": "execute_result",
          "data": {
            "text/plain": [
              "(tensor(3., grad_fn=<AddBackward0>),\n",
              " tensor(7., grad_fn=<AddBackward0>),\n",
              " tensor(1))"
            ]
          },
          "metadata": {
            "tags": []
          },
          "execution_count": 201
        }
      ]
    },
    {
      "cell_type": "markdown",
      "metadata": {
        "id": "bgFLfjx4rI4r"
      },
      "source": [
        "b has rg = False, so it is leaf tensor by conv."
      ]
    },
    {
      "cell_type": "markdown",
      "metadata": {
        "id": "0P6tZDa6d-Gi"
      },
      "source": [
        "b.requires_grad\n"
      ]
    },
    {
      "cell_type": "code",
      "metadata": {
        "colab": {
          "base_uri": "https://localhost:8080/"
        },
        "id": "cw3cQgcsjHQ0",
        "outputId": "75ace35a-bd82-4b70-f876-c11b6408748a"
      },
      "source": [
        "c = b*5\n",
        "c.is_leaf"
      ],
      "execution_count": 211,
      "outputs": [
        {
          "output_type": "execute_result",
          "data": {
            "text/plain": [
              "True"
            ]
          },
          "metadata": {
            "tags": []
          },
          "execution_count": 211
        }
      ]
    },
    {
      "cell_type": "code",
      "metadata": {
        "colab": {
          "base_uri": "https://localhost:8080/"
        },
        "id": "ZZ55sjTgp4o-",
        "outputId": "019f8fca-83ed-49e6-b92d-d00aa9452ad0"
      },
      "source": [
        "c.requires_grad"
      ],
      "execution_count": 212,
      "outputs": [
        {
          "output_type": "execute_result",
          "data": {
            "text/plain": [
              "False"
            ]
          },
          "metadata": {
            "tags": []
          },
          "execution_count": 212
        }
      ]
    },
    {
      "cell_type": "markdown",
      "metadata": {
        "id": "WH29I5J3rgPD"
      },
      "source": [
        "c was created by an operation, but since it has rg = False, it is also a leaf tensor."
      ]
    },
    {
      "cell_type": "code",
      "metadata": {
        "colab": {
          "base_uri": "https://localhost:8080/"
        },
        "id": "6W3byjotrot6",
        "outputId": "36e2cbe2-8121-4986-a05f-a6441f5ded9e"
      },
      "source": [
        "d = a * 5\n",
        "d"
      ],
      "execution_count": 213,
      "outputs": [
        {
          "output_type": "execute_result",
          "data": {
            "text/plain": [
              "tensor(35., grad_fn=<MulBackward0>)"
            ]
          },
          "metadata": {
            "tags": []
          },
          "execution_count": 213
        }
      ]
    },
    {
      "cell_type": "code",
      "metadata": {
        "colab": {
          "base_uri": "https://localhost:8080/"
        },
        "id": "WSP67t20rxBt",
        "outputId": "3fa1e534-2115-4a1a-b1c5-f86f28d4b204"
      },
      "source": [
        "d.is_leaf, d.requires_grad"
      ],
      "execution_count": 217,
      "outputs": [
        {
          "output_type": "execute_result",
          "data": {
            "text/plain": [
              "(False, True)"
            ]
          },
          "metadata": {
            "tags": []
          },
          "execution_count": 217
        }
      ]
    },
    {
      "cell_type": "markdown",
      "metadata": {
        "id": "xNekhhGJrzPr"
      },
      "source": [
        "d is created by an operation and it has rg = True, so it is not leaf tensor."
      ]
    },
    {
      "cell_type": "code",
      "metadata": {
        "colab": {
          "base_uri": "https://localhost:8080/"
        },
        "id": "MVBb1KYEr-Ga",
        "outputId": "28056ea6-806c-4779-c6b3-935d0d1e7506"
      },
      "source": [
        "with torch.no_grad():\n",
        "    e = a + d\n",
        "\n",
        "e.is_leaf, e.requires_grad"
      ],
      "execution_count": 218,
      "outputs": [
        {
          "output_type": "execute_result",
          "data": {
            "text/plain": [
              "(True, False)"
            ]
          },
          "metadata": {
            "tags": []
          },
          "execution_count": 218
        }
      ]
    },
    {
      "cell_type": "markdown",
      "metadata": {
        "id": "JkluKJX-sQLE"
      },
      "source": [
        "e is created by a function, but due to context manager all rg were switched off, so it has rg = False which makes it a leaf tensor."
      ]
    },
    {
      "cell_type": "markdown",
      "metadata": {
        "id": "1_e8c6Zjsg5K"
      },
      "source": [
        "## Summary of rg and leaf\n",
        "\n",
        "\n",
        "*   if t has rg == False, it is a leaf tensor\n",
        "*   if t has rg == True and\n",
        "\n",
        "    *   if was created by an operation, it is not a leaf tensor\n",
        "    *   it was created by user, it is a leaf tensor\n",
        "\n",
        "\n",
        "*   if t is a leaf tensor\n",
        "\n",
        "    *   with rg == True, it's gradient will be computed whenever we call backward\n",
        "    *   with rg == False, to compute gradients, we need to set rg = True\n",
        "\n",
        "\n",
        "*   if t is not a leaf tensor \n",
        "\n",
        "    - it always has rg = True\n",
        "    - to compute their gradients use retain_grad()\n",
        "    - we cannot set rg = False\n",
        "\n",
        "\n",
        "\n",
        "\n",
        "\n",
        "\n"
      ]
    },
    {
      "cell_type": "code",
      "metadata": {
        "colab": {
          "base_uri": "https://localhost:8080/"
        },
        "id": "ITEQkKzD-CYN",
        "outputId": "1664cd39-f423-4085-d4e3-cb2891b18584"
      },
      "source": [
        "y = 2*x + 3\n",
        "y"
      ],
      "execution_count": 227,
      "outputs": [
        {
          "output_type": "execute_result",
          "data": {
            "text/plain": [
              "tensor([-17.0000, -16.8000, -16.6000, -16.4000, -16.2000, -16.0000, -15.8000,\n",
              "        -15.6000, -15.4000, -15.2000, -15.0000, -14.8000, -14.6000, -14.4000,\n",
              "        -14.2000, -14.0000, -13.8000, -13.6000, -13.4000, -13.2000, -13.0000,\n",
              "        -12.8000, -12.6000, -12.4000, -12.2000, -12.0000, -11.8000, -11.6000,\n",
              "        -11.4000, -11.2000, -11.0000, -10.8000, -10.6000, -10.4000, -10.2000,\n",
              "        -10.0000,  -9.8000,  -9.6000,  -9.4000,  -9.2000,  -9.0000,  -8.8000,\n",
              "         -8.6000,  -8.4000,  -8.2000,  -8.0000,  -7.8000,  -7.6000,  -7.4000,\n",
              "         -7.2000,  -7.0000,  -6.8000,  -6.6000,  -6.4000,  -6.2000,  -6.0000,\n",
              "         -5.8000,  -5.6000,  -5.4000,  -5.2000,  -5.0000,  -4.8000,  -4.6000,\n",
              "         -4.4000,  -4.2000,  -4.0000,  -3.8000,  -3.6000,  -3.4000,  -3.2000,\n",
              "         -3.0000,  -2.8000,  -2.6000,  -2.4000,  -2.2000,  -2.0000,  -1.8000,\n",
              "         -1.6000,  -1.4000,  -1.2000,  -1.0000,  -0.8000,  -0.6000,  -0.4000,\n",
              "         -0.2000,   0.0000,   0.2000,   0.4000,   0.6000,   0.8000,   1.0000,\n",
              "          1.2000,   1.4000,   1.6000,   1.8000,   2.0000,   2.2000,   2.4000,\n",
              "          2.6000,   2.8000,   3.0000,   3.2000,   3.4000,   3.6000,   3.8000,\n",
              "          4.0000,   4.2000,   4.4000,   4.6000,   4.8000,   5.0000,   5.2000,\n",
              "          5.4000,   5.6000,   5.8000,   6.0000,   6.2000,   6.4000,   6.6000,\n",
              "          6.8000,   7.0000,   7.2000,   7.4000,   7.6000,   7.8000,   8.0000,\n",
              "          8.2000,   8.4000,   8.6000,   8.8000,   9.0000,   9.2000,   9.4000,\n",
              "          9.6000,   9.8000,  10.0000,  10.2000,  10.4000,  10.6000,  10.8000,\n",
              "         11.0000,  11.2000,  11.4000,  11.6000,  11.8000,  12.0000,  12.2000,\n",
              "         12.4000,  12.6000,  12.8000,  13.0000,  13.2000,  13.4000,  13.6000,\n",
              "         13.8000,  14.0000,  14.2000,  14.4000,  14.6000,  14.8000,  15.0000,\n",
              "         15.2000,  15.4000,  15.6000,  15.8000,  16.0000,  16.2000,  16.4000,\n",
              "         16.6000,  16.8000,  17.0000,  17.2000,  17.4000,  17.6000,  17.8000,\n",
              "         18.0000,  18.2000,  18.4000,  18.6000,  18.8000,  19.0000,  19.2000,\n",
              "         19.4000,  19.6000,  19.8000,  20.0000,  20.2000,  20.4000,  20.6000,\n",
              "         20.8000,  21.0000,  21.2000,  21.4000,  21.6000,  21.8000,  22.0000,\n",
              "         22.2000,  22.4000,  22.6000,  22.8000])"
            ]
          },
          "metadata": {
            "tags": []
          },
          "execution_count": 227
        }
      ]
    },
    {
      "cell_type": "code",
      "metadata": {
        "id": "-WxPmvfu-tQl"
      },
      "source": [
        "def forward(w,x,b):\n",
        "    return w*x + b"
      ],
      "execution_count": 258,
      "outputs": []
    },
    {
      "cell_type": "code",
      "metadata": {
        "id": "YigLA6an-U0T"
      },
      "source": [
        "w = torch.tensor(0.0, requires_grad= True)\n",
        "b = torch.tensor(0.0, requires_grad = True)\n",
        "lr = 0.01\n",
        "mse = torch.nn.MSELoss()\n",
        "optim = torch.optim.SGD([w,b],lr = lr)"
      ],
      "execution_count": 259,
      "outputs": []
    },
    {
      "cell_type": "code",
      "metadata": {
        "colab": {
          "base_uri": "https://localhost:8080/"
        },
        "id": "WTJJIEIg-qDx",
        "outputId": "d11950a5-4a08-48ea-873f-3698acf0d670"
      },
      "source": [
        "n_iters = 1000\n",
        "for epoch in range(n_iters):\n",
        "    # FP\n",
        "    y_pred = forward(w,x,b)\n",
        "\n",
        "    # loss\n",
        "    loss = mse(y_pred, y)\n",
        "\n",
        "    # BP\n",
        "    loss.backward()\n",
        "\n",
        "    # update\n",
        "    optim.step()\n",
        "\n",
        "    # remove\n",
        "    optim.zero_grad()\n",
        "\n",
        "    if epoch%10 == 0:\n",
        "        print(f\"epoch: {epoch+1} W: {w.item():.4f} b: {b.item():.4f} mse: {loss:.4f}\")"
      ],
      "execution_count": 260,
      "outputs": [
        {
          "output_type": "stream",
          "text": [
            "epoch: 1 W: 1.3304 b: 0.0580 mse: 141.7400\n",
            "epoch: 11 W: 1.9963 b: 0.5953 mse: 6.0206\n",
            "epoch: 21 W: 1.9970 b: 1.0351 mse: 4.0195\n",
            "epoch: 31 W: 1.9975 b: 1.3945 mse: 2.6835\n",
            "epoch: 41 W: 1.9980 b: 1.6882 mse: 1.7916\n",
            "epoch: 51 W: 1.9983 b: 1.9282 mse: 1.1961\n",
            "epoch: 61 W: 1.9986 b: 2.1242 mse: 0.7986\n",
            "epoch: 71 W: 1.9989 b: 2.2844 mse: 0.5332\n",
            "epoch: 81 W: 1.9991 b: 2.4153 mse: 0.3559\n",
            "epoch: 91 W: 1.9993 b: 2.5222 mse: 0.2376\n",
            "epoch: 101 W: 1.9994 b: 2.6096 mse: 0.1587\n",
            "epoch: 111 W: 1.9995 b: 2.6810 mse: 0.1059\n",
            "epoch: 121 W: 1.9996 b: 2.7394 mse: 0.0707\n",
            "epoch: 131 W: 1.9997 b: 2.7871 mse: 0.0472\n",
            "epoch: 141 W: 1.9997 b: 2.8260 mse: 0.0315\n",
            "epoch: 151 W: 1.9998 b: 2.8578 mse: 0.0210\n",
            "epoch: 161 W: 1.9998 b: 2.8838 mse: 0.0140\n",
            "epoch: 171 W: 1.9999 b: 2.9051 mse: 0.0094\n",
            "epoch: 181 W: 1.9999 b: 2.9224 mse: 0.0063\n",
            "epoch: 191 W: 1.9999 b: 2.9366 mse: 0.0042\n",
            "epoch: 201 W: 1.9999 b: 2.9482 mse: 0.0028\n",
            "epoch: 211 W: 1.9999 b: 2.9577 mse: 0.0019\n",
            "epoch: 221 W: 1.9999 b: 2.9654 mse: 0.0012\n",
            "epoch: 231 W: 2.0000 b: 2.9718 mse: 0.0008\n",
            "epoch: 241 W: 2.0000 b: 2.9769 mse: 0.0006\n",
            "epoch: 251 W: 2.0000 b: 2.9811 mse: 0.0004\n",
            "epoch: 261 W: 2.0000 b: 2.9846 mse: 0.0002\n",
            "epoch: 271 W: 2.0000 b: 2.9874 mse: 0.0002\n",
            "epoch: 281 W: 2.0000 b: 2.9897 mse: 0.0001\n",
            "epoch: 291 W: 2.0000 b: 2.9916 mse: 0.0001\n",
            "epoch: 301 W: 2.0000 b: 2.9931 mse: 0.0000\n",
            "epoch: 311 W: 2.0000 b: 2.9944 mse: 0.0000\n",
            "epoch: 321 W: 2.0000 b: 2.9954 mse: 0.0000\n",
            "epoch: 331 W: 2.0000 b: 2.9963 mse: 0.0000\n",
            "epoch: 341 W: 2.0000 b: 2.9969 mse: 0.0000\n",
            "epoch: 351 W: 2.0000 b: 2.9975 mse: 0.0000\n",
            "epoch: 361 W: 2.0000 b: 2.9980 mse: 0.0000\n",
            "epoch: 371 W: 2.0000 b: 2.9983 mse: 0.0000\n",
            "epoch: 381 W: 2.0000 b: 2.9986 mse: 0.0000\n",
            "epoch: 391 W: 2.0000 b: 2.9989 mse: 0.0000\n",
            "epoch: 401 W: 2.0000 b: 2.9991 mse: 0.0000\n",
            "epoch: 411 W: 2.0000 b: 2.9993 mse: 0.0000\n",
            "epoch: 421 W: 2.0000 b: 2.9994 mse: 0.0000\n",
            "epoch: 431 W: 2.0000 b: 2.9995 mse: 0.0000\n",
            "epoch: 441 W: 2.0000 b: 2.9996 mse: 0.0000\n",
            "epoch: 451 W: 2.0000 b: 2.9997 mse: 0.0000\n",
            "epoch: 461 W: 2.0000 b: 2.9997 mse: 0.0000\n",
            "epoch: 471 W: 2.0000 b: 2.9998 mse: 0.0000\n",
            "epoch: 481 W: 2.0000 b: 2.9998 mse: 0.0000\n",
            "epoch: 491 W: 2.0000 b: 2.9999 mse: 0.0000\n",
            "epoch: 501 W: 2.0000 b: 2.9999 mse: 0.0000\n",
            "epoch: 511 W: 2.0000 b: 2.9999 mse: 0.0000\n",
            "epoch: 521 W: 2.0000 b: 2.9999 mse: 0.0000\n",
            "epoch: 531 W: 2.0000 b: 2.9999 mse: 0.0000\n",
            "epoch: 541 W: 2.0000 b: 2.9999 mse: 0.0000\n",
            "epoch: 551 W: 2.0000 b: 3.0000 mse: 0.0000\n",
            "epoch: 561 W: 2.0000 b: 3.0000 mse: 0.0000\n",
            "epoch: 571 W: 2.0000 b: 3.0000 mse: 0.0000\n",
            "epoch: 581 W: 2.0000 b: 3.0000 mse: 0.0000\n",
            "epoch: 591 W: 2.0000 b: 3.0000 mse: 0.0000\n",
            "epoch: 601 W: 2.0000 b: 3.0000 mse: 0.0000\n",
            "epoch: 611 W: 2.0000 b: 3.0000 mse: 0.0000\n",
            "epoch: 621 W: 2.0000 b: 3.0000 mse: 0.0000\n",
            "epoch: 631 W: 2.0000 b: 3.0000 mse: 0.0000\n",
            "epoch: 641 W: 2.0000 b: 3.0000 mse: 0.0000\n",
            "epoch: 651 W: 2.0000 b: 3.0000 mse: 0.0000\n",
            "epoch: 661 W: 2.0000 b: 3.0000 mse: 0.0000\n",
            "epoch: 671 W: 2.0000 b: 3.0000 mse: 0.0000\n",
            "epoch: 681 W: 2.0000 b: 3.0000 mse: 0.0000\n",
            "epoch: 691 W: 2.0000 b: 3.0000 mse: 0.0000\n",
            "epoch: 701 W: 2.0000 b: 3.0000 mse: 0.0000\n",
            "epoch: 711 W: 2.0000 b: 3.0000 mse: 0.0000\n",
            "epoch: 721 W: 2.0000 b: 3.0000 mse: 0.0000\n",
            "epoch: 731 W: 2.0000 b: 3.0000 mse: 0.0000\n",
            "epoch: 741 W: 2.0000 b: 3.0000 mse: 0.0000\n",
            "epoch: 751 W: 2.0000 b: 3.0000 mse: 0.0000\n",
            "epoch: 761 W: 2.0000 b: 3.0000 mse: 0.0000\n",
            "epoch: 771 W: 2.0000 b: 3.0000 mse: 0.0000\n",
            "epoch: 781 W: 2.0000 b: 3.0000 mse: 0.0000\n",
            "epoch: 791 W: 2.0000 b: 3.0000 mse: 0.0000\n",
            "epoch: 801 W: 2.0000 b: 3.0000 mse: 0.0000\n",
            "epoch: 811 W: 2.0000 b: 3.0000 mse: 0.0000\n",
            "epoch: 821 W: 2.0000 b: 3.0000 mse: 0.0000\n",
            "epoch: 831 W: 2.0000 b: 3.0000 mse: 0.0000\n",
            "epoch: 841 W: 2.0000 b: 3.0000 mse: 0.0000\n",
            "epoch: 851 W: 2.0000 b: 3.0000 mse: 0.0000\n",
            "epoch: 861 W: 2.0000 b: 3.0000 mse: 0.0000\n",
            "epoch: 871 W: 2.0000 b: 3.0000 mse: 0.0000\n",
            "epoch: 881 W: 2.0000 b: 3.0000 mse: 0.0000\n",
            "epoch: 891 W: 2.0000 b: 3.0000 mse: 0.0000\n",
            "epoch: 901 W: 2.0000 b: 3.0000 mse: 0.0000\n",
            "epoch: 911 W: 2.0000 b: 3.0000 mse: 0.0000\n",
            "epoch: 921 W: 2.0000 b: 3.0000 mse: 0.0000\n",
            "epoch: 931 W: 2.0000 b: 3.0000 mse: 0.0000\n",
            "epoch: 941 W: 2.0000 b: 3.0000 mse: 0.0000\n",
            "epoch: 951 W: 2.0000 b: 3.0000 mse: 0.0000\n",
            "epoch: 961 W: 2.0000 b: 3.0000 mse: 0.0000\n",
            "epoch: 971 W: 2.0000 b: 3.0000 mse: 0.0000\n",
            "epoch: 981 W: 2.0000 b: 3.0000 mse: 0.0000\n",
            "epoch: 991 W: 2.0000 b: 3.0000 mse: 0.0000\n"
          ],
          "name": "stdout"
        }
      ]
    },
    {
      "cell_type": "code",
      "metadata": {
        "colab": {
          "base_uri": "https://localhost:8080/"
        },
        "id": "DdTVVgqT_3ts",
        "outputId": "3f62e79e-d989-4b84-b59f-f6e43601d65f"
      },
      "source": [
        "w,b"
      ],
      "execution_count": 261,
      "outputs": [
        {
          "output_type": "execute_result",
          "data": {
            "text/plain": [
              "(tensor(2., requires_grad=True), tensor(3.0000, requires_grad=True))"
            ]
          },
          "metadata": {
            "tags": []
          },
          "execution_count": 261
        }
      ]
    },
    {
      "cell_type": "code",
      "metadata": {
        "id": "REte1IfTA8Ok"
      },
      "source": [
        "X = x.view(100,2)\n",
        "Y = 2*X[:,0] + 0.5*X[:,1] + 3\n",
        "Y = Y.view(X.shape[0],-1)"
      ],
      "execution_count": 340,
      "outputs": []
    },
    {
      "cell_type": "code",
      "metadata": {
        "colab": {
          "base_uri": "https://localhost:8080/"
        },
        "id": "1-D9jVFOEQnc",
        "outputId": "b00cd543-e82c-497a-859d-2b8de676a072"
      },
      "source": [
        "n_samples, n_features = X.shape\n",
        "n_samples, n_features"
      ],
      "execution_count": 341,
      "outputs": [
        {
          "output_type": "execute_result",
          "data": {
            "text/plain": [
              "(100, 2)"
            ]
          },
          "metadata": {
            "tags": []
          },
          "execution_count": 341
        }
      ]
    },
    {
      "cell_type": "code",
      "metadata": {
        "id": "bpYuPFRkC5k-"
      },
      "source": [
        "input_size = n_features\n",
        "output_size = 1\n",
        "model = torch.nn.Linear(input_size,output_size)\n",
        "\n",
        "lr = 0.01\n",
        "mse = torch.nn.MSELoss()\n",
        "optim = torch.optim.SGD(model.parameters(),lr = lr)"
      ],
      "execution_count": 342,
      "outputs": []
    },
    {
      "cell_type": "code",
      "metadata": {
        "colab": {
          "base_uri": "https://localhost:8080/"
        },
        "id": "-RHq2x7xFwKk",
        "outputId": "7a2a74f0-3b8c-4dea-dba9-e8a864ba07bc"
      },
      "source": [
        "n_iters = 1000\n",
        "for epoch in range(n_iters):\n",
        "    # FP\n",
        "    y_pred = model(X)\n",
        "\n",
        "    # loss\n",
        "    loss = mse(y_pred, Y)\n",
        "\n",
        "    # BP\n",
        "    loss.backward()\n",
        "\n",
        "    # update\n",
        "    optim.step()\n",
        "\n",
        "    # empty\n",
        "    optim.zero_grad()\n",
        "\n",
        "    if epoch%(n_iters//10) == 0:\n",
        "        w,b = model.parameters()\n",
        "        print(f\"epoch: {epoch+1} W: {w.tolist()[0]} b: {b.item():.4f} mse: {loss:.4f}\")"
      ],
      "execution_count": 343,
      "outputs": [
        {
          "output_type": "stream",
          "text": [
            "epoch: 1 W: [1.6677870750427246, 1.8641772270202637] b: 0.1875 mse: 329.8595\n",
            "epoch: 101 W: [1.0336377620697021, 1.4658169746398926] b: 2.5454 mse: 0.1335\n",
            "epoch: 201 W: [1.0184006690979004, 1.4815278053283691] b: 2.8548 mse: 0.0023\n",
            "epoch: 301 W: [1.0163999795913696, 1.4835906028747559] b: 2.8955 mse: 0.0000\n",
            "epoch: 401 W: [1.0161374807357788, 1.4838613271713257] b: 2.9008 mse: 0.0000\n",
            "epoch: 501 W: [1.0161027908325195, 1.4838969707489014] b: 2.9015 mse: 0.0000\n",
            "epoch: 601 W: [1.0160982608795166, 1.4839017391204834] b: 2.9016 mse: 0.0000\n",
            "epoch: 701 W: [1.0160982608795166, 1.4839017391204834] b: 2.9016 mse: 0.0000\n",
            "epoch: 801 W: [1.0160982608795166, 1.4839017391204834] b: 2.9016 mse: 0.0000\n",
            "epoch: 901 W: [1.0160982608795166, 1.4839017391204834] b: 2.9016 mse: 0.0000\n"
          ],
          "name": "stdout"
        }
      ]
    },
    {
      "cell_type": "markdown",
      "metadata": {
        "id": "4Ltp66PvMyrr"
      },
      "source": [
        "# Broadcasting"
      ]
    },
    {
      "cell_type": "code",
      "metadata": {
        "colab": {
          "base_uri": "https://localhost:8080/"
        },
        "id": "S6hZJ5FrGFxs",
        "outputId": "47e45d2a-b706-4000-e97b-06d433db6115"
      },
      "source": [
        "A = torch.ones(2,2)\n",
        "B = torch.zeros(1,2)\n",
        "A,B"
      ],
      "execution_count": 357,
      "outputs": [
        {
          "output_type": "execute_result",
          "data": {
            "text/plain": [
              "(tensor([[1., 1.],\n",
              "         [1., 1.]]), tensor([[0., 0.]]))"
            ]
          },
          "metadata": {
            "tags": []
          },
          "execution_count": 357
        }
      ]
    },
    {
      "cell_type": "code",
      "metadata": {
        "id": "BISvcy3vJowh"
      },
      "source": [
        "B += 2"
      ],
      "execution_count": 358,
      "outputs": []
    },
    {
      "cell_type": "code",
      "metadata": {
        "colab": {
          "base_uri": "https://localhost:8080/"
        },
        "id": "mKwf6RKsMuKA",
        "outputId": "dd2a0791-9ce8-4644-d055-8b48c982e654"
      },
      "source": [
        "B"
      ],
      "execution_count": 359,
      "outputs": [
        {
          "output_type": "execute_result",
          "data": {
            "text/plain": [
              "tensor([[2., 2.]])"
            ]
          },
          "metadata": {
            "tags": []
          },
          "execution_count": 359
        }
      ]
    },
    {
      "cell_type": "code",
      "metadata": {
        "colab": {
          "base_uri": "https://localhost:8080/"
        },
        "id": "q9ML16YOMu7U",
        "outputId": "f45afa3f-e0d7-4108-c2d0-fa338e2aebcc"
      },
      "source": [
        "A + B"
      ],
      "execution_count": 360,
      "outputs": [
        {
          "output_type": "execute_result",
          "data": {
            "text/plain": [
              "tensor([[3., 3.],\n",
              "        [3., 3.]])"
            ]
          },
          "metadata": {
            "tags": []
          },
          "execution_count": 360
        }
      ]
    },
    {
      "cell_type": "code",
      "metadata": {
        "colab": {
          "base_uri": "https://localhost:8080/"
        },
        "id": "qep-WTxbMwDF",
        "outputId": "209736c7-2d68-4b7b-a1ba-6293201d61e9"
      },
      "source": [
        "A * B"
      ],
      "execution_count": 361,
      "outputs": [
        {
          "output_type": "execute_result",
          "data": {
            "text/plain": [
              "tensor([[2., 2.],\n",
              "        [2., 2.]])"
            ]
          },
          "metadata": {
            "tags": []
          },
          "execution_count": 361
        }
      ]
    },
    {
      "cell_type": "code",
      "metadata": {
        "colab": {
          "base_uri": "https://localhost:8080/"
        },
        "id": "kdUtdlAZM6SH",
        "outputId": "fe180c2e-d3f9-4d85-e350-f4ffdbc5420a"
      },
      "source": [
        "A * B + 3"
      ],
      "execution_count": 362,
      "outputs": [
        {
          "output_type": "execute_result",
          "data": {
            "text/plain": [
              "tensor([[5., 5.],\n",
              "        [5., 5.]])"
            ]
          },
          "metadata": {
            "tags": []
          },
          "execution_count": 362
        }
      ]
    },
    {
      "cell_type": "code",
      "metadata": {
        "colab": {
          "base_uri": "https://localhost:8080/"
        },
        "id": "N06gv7RuM8cO",
        "outputId": "336f6f4c-99ca-4b86-a625-1c01222eb8ad"
      },
      "source": [
        "B += torch.tensor((2,5))\n",
        "B"
      ],
      "execution_count": 363,
      "outputs": [
        {
          "output_type": "execute_result",
          "data": {
            "text/plain": [
              "tensor([[4., 7.]])"
            ]
          },
          "metadata": {
            "tags": []
          },
          "execution_count": 363
        }
      ]
    },
    {
      "cell_type": "code",
      "metadata": {
        "colab": {
          "base_uri": "https://localhost:8080/"
        },
        "id": "NWAApt8ANC9N",
        "outputId": "02e0857d-a0d0-4756-badd-d8187cb501f5"
      },
      "source": [
        "A + B"
      ],
      "execution_count": 364,
      "outputs": [
        {
          "output_type": "execute_result",
          "data": {
            "text/plain": [
              "tensor([[5., 8.],\n",
              "        [5., 8.]])"
            ]
          },
          "metadata": {
            "tags": []
          },
          "execution_count": 364
        }
      ]
    },
    {
      "cell_type": "code",
      "metadata": {
        "colab": {
          "base_uri": "https://localhost:8080/"
        },
        "id": "hRI3C3F2NMf0",
        "outputId": "07b90cda-4299-4e3b-ee5f-95d324097c1a"
      },
      "source": [
        "A"
      ],
      "execution_count": 365,
      "outputs": [
        {
          "output_type": "execute_result",
          "data": {
            "text/plain": [
              "tensor([[1., 1.],\n",
              "        [1., 1.]])"
            ]
          },
          "metadata": {
            "tags": []
          },
          "execution_count": 365
        }
      ]
    },
    {
      "cell_type": "code",
      "metadata": {
        "id": "-61oipohNOGt"
      },
      "source": [
        "A[1:,:] = torch.tensor((3,5))"
      ],
      "execution_count": 367,
      "outputs": []
    },
    {
      "cell_type": "code",
      "metadata": {
        "colab": {
          "base_uri": "https://localhost:8080/"
        },
        "id": "XQKaS7w-NsJi",
        "outputId": "fabf9e97-5662-48a4-e4b3-9f3af6f230be"
      },
      "source": [
        "A"
      ],
      "execution_count": 368,
      "outputs": [
        {
          "output_type": "execute_result",
          "data": {
            "text/plain": [
              "tensor([[1., 1.],\n",
              "        [3., 5.]])"
            ]
          },
          "metadata": {
            "tags": []
          },
          "execution_count": 368
        }
      ]
    },
    {
      "cell_type": "code",
      "metadata": {
        "colab": {
          "base_uri": "https://localhost:8080/"
        },
        "id": "tHOvRhemNypG",
        "outputId": "ffd48750-2537-4fa1-fb0c-8ce4eecd57e8"
      },
      "source": [
        "A + B"
      ],
      "execution_count": 369,
      "outputs": [
        {
          "output_type": "execute_result",
          "data": {
            "text/plain": [
              "tensor([[ 5.,  8.],\n",
              "        [ 7., 12.]])"
            ]
          },
          "metadata": {
            "tags": []
          },
          "execution_count": 369
        }
      ]
    },
    {
      "cell_type": "code",
      "metadata": {
        "colab": {
          "base_uri": "https://localhost:8080/"
        },
        "id": "N-neKwlAOF0U",
        "outputId": "fbc28090-fa0a-4f43-ebaa-3fb0b2a9c691"
      },
      "source": [
        "A"
      ],
      "execution_count": 371,
      "outputs": [
        {
          "output_type": "execute_result",
          "data": {
            "text/plain": [
              "tensor([[1., 1.],\n",
              "        [3., 5.]])"
            ]
          },
          "metadata": {
            "tags": []
          },
          "execution_count": 371
        }
      ]
    },
    {
      "cell_type": "code",
      "metadata": {
        "colab": {
          "base_uri": "https://localhost:8080/"
        },
        "id": "nQlybpjHN0p8",
        "outputId": "1dae4c1d-319a-4420-e7af-bd28f57dc247"
      },
      "source": [
        "C = A[:,0] * 2 + A[:,1]*0.5\n",
        "C"
      ],
      "execution_count": 370,
      "outputs": [
        {
          "output_type": "execute_result",
          "data": {
            "text/plain": [
              "tensor([2.5000, 8.5000])"
            ]
          },
          "metadata": {
            "tags": []
          },
          "execution_count": 370
        }
      ]
    },
    {
      "cell_type": "code",
      "metadata": {
        "colab": {
          "base_uri": "https://localhost:8080/"
        },
        "id": "fHej_mtCN9Hn",
        "outputId": "a743fda5-9d41-4863-e000-ca9d236a75c6"
      },
      "source": [
        "D = A * torch.tensor((2,0.5)) \n",
        "D.sum(1)"
      ],
      "execution_count": 381,
      "outputs": [
        {
          "output_type": "execute_result",
          "data": {
            "text/plain": [
              "tensor([2.5000, 8.5000])"
            ]
          },
          "metadata": {
            "tags": []
          },
          "execution_count": 381
        }
      ]
    },
    {
      "cell_type": "code",
      "metadata": {
        "id": "dKxc6l1XOT8U"
      },
      "source": [
        ""
      ],
      "execution_count": null,
      "outputs": []
    }
  ]
}