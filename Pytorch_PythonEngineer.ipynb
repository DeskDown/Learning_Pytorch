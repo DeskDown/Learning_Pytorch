{
  "nbformat": 4,
  "nbformat_minor": 0,
  "metadata": {
    "colab": {
      "name": "Pytorch_PythonEngineer.ipynb",
      "provenance": [],
      "authorship_tag": "ABX9TyPQd9kIQD88rfr4iJCvo1Di",
      "include_colab_link": true
    },
    "kernelspec": {
      "name": "python3",
      "display_name": "Python 3"
    },
    "language_info": {
      "name": "python"
    },
    "accelerator": "GPU",
    "widgets": {
      "application/vnd.jupyter.widget-state+json": {
        "4b18ed37876f4ad7a022030d4fb62960": {
          "model_module": "@jupyter-widgets/controls",
          "model_name": "HBoxModel",
          "state": {
            "_view_name": "HBoxView",
            "_dom_classes": [],
            "_model_name": "HBoxModel",
            "_view_module": "@jupyter-widgets/controls",
            "_model_module_version": "1.5.0",
            "_view_count": null,
            "_view_module_version": "1.5.0",
            "box_style": "",
            "layout": "IPY_MODEL_bf4bed2d3bbf48a8be1865d9b4d674f5",
            "_model_module": "@jupyter-widgets/controls",
            "children": [
              "IPY_MODEL_d3e76df92f904fc4bfb84bb66bfe013b",
              "IPY_MODEL_1c05bb650ff94f1abd6cd2d727c81b05"
            ]
          }
        },
        "bf4bed2d3bbf48a8be1865d9b4d674f5": {
          "model_module": "@jupyter-widgets/base",
          "model_name": "LayoutModel",
          "state": {
            "_view_name": "LayoutView",
            "grid_template_rows": null,
            "right": null,
            "justify_content": null,
            "_view_module": "@jupyter-widgets/base",
            "overflow": null,
            "_model_module_version": "1.2.0",
            "_view_count": null,
            "flex_flow": null,
            "width": null,
            "min_width": null,
            "border": null,
            "align_items": null,
            "bottom": null,
            "_model_module": "@jupyter-widgets/base",
            "top": null,
            "grid_column": null,
            "overflow_y": null,
            "overflow_x": null,
            "grid_auto_flow": null,
            "grid_area": null,
            "grid_template_columns": null,
            "flex": null,
            "_model_name": "LayoutModel",
            "justify_items": null,
            "grid_row": null,
            "max_height": null,
            "align_content": null,
            "visibility": null,
            "align_self": null,
            "height": null,
            "min_height": null,
            "padding": null,
            "grid_auto_rows": null,
            "grid_gap": null,
            "max_width": null,
            "order": null,
            "_view_module_version": "1.2.0",
            "grid_template_areas": null,
            "object_position": null,
            "object_fit": null,
            "grid_auto_columns": null,
            "margin": null,
            "display": null,
            "left": null
          }
        },
        "d3e76df92f904fc4bfb84bb66bfe013b": {
          "model_module": "@jupyter-widgets/controls",
          "model_name": "FloatProgressModel",
          "state": {
            "_view_name": "ProgressView",
            "style": "IPY_MODEL_6d1286764da64f2486e8deb0cb7cf8a9",
            "_dom_classes": [],
            "description": "",
            "_model_name": "FloatProgressModel",
            "bar_style": "success",
            "max": 170498071,
            "_view_module": "@jupyter-widgets/controls",
            "_model_module_version": "1.5.0",
            "value": 170498071,
            "_view_count": null,
            "_view_module_version": "1.5.0",
            "orientation": "horizontal",
            "min": 0,
            "description_tooltip": null,
            "_model_module": "@jupyter-widgets/controls",
            "layout": "IPY_MODEL_2f5fcbad236242db8a6db9b194c37ecd"
          }
        },
        "1c05bb650ff94f1abd6cd2d727c81b05": {
          "model_module": "@jupyter-widgets/controls",
          "model_name": "HTMLModel",
          "state": {
            "_view_name": "HTMLView",
            "style": "IPY_MODEL_a487e02977f94a079e39cb440e303377",
            "_dom_classes": [],
            "description": "",
            "_model_name": "HTMLModel",
            "placeholder": "​",
            "_view_module": "@jupyter-widgets/controls",
            "_model_module_version": "1.5.0",
            "value": " 170499072/? [06:09&lt;00:00, 461158.02it/s]",
            "_view_count": null,
            "_view_module_version": "1.5.0",
            "description_tooltip": null,
            "_model_module": "@jupyter-widgets/controls",
            "layout": "IPY_MODEL_fffac57f29694b39b82b9588d3f11db8"
          }
        },
        "6d1286764da64f2486e8deb0cb7cf8a9": {
          "model_module": "@jupyter-widgets/controls",
          "model_name": "ProgressStyleModel",
          "state": {
            "_view_name": "StyleView",
            "_model_name": "ProgressStyleModel",
            "description_width": "initial",
            "_view_module": "@jupyter-widgets/base",
            "_model_module_version": "1.5.0",
            "_view_count": null,
            "_view_module_version": "1.2.0",
            "bar_color": null,
            "_model_module": "@jupyter-widgets/controls"
          }
        },
        "2f5fcbad236242db8a6db9b194c37ecd": {
          "model_module": "@jupyter-widgets/base",
          "model_name": "LayoutModel",
          "state": {
            "_view_name": "LayoutView",
            "grid_template_rows": null,
            "right": null,
            "justify_content": null,
            "_view_module": "@jupyter-widgets/base",
            "overflow": null,
            "_model_module_version": "1.2.0",
            "_view_count": null,
            "flex_flow": null,
            "width": null,
            "min_width": null,
            "border": null,
            "align_items": null,
            "bottom": null,
            "_model_module": "@jupyter-widgets/base",
            "top": null,
            "grid_column": null,
            "overflow_y": null,
            "overflow_x": null,
            "grid_auto_flow": null,
            "grid_area": null,
            "grid_template_columns": null,
            "flex": null,
            "_model_name": "LayoutModel",
            "justify_items": null,
            "grid_row": null,
            "max_height": null,
            "align_content": null,
            "visibility": null,
            "align_self": null,
            "height": null,
            "min_height": null,
            "padding": null,
            "grid_auto_rows": null,
            "grid_gap": null,
            "max_width": null,
            "order": null,
            "_view_module_version": "1.2.0",
            "grid_template_areas": null,
            "object_position": null,
            "object_fit": null,
            "grid_auto_columns": null,
            "margin": null,
            "display": null,
            "left": null
          }
        },
        "a487e02977f94a079e39cb440e303377": {
          "model_module": "@jupyter-widgets/controls",
          "model_name": "DescriptionStyleModel",
          "state": {
            "_view_name": "StyleView",
            "_model_name": "DescriptionStyleModel",
            "description_width": "",
            "_view_module": "@jupyter-widgets/base",
            "_model_module_version": "1.5.0",
            "_view_count": null,
            "_view_module_version": "1.2.0",
            "_model_module": "@jupyter-widgets/controls"
          }
        },
        "fffac57f29694b39b82b9588d3f11db8": {
          "model_module": "@jupyter-widgets/base",
          "model_name": "LayoutModel",
          "state": {
            "_view_name": "LayoutView",
            "grid_template_rows": null,
            "right": null,
            "justify_content": null,
            "_view_module": "@jupyter-widgets/base",
            "overflow": null,
            "_model_module_version": "1.2.0",
            "_view_count": null,
            "flex_flow": null,
            "width": null,
            "min_width": null,
            "border": null,
            "align_items": null,
            "bottom": null,
            "_model_module": "@jupyter-widgets/base",
            "top": null,
            "grid_column": null,
            "overflow_y": null,
            "overflow_x": null,
            "grid_auto_flow": null,
            "grid_area": null,
            "grid_template_columns": null,
            "flex": null,
            "_model_name": "LayoutModel",
            "justify_items": null,
            "grid_row": null,
            "max_height": null,
            "align_content": null,
            "visibility": null,
            "align_self": null,
            "height": null,
            "min_height": null,
            "padding": null,
            "grid_auto_rows": null,
            "grid_gap": null,
            "max_width": null,
            "order": null,
            "_view_module_version": "1.2.0",
            "grid_template_areas": null,
            "object_position": null,
            "object_fit": null,
            "grid_auto_columns": null,
            "margin": null,
            "display": null,
            "left": null
          }
        }
      }
    }
  },
  "cells": [
    {
      "cell_type": "markdown",
      "metadata": {
        "id": "view-in-github",
        "colab_type": "text"
      },
      "source": [
        "<a href=\"https://colab.research.google.com/github/DeskDown/Learning_Pytorch/blob/main/Pytorch_PythonEngineer.ipynb\" target=\"_parent\"><img src=\"https://colab.research.google.com/assets/colab-badge.svg\" alt=\"Open In Colab\"/></a>"
      ]
    },
    {
      "cell_type": "markdown",
      "metadata": {
        "id": "kT0gnuElKbTX"
      },
      "source": [
        "# 01 - Installation"
      ]
    },
    {
      "cell_type": "code",
      "metadata": {
        "id": "bVLW0NtSKsnj"
      },
      "source": [
        "import torch"
      ],
      "execution_count": null,
      "outputs": []
    },
    {
      "cell_type": "markdown",
      "metadata": {
        "id": "jRlKWDaSJ-qk"
      },
      "source": [
        "# 02 - Tensor Basics"
      ]
    },
    {
      "cell_type": "code",
      "metadata": {
        "colab": {
          "base_uri": "https://localhost:8080/"
        },
        "id": "dQSu1_HeKAUa",
        "outputId": "980175ee-e07b-4740-ad75-9541d68a75f9"
      },
      "source": [
        "x = torch.empty(2,2)\n",
        "\n",
        "x"
      ],
      "execution_count": null,
      "outputs": [
        {
          "output_type": "execute_result",
          "data": {
            "text/plain": [
              "tensor([[2.5065e-20, 3.0773e-41],\n",
              "        [3.3631e-44, 0.0000e+00]])"
            ]
          },
          "metadata": {
            "tags": []
          },
          "execution_count": 2
        }
      ]
    },
    {
      "cell_type": "code",
      "metadata": {
        "colab": {
          "base_uri": "https://localhost:8080/"
        },
        "id": "AdzjU9UlK1sR",
        "outputId": "b767ae0e-2e72-4c1b-c06c-c111e45d3a2f"
      },
      "source": [
        "x = torch.empty(2,3,2)\n",
        "x"
      ],
      "execution_count": null,
      "outputs": [
        {
          "output_type": "execute_result",
          "data": {
            "text/plain": [
              "tensor([[[2.5065e-20, 3.0773e-41],\n",
              "         [5.0447e-44, 0.0000e+00],\n",
              "         [       nan, 0.0000e+00]],\n",
              "\n",
              "        [[1.3788e-14, 1.8369e+28],\n",
              "         [1.9433e-19, 3.3738e-12],\n",
              "         [7.4086e+28, 6.9397e+22]]])"
            ]
          },
          "metadata": {
            "tags": []
          },
          "execution_count": 3
        }
      ]
    },
    {
      "cell_type": "code",
      "metadata": {
        "colab": {
          "base_uri": "https://localhost:8080/"
        },
        "id": "901j9_08K7Cb",
        "outputId": "7035b8cf-dc82-4d3b-f0cc-f2667b52df1a"
      },
      "source": [
        "torch.rand(2,2)"
      ],
      "execution_count": null,
      "outputs": [
        {
          "output_type": "execute_result",
          "data": {
            "text/plain": [
              "tensor([[0.4719, 0.9874],\n",
              "        [0.3508, 0.5072]])"
            ]
          },
          "metadata": {
            "tags": []
          },
          "execution_count": 4
        }
      ]
    },
    {
      "cell_type": "code",
      "metadata": {
        "colab": {
          "base_uri": "https://localhost:8080/"
        },
        "id": "1I1bSBOzLAX7",
        "outputId": "401bdfcb-9baa-4d01-8e1b-0da0e35b68dd"
      },
      "source": [
        "torch.ones(2,4)"
      ],
      "execution_count": null,
      "outputs": [
        {
          "output_type": "execute_result",
          "data": {
            "text/plain": [
              "tensor([[1., 1., 1., 1.],\n",
              "        [1., 1., 1., 1.]])"
            ]
          },
          "metadata": {
            "tags": []
          },
          "execution_count": 5
        }
      ]
    },
    {
      "cell_type": "code",
      "metadata": {
        "colab": {
          "base_uri": "https://localhost:8080/"
        },
        "id": "foqDrDzTLMhK",
        "outputId": "6bf65bac-4449-43fc-daf8-8c3a98a13462"
      },
      "source": [
        "torch.zeros(2,4, dtype=torch.float16)"
      ],
      "execution_count": null,
      "outputs": [
        {
          "output_type": "execute_result",
          "data": {
            "text/plain": [
              "tensor([[0., 0., 0., 0.],\n",
              "        [0., 0., 0., 0.]], dtype=torch.float16)"
            ]
          },
          "metadata": {
            "tags": []
          },
          "execution_count": 6
        }
      ]
    },
    {
      "cell_type": "code",
      "metadata": {
        "colab": {
          "base_uri": "https://localhost:8080/"
        },
        "id": "XTh0SCLVLVdC",
        "outputId": "a144c633-6c1d-4200-b0d8-9823681b5aa3"
      },
      "source": [
        "ls = [2,4,6]\n",
        "torch.tensor(ls)"
      ],
      "execution_count": null,
      "outputs": [
        {
          "output_type": "execute_result",
          "data": {
            "text/plain": [
              "tensor([2, 4, 6])"
            ]
          },
          "metadata": {
            "tags": []
          },
          "execution_count": 7
        }
      ]
    },
    {
      "cell_type": "code",
      "metadata": {
        "colab": {
          "base_uri": "https://localhost:8080/"
        },
        "id": "9EGjLYfHLa32",
        "outputId": "981eb535-b14b-424b-929d-6000211e554a"
      },
      "source": [
        "x = torch.rand(2,2)\n",
        "y = torch.rand(2,2)\n",
        "\n",
        "x,y"
      ],
      "execution_count": null,
      "outputs": [
        {
          "output_type": "execute_result",
          "data": {
            "text/plain": [
              "(tensor([[0.3637, 0.8653],\n",
              "         [0.0415, 0.2711]]), tensor([[0.3340, 0.2712],\n",
              "         [0.8730, 0.6378]]))"
            ]
          },
          "metadata": {
            "tags": []
          },
          "execution_count": 8
        }
      ]
    },
    {
      "cell_type": "code",
      "metadata": {
        "colab": {
          "base_uri": "https://localhost:8080/"
        },
        "id": "5sf70YdmLgaK",
        "outputId": "aa4f4a66-6f7c-44d3-ead4-26a4a23ea6e2"
      },
      "source": [
        "x + y"
      ],
      "execution_count": null,
      "outputs": [
        {
          "output_type": "execute_result",
          "data": {
            "text/plain": [
              "tensor([[0.6977, 1.1365],\n",
              "        [0.9145, 0.9089]])"
            ]
          },
          "metadata": {
            "tags": []
          },
          "execution_count": 9
        }
      ]
    },
    {
      "cell_type": "code",
      "metadata": {
        "colab": {
          "base_uri": "https://localhost:8080/"
        },
        "id": "fsPSW-tZLhoi",
        "outputId": "60c75a40-a516-402a-e107-1929c7f28a1c"
      },
      "source": [
        "torch.add(x,y)"
      ],
      "execution_count": null,
      "outputs": [
        {
          "output_type": "execute_result",
          "data": {
            "text/plain": [
              "tensor([[0.6977, 1.1365],\n",
              "        [0.9145, 0.9089]])"
            ]
          },
          "metadata": {
            "tags": []
          },
          "execution_count": 10
        }
      ]
    },
    {
      "cell_type": "code",
      "metadata": {
        "colab": {
          "base_uri": "https://localhost:8080/"
        },
        "id": "agNsMIzILojE",
        "outputId": "c946554a-e225-4d31-bf7f-0fd0aaa43559"
      },
      "source": [
        "x.add(y)"
      ],
      "execution_count": null,
      "outputs": [
        {
          "output_type": "execute_result",
          "data": {
            "text/plain": [
              "tensor([[0.6977, 1.1365],\n",
              "        [0.9145, 0.9089]])"
            ]
          },
          "metadata": {
            "tags": []
          },
          "execution_count": 11
        }
      ]
    },
    {
      "cell_type": "code",
      "metadata": {
        "colab": {
          "base_uri": "https://localhost:8080/"
        },
        "id": "rN6-g-AYLts6",
        "outputId": "59c0aece-5836-46f5-c894-a4a178a88013"
      },
      "source": [
        "x"
      ],
      "execution_count": null,
      "outputs": [
        {
          "output_type": "execute_result",
          "data": {
            "text/plain": [
              "tensor([[0.3637, 0.8653],\n",
              "        [0.0415, 0.2711]])"
            ]
          },
          "metadata": {
            "tags": []
          },
          "execution_count": 12
        }
      ]
    },
    {
      "cell_type": "code",
      "metadata": {
        "colab": {
          "base_uri": "https://localhost:8080/"
        },
        "id": "dKL36WTiLuhp",
        "outputId": "2dcd4920-b1cf-42a5-abc9-54d710b0ea91"
      },
      "source": [
        "# inplace addition\n",
        "x.add_(y)"
      ],
      "execution_count": null,
      "outputs": [
        {
          "output_type": "execute_result",
          "data": {
            "text/plain": [
              "tensor([[0.6977, 1.1365],\n",
              "        [0.9145, 0.9089]])"
            ]
          },
          "metadata": {
            "tags": []
          },
          "execution_count": 13
        }
      ]
    },
    {
      "cell_type": "code",
      "metadata": {
        "colab": {
          "base_uri": "https://localhost:8080/"
        },
        "id": "bD4PlcLzLywn",
        "outputId": "01ac9633-90bc-49d2-b54b-9b1f30609f28"
      },
      "source": [
        "x"
      ],
      "execution_count": null,
      "outputs": [
        {
          "output_type": "execute_result",
          "data": {
            "text/plain": [
              "tensor([[0.6977, 1.1365],\n",
              "        [0.9145, 0.9089]])"
            ]
          },
          "metadata": {
            "tags": []
          },
          "execution_count": 14
        }
      ]
    },
    {
      "cell_type": "code",
      "metadata": {
        "colab": {
          "base_uri": "https://localhost:8080/"
        },
        "id": "V8s2LrDlLzH5",
        "outputId": "810b0f87-3858-4cb2-ad01-39afad7ee2e4"
      },
      "source": [
        "x * y"
      ],
      "execution_count": null,
      "outputs": [
        {
          "output_type": "execute_result",
          "data": {
            "text/plain": [
              "tensor([[0.2330, 0.3082],\n",
              "        [0.7984, 0.5797]])"
            ]
          },
          "metadata": {
            "tags": []
          },
          "execution_count": 15
        }
      ]
    },
    {
      "cell_type": "code",
      "metadata": {
        "colab": {
          "base_uri": "https://localhost:8080/"
        },
        "id": "MA-gUPveL68k",
        "outputId": "61451142-a703-4d9f-c73d-73903fa9e233"
      },
      "source": [
        "x.mul(y)"
      ],
      "execution_count": null,
      "outputs": [
        {
          "output_type": "execute_result",
          "data": {
            "text/plain": [
              "tensor([[0.2330, 0.3082],\n",
              "        [0.7984, 0.5797]])"
            ]
          },
          "metadata": {
            "tags": []
          },
          "execution_count": 16
        }
      ]
    },
    {
      "cell_type": "code",
      "metadata": {
        "colab": {
          "base_uri": "https://localhost:8080/"
        },
        "id": "3fiqcBBIL9KL",
        "outputId": "f1601991-bc6c-41a4-8031-4670f4423d47"
      },
      "source": [
        "x.sub(y)"
      ],
      "execution_count": null,
      "outputs": [
        {
          "output_type": "execute_result",
          "data": {
            "text/plain": [
              "tensor([[0.3637, 0.8653],\n",
              "        [0.0415, 0.2711]])"
            ]
          },
          "metadata": {
            "tags": []
          },
          "execution_count": 17
        }
      ]
    },
    {
      "cell_type": "code",
      "metadata": {
        "colab": {
          "base_uri": "https://localhost:8080/"
        },
        "id": "zM_EgrjLMBEr",
        "outputId": "5b9bd5e9-df6f-48ea-8aec-204e96ecac3d"
      },
      "source": [
        "ls = torch.rand(2,3,4)\n",
        "ls"
      ],
      "execution_count": null,
      "outputs": [
        {
          "output_type": "execute_result",
          "data": {
            "text/plain": [
              "tensor([[[0.4913, 0.3095, 0.5954, 0.6252],\n",
              "         [0.3940, 0.1193, 0.2952, 0.5249],\n",
              "         [0.4505, 0.0482, 0.6661, 0.6877]],\n",
              "\n",
              "        [[0.4434, 0.0929, 0.6333, 0.3314],\n",
              "         [0.8557, 0.7078, 0.8054, 0.1599],\n",
              "         [0.5170, 0.2549, 0.3249, 0.1372]]])"
            ]
          },
          "metadata": {
            "tags": []
          },
          "execution_count": 18
        }
      ]
    },
    {
      "cell_type": "code",
      "metadata": {
        "colab": {
          "base_uri": "https://localhost:8080/"
        },
        "id": "L5Sqf-AtMIeE",
        "outputId": "8640209c-fdb8-497f-8c91-9e73d8dc4d36"
      },
      "source": [
        "ls[:,1,2]"
      ],
      "execution_count": null,
      "outputs": [
        {
          "output_type": "execute_result",
          "data": {
            "text/plain": [
              "tensor([0.2952, 0.8054])"
            ]
          },
          "metadata": {
            "tags": []
          },
          "execution_count": 19
        }
      ]
    },
    {
      "cell_type": "code",
      "metadata": {
        "colab": {
          "base_uri": "https://localhost:8080/"
        },
        "id": "F5R5LS_fMWpr",
        "outputId": "39535687-8629-47cf-8bd4-ee277d3e30eb"
      },
      "source": [
        "ls[-1]"
      ],
      "execution_count": null,
      "outputs": [
        {
          "output_type": "execute_result",
          "data": {
            "text/plain": [
              "tensor([[0.4434, 0.0929, 0.6333, 0.3314],\n",
              "        [0.8557, 0.7078, 0.8054, 0.1599],\n",
              "        [0.5170, 0.2549, 0.3249, 0.1372]])"
            ]
          },
          "metadata": {
            "tags": []
          },
          "execution_count": 20
        }
      ]
    },
    {
      "cell_type": "code",
      "metadata": {
        "colab": {
          "base_uri": "https://localhost:8080/"
        },
        "id": "ky6fwSxncXnH",
        "outputId": "5bc7ce6d-e7da-485b-ef6f-cf9b4b3e4c15"
      },
      "source": [
        "y.sub_(x)"
      ],
      "execution_count": null,
      "outputs": [
        {
          "output_type": "execute_result",
          "data": {
            "text/plain": [
              "tensor([[-0.3637, -0.8653],\n",
              "        [-0.0415, -0.2711]])"
            ]
          },
          "metadata": {
            "tags": []
          },
          "execution_count": 21
        }
      ]
    },
    {
      "cell_type": "code",
      "metadata": {
        "colab": {
          "base_uri": "https://localhost:8080/"
        },
        "id": "YA-scKvcoFsI",
        "outputId": "da858cd6-cbfd-4d14-b250-7f1974439551"
      },
      "source": [
        "y.div_(x)"
      ],
      "execution_count": null,
      "outputs": [
        {
          "output_type": "execute_result",
          "data": {
            "text/plain": [
              "tensor([[-0.5213, -0.7614],\n",
              "        [-0.0454, -0.2983]])"
            ]
          },
          "metadata": {
            "tags": []
          },
          "execution_count": 22
        }
      ]
    },
    {
      "cell_type": "code",
      "metadata": {
        "colab": {
          "base_uri": "https://localhost:8080/"
        },
        "id": "LVPbouLgoKNk",
        "outputId": "be8d915a-de55-42ef-9d86-50f1795b8c3d"
      },
      "source": [
        " v = x.reshape(4)\n",
        " v"
      ],
      "execution_count": null,
      "outputs": [
        {
          "output_type": "execute_result",
          "data": {
            "text/plain": [
              "tensor([0.6977, 1.1365, 0.9145, 0.9089])"
            ]
          },
          "metadata": {
            "tags": []
          },
          "execution_count": 23
        }
      ]
    },
    {
      "cell_type": "code",
      "metadata": {
        "colab": {
          "base_uri": "https://localhost:8080/"
        },
        "id": "MqDMiT0n0BnM",
        "outputId": "1df3ae63-f731-4173-f0ad-5e3704c3bfb3"
      },
      "source": [
        "v[0] = 0\n",
        "x"
      ],
      "execution_count": null,
      "outputs": [
        {
          "output_type": "execute_result",
          "data": {
            "text/plain": [
              "tensor([[0.0000, 1.1365],\n",
              "        [0.9145, 0.9089]])"
            ]
          },
          "metadata": {
            "tags": []
          },
          "execution_count": 24
        }
      ]
    },
    {
      "cell_type": "code",
      "metadata": {
        "colab": {
          "base_uri": "https://localhost:8080/"
        },
        "id": "JCu7vea90FeW",
        "outputId": "eeea6fbe-3130-441a-ad6b-ca2a4b417726"
      },
      "source": [
        "x.view(4)\n"
      ],
      "execution_count": null,
      "outputs": [
        {
          "output_type": "execute_result",
          "data": {
            "text/plain": [
              "tensor([0.0000, 1.1365, 0.9145, 0.9089])"
            ]
          },
          "metadata": {
            "tags": []
          },
          "execution_count": 25
        }
      ]
    },
    {
      "cell_type": "code",
      "metadata": {
        "colab": {
          "base_uri": "https://localhost:8080/"
        },
        "id": "j2twmBLF0O2f",
        "outputId": "641a7b5a-691e-43bd-f513-9876b03f462e"
      },
      "source": [
        "torch.device(\"cuda\")"
      ],
      "execution_count": null,
      "outputs": [
        {
          "output_type": "execute_result",
          "data": {
            "text/plain": [
              "device(type='cuda')"
            ]
          },
          "metadata": {
            "tags": []
          },
          "execution_count": 26
        }
      ]
    },
    {
      "cell_type": "code",
      "metadata": {
        "colab": {
          "base_uri": "https://localhost:8080/"
        },
        "id": "2ouhD_HT5A52",
        "outputId": "9440dfdd-3b2a-4ac0-82fa-e5694400e2f9"
      },
      "source": [
        "t =  torch.normal(2, 3, size=(1,4))\n",
        "t"
      ],
      "execution_count": null,
      "outputs": [
        {
          "output_type": "execute_result",
          "data": {
            "text/plain": [
              "tensor([[0.0394, 5.1265, 0.6952, 4.5256]])"
            ]
          },
          "metadata": {
            "tags": []
          },
          "execution_count": 54
        }
      ]
    },
    {
      "cell_type": "code",
      "metadata": {
        "colab": {
          "base_uri": "https://localhost:8080/"
        },
        "id": "Xr3mTKMJ5KCF",
        "outputId": "cdf94b21-7eca-40f1-a2bf-d3a5742a8e69"
      },
      "source": [
        "t.shape"
      ],
      "execution_count": null,
      "outputs": [
        {
          "output_type": "execute_result",
          "data": {
            "text/plain": [
              "torch.Size([1, 6])"
            ]
          },
          "metadata": {
            "tags": []
          },
          "execution_count": 40
        }
      ]
    },
    {
      "cell_type": "code",
      "metadata": {
        "colab": {
          "base_uri": "https://localhost:8080/"
        },
        "id": "YUzMQbEn5LV2",
        "outputId": "8a26c455-0db9-4cce-9c1e-7826add3de22"
      },
      "source": [
        "t.squeeze().shape"
      ],
      "execution_count": null,
      "outputs": [
        {
          "output_type": "execute_result",
          "data": {
            "text/plain": [
              "torch.Size([6])"
            ]
          },
          "metadata": {
            "tags": []
          },
          "execution_count": 42
        }
      ]
    },
    {
      "cell_type": "code",
      "metadata": {
        "colab": {
          "base_uri": "https://localhost:8080/"
        },
        "id": "B1kGgx7P6SbW",
        "outputId": "bc0955e4-73a4-4668-b6ae-ab367a4e5e75"
      },
      "source": [
        "t = torch.randint(low = 1, high = 100, size = (3,4))\n",
        "t"
      ],
      "execution_count": null,
      "outputs": [
        {
          "output_type": "execute_result",
          "data": {
            "text/plain": [
              "tensor([[76, 59, 16, 16],\n",
              "        [34, 51, 88, 18],\n",
              "        [ 5, 78, 83, 64]])"
            ]
          },
          "metadata": {
            "tags": []
          },
          "execution_count": 57
        }
      ]
    },
    {
      "cell_type": "code",
      "metadata": {
        "colab": {
          "base_uri": "https://localhost:8080/"
        },
        "id": "L_k6vQUW6j1l",
        "outputId": "b8781a49-5a44-482f-fd6a-f0708fcb7948"
      },
      "source": [
        "t.clip(10,20)"
      ],
      "execution_count": null,
      "outputs": [
        {
          "output_type": "execute_result",
          "data": {
            "text/plain": [
              "tensor([[20, 20, 16, 16],\n",
              "        [20, 20, 20, 18],\n",
              "        [10, 20, 20, 20]])"
            ]
          },
          "metadata": {
            "tags": []
          },
          "execution_count": 58
        }
      ]
    },
    {
      "cell_type": "code",
      "metadata": {
        "colab": {
          "base_uri": "https://localhost:8080/"
        },
        "id": "nrsL-4se6sBu",
        "outputId": "90b331b3-dda8-454c-e4fa-d6478280fb96"
      },
      "source": [
        "x = torch.zeros((4,4))\n",
        "torch.randint(3,5,size = x.shape, out = x)"
      ],
      "execution_count": null,
      "outputs": [
        {
          "output_type": "execute_result",
          "data": {
            "text/plain": [
              "tensor([[3., 4., 3., 4.],\n",
              "        [4., 4., 4., 3.],\n",
              "        [3., 4., 4., 4.],\n",
              "        [3., 3., 4., 4.]])"
            ]
          },
          "metadata": {
            "tags": []
          },
          "execution_count": 66
        }
      ]
    },
    {
      "cell_type": "code",
      "metadata": {
        "colab": {
          "base_uri": "https://localhost:8080/"
        },
        "id": "diXABUsC7ksm",
        "outputId": "e963374e-f303-46c8-8493-cfbcda9e26b9"
      },
      "source": [
        "x"
      ],
      "execution_count": null,
      "outputs": [
        {
          "output_type": "execute_result",
          "data": {
            "text/plain": [
              "tensor([[3., 4., 3., 3.],\n",
              "        [4., 4., 4., 3.],\n",
              "        [3., 3., 3., 3.],\n",
              "        [4., 3., 4., 3.]])"
            ]
          },
          "metadata": {
            "tags": []
          },
          "execution_count": 64
        }
      ]
    },
    {
      "cell_type": "markdown",
      "metadata": {
        "id": "5Q3u03a82hjf"
      },
      "source": [
        "# Autograd"
      ]
    },
    {
      "cell_type": "code",
      "metadata": {
        "colab": {
          "base_uri": "https://localhost:8080/"
        },
        "id": "sQQOoJwS2miU",
        "outputId": "1c949856-03f5-46b4-9637-0e3934b37692"
      },
      "source": [
        "x = torch.tensor([1.0,2.0,3.0], dtype=torch.float16, requires_grad=True)\n",
        "x"
      ],
      "execution_count": null,
      "outputs": [
        {
          "output_type": "execute_result",
          "data": {
            "text/plain": [
              "tensor([1., 2., 3.], dtype=torch.float16, requires_grad=True)"
            ]
          },
          "metadata": {
            "tags": []
          },
          "execution_count": 28
        }
      ]
    },
    {
      "cell_type": "code",
      "metadata": {
        "colab": {
          "base_uri": "https://localhost:8080/"
        },
        "id": "eTaZV0qP23lE",
        "outputId": "09b1b691-923a-49b0-daba-46c90d972665"
      },
      "source": [
        "x.device"
      ],
      "execution_count": null,
      "outputs": [
        {
          "output_type": "execute_result",
          "data": {
            "text/plain": [
              "device(type='cpu')"
            ]
          },
          "metadata": {
            "tags": []
          },
          "execution_count": 29
        }
      ]
    },
    {
      "cell_type": "code",
      "metadata": {
        "id": "eImIhgcS5O-a"
      },
      "source": [
        "x.grad"
      ],
      "execution_count": null,
      "outputs": []
    },
    {
      "cell_type": "code",
      "metadata": {
        "colab": {
          "base_uri": "https://localhost:8080/"
        },
        "id": "B-41GDwz3i7N",
        "outputId": "da785f6e-c7e3-4854-a935-26bea89c2494"
      },
      "source": [
        "y = x*x + 2\n",
        "z = y.mean()\n",
        "x,y,z"
      ],
      "execution_count": null,
      "outputs": [
        {
          "output_type": "execute_result",
          "data": {
            "text/plain": [
              "(tensor([1., 2., 3.], dtype=torch.float16, requires_grad=True),\n",
              " tensor([ 3.,  6., 11.], dtype=torch.float16, grad_fn=<AddBackward0>),\n",
              " tensor(6.6680, dtype=torch.float16, grad_fn=<MeanBackward0>))"
            ]
          },
          "metadata": {
            "tags": []
          },
          "execution_count": 31
        }
      ]
    },
    {
      "cell_type": "code",
      "metadata": {
        "id": "EDsKgBaG5Vnq"
      },
      "source": [
        "x.grad"
      ],
      "execution_count": null,
      "outputs": []
    },
    {
      "cell_type": "code",
      "metadata": {
        "id": "LqavPDoL3kP0"
      },
      "source": [
        "z.backward()"
      ],
      "execution_count": null,
      "outputs": []
    },
    {
      "cell_type": "code",
      "metadata": {
        "colab": {
          "base_uri": "https://localhost:8080/"
        },
        "id": "Ee2_jSHc4IcP",
        "outputId": "34e476a4-a8d3-431a-9f51-806f1138a600"
      },
      "source": [
        "x.grad"
      ],
      "execution_count": null,
      "outputs": [
        {
          "output_type": "execute_result",
          "data": {
            "text/plain": [
              "tensor([0.6665, 1.3330, 2.0000], dtype=torch.float16)"
            ]
          },
          "metadata": {
            "tags": []
          },
          "execution_count": 34
        }
      ]
    },
    {
      "cell_type": "code",
      "metadata": {
        "colab": {
          "base_uri": "https://localhost:8080/"
        },
        "id": "yhxqbgQq4Jmk",
        "outputId": "b7ac15c2-5fb2-4058-88c8-96f2ed4e5b61"
      },
      "source": [
        "dz_dy = 1 / 3\n",
        "dz_dx = dz_dy * 2*x\n",
        "dz_dy, dz_dx"
      ],
      "execution_count": null,
      "outputs": [
        {
          "output_type": "execute_result",
          "data": {
            "text/plain": [
              "(0.3333333333333333,\n",
              " tensor([0.6665, 1.3330, 2.0000], dtype=torch.float16, grad_fn=<MulBackward0>))"
            ]
          },
          "metadata": {
            "tags": []
          },
          "execution_count": 35
        }
      ]
    },
    {
      "cell_type": "code",
      "metadata": {
        "colab": {
          "base_uri": "https://localhost:8080/"
        },
        "id": "O9KPtLXa4jnl",
        "outputId": "0c056cb7-196b-4f91-d554-77728dcf7854"
      },
      "source": [
        "x.grad"
      ],
      "execution_count": null,
      "outputs": [
        {
          "output_type": "execute_result",
          "data": {
            "text/plain": [
              "tensor([0.6665, 1.3330, 2.0000], dtype=torch.float16)"
            ]
          },
          "metadata": {
            "tags": []
          },
          "execution_count": 36
        }
      ]
    },
    {
      "cell_type": "code",
      "metadata": {
        "colab": {
          "base_uri": "https://localhost:8080/"
        },
        "id": "IYYn3PdJ4of1",
        "outputId": "39ac0677-1156-4e81-d00f-4882e91941c7"
      },
      "source": [
        "t = x.detach()\n",
        "t"
      ],
      "execution_count": null,
      "outputs": [
        {
          "output_type": "execute_result",
          "data": {
            "text/plain": [
              "tensor([1., 2., 3.], dtype=torch.float16)"
            ]
          },
          "metadata": {
            "tags": []
          },
          "execution_count": 37
        }
      ]
    },
    {
      "cell_type": "code",
      "metadata": {
        "colab": {
          "base_uri": "https://localhost:8080/"
        },
        "id": "BzhIQtIj50GW",
        "outputId": "656e2fb1-ff90-4798-f4e8-a7ff5638826f"
      },
      "source": [
        "import torch.tensor as tn\n",
        "x = tn(1)\n",
        "w = tn(1.0, requires_grad=True)\n",
        "y = tn(2)\n",
        "x,w,y"
      ],
      "execution_count": null,
      "outputs": [
        {
          "output_type": "execute_result",
          "data": {
            "text/plain": [
              "(tensor(1), tensor(1., requires_grad=True), tensor(2))"
            ]
          },
          "metadata": {
            "tags": []
          },
          "execution_count": 38
        }
      ]
    },
    {
      "cell_type": "code",
      "metadata": {
        "colab": {
          "base_uri": "https://localhost:8080/"
        },
        "id": "rC63t8LD6K8u",
        "outputId": "ebd691ba-cac9-445c-ed3e-94ac1bce424c"
      },
      "source": [
        "y_hat = x*w\n",
        "loss = (y-y_hat)**2\n",
        "loss"
      ],
      "execution_count": null,
      "outputs": [
        {
          "output_type": "execute_result",
          "data": {
            "text/plain": [
              "tensor(1., grad_fn=<PowBackward0>)"
            ]
          },
          "metadata": {
            "tags": []
          },
          "execution_count": 39
        }
      ]
    },
    {
      "cell_type": "code",
      "metadata": {
        "id": "rc4aINPX6wh2",
        "colab": {
          "base_uri": "https://localhost:8080/"
        },
        "outputId": "f51908df-8545-4e8b-ea3b-845a51fbc0da"
      },
      "source": [
        "loss.backward()\n",
        "w.grad"
      ],
      "execution_count": null,
      "outputs": [
        {
          "output_type": "execute_result",
          "data": {
            "text/plain": [
              "tensor(-2.)"
            ]
          },
          "metadata": {
            "tags": []
          },
          "execution_count": 40
        }
      ]
    },
    {
      "cell_type": "code",
      "metadata": {
        "id": "RmGfnmKb60hW",
        "colab": {
          "base_uri": "https://localhost:8080/",
          "height": 171
        },
        "outputId": "ddf799a3-9ab7-485b-b112-977749f5b115"
      },
      "source": [
        "w.grad.zeros_()"
      ],
      "execution_count": null,
      "outputs": [
        {
          "output_type": "error",
          "ename": "AttributeError",
          "evalue": "ignored",
          "traceback": [
            "\u001b[0;31m---------------------------------------------------------------------------\u001b[0m",
            "\u001b[0;31mAttributeError\u001b[0m                            Traceback (most recent call last)",
            "\u001b[0;32m<ipython-input-41-15f6348377a2>\u001b[0m in \u001b[0;36m<module>\u001b[0;34m()\u001b[0m\n\u001b[0;32m----> 1\u001b[0;31m \u001b[0mw\u001b[0m\u001b[0;34m.\u001b[0m\u001b[0mgrad\u001b[0m\u001b[0;34m.\u001b[0m\u001b[0mzeros_\u001b[0m\u001b[0;34m(\u001b[0m\u001b[0;34m)\u001b[0m\u001b[0;34m\u001b[0m\u001b[0;34m\u001b[0m\u001b[0m\n\u001b[0m",
            "\u001b[0;31mAttributeError\u001b[0m: 'Tensor' object has no attribute 'zeros_'"
          ]
        }
      ]
    },
    {
      "cell_type": "markdown",
      "metadata": {
        "id": "ovW49RQS6qdf"
      },
      "source": [
        "## Linear Regression\n",
        "## Manual"
      ]
    },
    {
      "cell_type": "code",
      "metadata": {
        "id": "rBCL3z4P7UeL"
      },
      "source": [
        "from matplotlib import pyplot as plt"
      ],
      "execution_count": null,
      "outputs": []
    },
    {
      "cell_type": "code",
      "metadata": {
        "colab": {
          "base_uri": "https://localhost:8080/"
        },
        "id": "tISV10H56qC2",
        "outputId": "49c782c7-1431-4f9f-8eb0-e7434a894da9"
      },
      "source": [
        "x = torch.arange(-10,10,.1)\n",
        "x"
      ],
      "execution_count": null,
      "outputs": [
        {
          "output_type": "execute_result",
          "data": {
            "text/plain": [
              "tensor([-1.0000e+01, -9.9000e+00, -9.8000e+00, -9.7000e+00, -9.6000e+00,\n",
              "        -9.5000e+00, -9.4000e+00, -9.3000e+00, -9.2000e+00, -9.1000e+00,\n",
              "        -9.0000e+00, -8.9000e+00, -8.8000e+00, -8.7000e+00, -8.6000e+00,\n",
              "        -8.5000e+00, -8.4000e+00, -8.3000e+00, -8.2000e+00, -8.1000e+00,\n",
              "        -8.0000e+00, -7.9000e+00, -7.8000e+00, -7.7000e+00, -7.6000e+00,\n",
              "        -7.5000e+00, -7.4000e+00, -7.3000e+00, -7.2000e+00, -7.1000e+00,\n",
              "        -7.0000e+00, -6.9000e+00, -6.8000e+00, -6.7000e+00, -6.6000e+00,\n",
              "        -6.5000e+00, -6.4000e+00, -6.3000e+00, -6.2000e+00, -6.1000e+00,\n",
              "        -6.0000e+00, -5.9000e+00, -5.8000e+00, -5.7000e+00, -5.6000e+00,\n",
              "        -5.5000e+00, -5.4000e+00, -5.3000e+00, -5.2000e+00, -5.1000e+00,\n",
              "        -5.0000e+00, -4.9000e+00, -4.8000e+00, -4.7000e+00, -4.6000e+00,\n",
              "        -4.5000e+00, -4.4000e+00, -4.3000e+00, -4.2000e+00, -4.1000e+00,\n",
              "        -4.0000e+00, -3.9000e+00, -3.8000e+00, -3.7000e+00, -3.6000e+00,\n",
              "        -3.5000e+00, -3.4000e+00, -3.3000e+00, -3.2000e+00, -3.1000e+00,\n",
              "        -3.0000e+00, -2.9000e+00, -2.8000e+00, -2.7000e+00, -2.6000e+00,\n",
              "        -2.5000e+00, -2.4000e+00, -2.3000e+00, -2.2000e+00, -2.1000e+00,\n",
              "        -2.0000e+00, -1.9000e+00, -1.8000e+00, -1.7000e+00, -1.6000e+00,\n",
              "        -1.5000e+00, -1.4000e+00, -1.3000e+00, -1.2000e+00, -1.1000e+00,\n",
              "        -1.0000e+00, -9.0000e-01, -8.0000e-01, -7.0000e-01, -6.0000e-01,\n",
              "        -5.0000e-01, -4.0000e-01, -3.0000e-01, -2.0000e-01, -1.0000e-01,\n",
              "        -5.9605e-09,  1.0000e-01,  2.0000e-01,  3.0000e-01,  4.0000e-01,\n",
              "         5.0000e-01,  6.0000e-01,  7.0000e-01,  8.0000e-01,  9.0000e-01,\n",
              "         1.0000e+00,  1.1000e+00,  1.2000e+00,  1.3000e+00,  1.4000e+00,\n",
              "         1.5000e+00,  1.6000e+00,  1.7000e+00,  1.8000e+00,  1.9000e+00,\n",
              "         2.0000e+00,  2.1000e+00,  2.2000e+00,  2.3000e+00,  2.4000e+00,\n",
              "         2.5000e+00,  2.6000e+00,  2.7000e+00,  2.8000e+00,  2.9000e+00,\n",
              "         3.0000e+00,  3.1000e+00,  3.2000e+00,  3.3000e+00,  3.4000e+00,\n",
              "         3.5000e+00,  3.6000e+00,  3.7000e+00,  3.8000e+00,  3.9000e+00,\n",
              "         4.0000e+00,  4.1000e+00,  4.2000e+00,  4.3000e+00,  4.4000e+00,\n",
              "         4.5000e+00,  4.6000e+00,  4.7000e+00,  4.8000e+00,  4.9000e+00,\n",
              "         5.0000e+00,  5.1000e+00,  5.2000e+00,  5.3000e+00,  5.4000e+00,\n",
              "         5.5000e+00,  5.6000e+00,  5.7000e+00,  5.8000e+00,  5.9000e+00,\n",
              "         6.0000e+00,  6.1000e+00,  6.2000e+00,  6.3000e+00,  6.4000e+00,\n",
              "         6.5000e+00,  6.6000e+00,  6.7000e+00,  6.8000e+00,  6.9000e+00,\n",
              "         7.0000e+00,  7.1000e+00,  7.2000e+00,  7.3000e+00,  7.4000e+00,\n",
              "         7.5000e+00,  7.6000e+00,  7.7000e+00,  7.8000e+00,  7.9000e+00,\n",
              "         8.0000e+00,  8.1000e+00,  8.2000e+00,  8.3000e+00,  8.4000e+00,\n",
              "         8.5000e+00,  8.6000e+00,  8.7000e+00,  8.8000e+00,  8.9000e+00,\n",
              "         9.0000e+00,  9.1000e+00,  9.2000e+00,  9.3000e+00,  9.4000e+00,\n",
              "         9.5000e+00,  9.6000e+00,  9.7000e+00,  9.8000e+00,  9.9000e+00])"
            ]
          },
          "metadata": {
            "tags": []
          },
          "execution_count": 43
        }
      ]
    },
    {
      "cell_type": "code",
      "metadata": {
        "colab": {
          "base_uri": "https://localhost:8080/"
        },
        "id": "3PR7MTk764io",
        "outputId": "4e9867c5-b4a3-4a18-e2ad-3b2763eb467f"
      },
      "source": [
        "def f(x): return 2*x + 5\n",
        "noise = torch.randn_like(x)\n",
        "y = f(x) + 2*noise\n",
        "y"
      ],
      "execution_count": null,
      "outputs": [
        {
          "output_type": "execute_result",
          "data": {
            "text/plain": [
              "tensor([-17.3059, -15.8952,  -9.9633, -14.4218, -15.0339, -16.2585, -16.5179,\n",
              "        -13.0497, -11.8701, -13.5804, -12.7639, -13.1417, -10.9715, -11.6325,\n",
              "        -16.2899, -12.3097, -14.5487, -12.4806, -11.9341, -13.0255,  -9.9502,\n",
              "         -8.4415, -10.0099,  -9.7926, -10.6001,  -9.1637,  -9.6044, -12.0519,\n",
              "         -5.6932,  -7.5482,  -4.1638,  -6.0648,  -8.7205,  -6.7076,  -6.1131,\n",
              "         -8.2446,  -9.4822,  -8.1657,  -5.7373,  -9.9851,  -7.0517,  -5.1621,\n",
              "         -4.6494,  -3.5488,  -5.0298,  -6.2833,  -7.4048,  -2.6211,  -8.0332,\n",
              "         -7.3546,  -4.3443,  -4.5478,  -6.7299,  -4.2416,  -6.1787,  -3.5330,\n",
              "         -0.2996,  -4.1075,  -0.1172,  -4.8148,  -3.9569,  -5.5564,  -2.8144,\n",
              "         -3.7081,  -2.8906,  -0.9300,  -0.3255,   0.1751,  -1.2913,  -4.2089,\n",
              "         -2.4092,  -3.1798,  -1.0071,   1.7674,  -0.7859,   2.6888,   1.1590,\n",
              "          0.3967,   3.0873,  -2.4409,   1.3722,   0.4382,  -1.1722,   5.1655,\n",
              "          4.8716,   2.4525,  -2.3552,   0.5282,  -0.0825,   3.0090,   3.6708,\n",
              "          1.0851,   4.0460,   3.9502,   0.9301,   3.3921,   5.1900,   3.8377,\n",
              "          0.1680,   5.1379,   3.2305,   6.3361,   4.6887,   6.9697,   7.3561,\n",
              "          9.9804,   9.3300,   4.4933,   8.3697,   9.7028,   7.1745,   3.7895,\n",
              "          7.9471,   5.0777,   7.8529,  10.3155,   6.5294,   9.1238,  10.3422,\n",
              "          6.5868,   9.0951,   9.1676,   6.9856,  10.6436,   9.4011,   9.7506,\n",
              "          8.7443,  12.8048,   7.9891,  10.9468,  14.9227,   8.8362,  11.8301,\n",
              "         10.6202,  14.3987,  10.0178,  14.7654,  10.2595,  13.6596,  14.4905,\n",
              "         14.1591,  13.8858,  10.2025,  12.0103,  13.3274,  14.4492,  16.1268,\n",
              "         15.6032,  12.7719,  17.0252,  18.4589,  14.7482,  16.1171,  13.2314,\n",
              "         13.2282,  21.2261,  14.4566,  13.3417,  16.9059,  14.8314,  16.4555,\n",
              "         18.8006,  15.3125,  17.5482,  21.8635,  18.8999,  19.8859,  22.1088,\n",
              "         17.1010,  18.1900,  17.7512,  18.1808,  20.7441,  22.9055,  15.2388,\n",
              "         21.5557,  19.0969,  19.1844,  20.0943,  20.8405,  18.9485,  18.8140,\n",
              "         21.4131,  25.6259,  22.4175,  16.4436,  20.4343,  21.8653,  20.6046,\n",
              "         24.5548,  26.1166,  24.4756,  22.3252,  23.9917,  25.3104,  26.7144,\n",
              "         23.9883,  26.0326,  20.0042,  24.5274])"
            ]
          },
          "metadata": {
            "tags": []
          },
          "execution_count": 44
        }
      ]
    },
    {
      "cell_type": "code",
      "metadata": {
        "colab": {
          "base_uri": "https://localhost:8080/",
          "height": 265
        },
        "id": "wkVXGQaE7bWe",
        "outputId": "b8131d2b-bb81-444a-e4ca-d7cc340b470c"
      },
      "source": [
        "plt.scatter(x,y, s= .8);"
      ],
      "execution_count": null,
      "outputs": [
        {
          "output_type": "display_data",
          "data": {
            "image/png": "[encoded data removed]",
            "text/plain": [
              "<Figure size 432x288 with 1 Axes>"
            ]
          },
          "metadata": {
            "tags": [],
            "needs_background": "light"
          }
        }
      ]
    },
    {
      "cell_type": "code",
      "metadata": {
        "colab": {
          "base_uri": "https://localhost:8080/"
        },
        "id": "I8eoYkmI7c9H",
        "outputId": "a814a22b-5f82-4222-be2e-5e7b56ccb993"
      },
      "source": [
        "w = torch.zeros_like(x, requires_grad=True)\n",
        "b = torch.tensor(0.0, requires_grad=True)\n",
        "w,b"
      ],
      "execution_count": null,
      "outputs": [
        {
          "output_type": "execute_result",
          "data": {
            "text/plain": [
              "(tensor([0., 0., 0., 0., 0., 0., 0., 0., 0., 0., 0., 0., 0., 0., 0., 0., 0., 0., 0., 0., 0., 0., 0., 0.,\n",
              "         0., 0., 0., 0., 0., 0., 0., 0., 0., 0., 0., 0., 0., 0., 0., 0., 0., 0., 0., 0., 0., 0., 0., 0.,\n",
              "         0., 0., 0., 0., 0., 0., 0., 0., 0., 0., 0., 0., 0., 0., 0., 0., 0., 0., 0., 0., 0., 0., 0., 0.,\n",
              "         0., 0., 0., 0., 0., 0., 0., 0., 0., 0., 0., 0., 0., 0., 0., 0., 0., 0., 0., 0., 0., 0., 0., 0.,\n",
              "         0., 0., 0., 0., 0., 0., 0., 0., 0., 0., 0., 0., 0., 0., 0., 0., 0., 0., 0., 0., 0., 0., 0., 0.,\n",
              "         0., 0., 0., 0., 0., 0., 0., 0., 0., 0., 0., 0., 0., 0., 0., 0., 0., 0., 0., 0., 0., 0., 0., 0.,\n",
              "         0., 0., 0., 0., 0., 0., 0., 0., 0., 0., 0., 0., 0., 0., 0., 0., 0., 0., 0., 0., 0., 0., 0., 0.,\n",
              "         0., 0., 0., 0., 0., 0., 0., 0., 0., 0., 0., 0., 0., 0., 0., 0., 0., 0., 0., 0., 0., 0., 0., 0.,\n",
              "         0., 0., 0., 0., 0., 0., 0., 0.], requires_grad=True),\n",
              " tensor(0., requires_grad=True))"
            ]
          },
          "metadata": {
            "tags": []
          },
          "execution_count": 46
        }
      ]
    },
    {
      "cell_type": "code",
      "metadata": {
        "colab": {
          "base_uri": "https://localhost:8080/"
        },
        "id": "YkNIKegf7z7r",
        "outputId": "30133c4e-23cf-437e-a8e1-998529f4b07d"
      },
      "source": [
        "w = torch.zeros_like(x, requires_grad=True)\n",
        "b = torch.tensor(0.0, requires_grad=True)\n",
        "lr = 0.1\n",
        "loss = torch.nn.MSELoss()\n",
        "\n",
        "for epoch in range(1001):\n",
        "    # Forward pass\n",
        "    y_hat = w*x + b\n",
        "    L = loss(y_hat,y)\n",
        "    if not epoch%100: print(f\"epoch: {epoch} MSE: {L:.4f}\")\n",
        "    \n",
        "    # Backward pass\n",
        "    L.backward()\n",
        "    with torch.no_grad():\n",
        "        w -= lr * w.grad\n",
        "        b -= lr * b.grad\n",
        "\n",
        "        b.grad = None\n",
        "        w.grad = None\n"
      ],
      "execution_count": null,
      "outputs": [
        {
          "output_type": "stream",
          "text": [
            "epoch: 0 MSE: 160.9168\n",
            "epoch: 100 MSE: 3.0072\n",
            "epoch: 200 MSE: 1.4913\n",
            "epoch: 300 MSE: 1.0552\n",
            "epoch: 400 MSE: 0.8411\n",
            "epoch: 500 MSE: 0.7101\n",
            "epoch: 600 MSE: 0.6204\n",
            "epoch: 700 MSE: 0.5545\n",
            "epoch: 800 MSE: 0.5036\n",
            "epoch: 900 MSE: 0.4630\n",
            "epoch: 1000 MSE: 0.4296\n"
          ],
          "name": "stdout"
        }
      ]
    },
    {
      "cell_type": "code",
      "metadata": {
        "colab": {
          "base_uri": "https://localhost:8080/"
        },
        "id": "QZ-xDjAF-95M",
        "outputId": "a50753f0-9723-42e0-b9ad-b973c1503f55"
      },
      "source": [
        "w.is_leaf"
      ],
      "execution_count": null,
      "outputs": [
        {
          "output_type": "execute_result",
          "data": {
            "text/plain": [
              "True"
            ]
          },
          "metadata": {
            "tags": []
          },
          "execution_count": 48
        }
      ]
    },
    {
      "cell_type": "code",
      "metadata": {
        "colab": {
          "base_uri": "https://localhost:8080/"
        },
        "id": "n-aOXQtRPOnO",
        "outputId": "27ecdcbc-105b-4faf-c650-af35a32bd294"
      },
      "source": [
        "def show_ids(*arg):\n",
        "    for x in arg:\n",
        "        print(id(x))\n",
        "\n",
        "\n",
        "w = torch.zeros_like(x, requires_grad=True)\n",
        "b = torch.tensor(0.0, requires_grad=True)\n",
        "lr = 0.1\n",
        "loss = torch.nn.MSELoss()\n",
        "\n",
        "for epoch in range(1001):\n",
        "    # Forward pass\n",
        "    y_hat = w*x + b\n",
        "    L = loss(y_hat,y)\n",
        "    if not epoch%100: print(f\"epoch: {epoch} MSE: {L:.4f}\")\n",
        "    \n",
        "    # w,b require grads\n",
        "    # show_ids(w,b)\n",
        "    \n",
        "    # Backward pass\n",
        "    L.backward()\n",
        "    with torch.no_grad():\n",
        "        w = w - lr * w.grad\n",
        "        b = b - lr * b.grad\n",
        "        # w,b are new objects now, which are created with rg = False due to no_grad()\n",
        "        # w,b are still leaf tensors\n",
        "\n",
        "        # turn on the rg flag\n",
        "        w.requires_grad_()\n",
        "        b.requires_grad_()\n",
        "\n",
        "    # show_ids(w,b)"
      ],
      "execution_count": null,
      "outputs": [
        {
          "output_type": "stream",
          "text": [
            "epoch: 0 MSE: 160.9168\n",
            "epoch: 100 MSE: 3.0072\n",
            "epoch: 200 MSE: 1.4913\n",
            "epoch: 300 MSE: 1.0552\n",
            "epoch: 400 MSE: 0.8411\n",
            "epoch: 500 MSE: 0.7101\n",
            "epoch: 600 MSE: 0.6204\n",
            "epoch: 700 MSE: 0.5545\n",
            "epoch: 800 MSE: 0.5036\n",
            "epoch: 900 MSE: 0.4630\n",
            "epoch: 1000 MSE: 0.4296\n"
          ],
          "name": "stdout"
        }
      ]
    },
    {
      "cell_type": "code",
      "metadata": {
        "colab": {
          "base_uri": "https://localhost:8080/"
        },
        "id": "uNwrU8JDCCQA",
        "outputId": "133a90ff-e05e-4ec3-84c6-07aa4c527b81"
      },
      "source": [
        "# -*- coding: utf-8 -*-\n",
        "import torch\n",
        "import math\n",
        "\n",
        "dtype = torch.float\n",
        "device = torch.device(\"cpu\")\n",
        "# device = torch.device(\"cuda:0\")  # Uncomment this to run on GPU\n",
        "\n",
        "# Create Tensors to hold input and outputs.\n",
        "# By default, requires_grad=False, which indicates that we do not need to\n",
        "# compute gradients with respect to these Tensors during the backward pass.\n",
        "x = torch.linspace(-math.pi, math.pi, 2000, device=device, dtype=dtype)\n",
        "y = torch.sin(x)\n",
        "\n",
        "# Create random Tensors for weights. For a third order polynomial, we need\n",
        "# 4 weights: y = a + b x + c x^2 + d x^3\n",
        "# Setting requires_grad=True indicates that we want to compute gradients with\n",
        "# respect to these Tensors during the backward pass.\n",
        "a = torch.randn((), device=device, dtype=dtype, requires_grad=True)\n",
        "b = torch.randn((), device=device, dtype=dtype, requires_grad=True)\n",
        "c = torch.randn((), device=device, dtype=dtype, requires_grad=True)\n",
        "d = torch.randn((), device=device, dtype=dtype, requires_grad=True)\n",
        "\n",
        "learning_rate = 1e-6\n",
        "for t in range(2000):\n",
        "    # Forward pass: compute predicted y using operations on Tensors.\n",
        "    y_pred = a + b * x + c * x ** 2 + d * x ** 3\n",
        "    # Compute and print loss using operations on Tensors.\n",
        "    # Now loss is a Tensor of shape (1,)\n",
        "    # loss.item() gets the scalar value held in the loss.\n",
        "    loss = (y_pred - y).pow(2).sum()\n",
        "    if t % 100 == 99:\n",
        "        print(t, loss.item())\n",
        "\n",
        "    # Use autograd to compute the backward pass. This call will compute the\n",
        "    # gradient of loss with respect to all Tensors with requires_grad=True.\n",
        "    # After this call a.grad, b.grad. c.grad and d.grad will be Tensors holding\n",
        "    # the gradient of the loss with respect to a, b, c, d respectively.\n",
        "    loss.backward()\n",
        "\n",
        "    # Manually update weights using gradient descent. Wrap in torch.no_grad()\n",
        "    # because weights have requires_grad=True, but we don't need to track this\n",
        "    # in autograd.\n",
        "    with torch.no_grad():\n",
        "        a -= learning_rate * a.grad\n",
        "        b -= learning_rate * b.grad\n",
        "        c -= learning_rate * c.grad\n",
        "        d -= learning_rate * d.grad\n",
        "\n",
        "        # Manually zero the gradients after updating weights\n",
        "        a.grad = None\n",
        "        b.grad = None\n",
        "        c.grad = None\n",
        "        d.grad = None\n",
        "\n",
        "print(f'Result: y = {a.item()} + {b.item()} x + {c.item()} x^2 + {d.item()} x^3')"
      ],
      "execution_count": null,
      "outputs": [
        {
          "output_type": "stream",
          "text": [
            "99 3749.250244140625\n",
            "199 2488.893798828125\n",
            "299 1653.5198974609375\n",
            "399 1099.73974609375\n",
            "499 732.5693969726562\n",
            "599 489.082275390625\n",
            "699 327.5841064453125\n",
            "799 220.44512939453125\n",
            "899 149.3529510498047\n",
            "999 102.16880798339844\n",
            "1099 70.84471130371094\n",
            "1199 50.04443359375\n",
            "1299 36.22840118408203\n",
            "1399 27.048768997192383\n",
            "1499 20.9477596282959\n",
            "1599 16.891530990600586\n",
            "1699 14.19388198852539\n",
            "1799 12.39908218383789\n",
            "1899 11.20449161529541\n",
            "1999 10.409086227416992\n",
            "Result: y = -0.015072436071932316 + 0.8205098509788513 x + 0.0026002456434071064 x^2 + -0.08817684650421143 x^3\n"
          ],
          "name": "stdout"
        }
      ]
    },
    {
      "cell_type": "code",
      "metadata": {
        "id": "nuS0hhp1CJcv"
      },
      "source": [
        "dt = torch.float\n",
        "a = torch.tensor((2),dtype=dt, requires_grad=True)\n",
        "b = torch.tensor((1))"
      ],
      "execution_count": null,
      "outputs": []
    },
    {
      "cell_type": "code",
      "metadata": {
        "id": "WLtNPyKyeDgo"
      },
      "source": [
        "p = a + b\n",
        "p.backward()"
      ],
      "execution_count": null,
      "outputs": []
    },
    {
      "cell_type": "code",
      "metadata": {
        "id": "bmSIvwhof11D"
      },
      "source": [
        "def show_is_leaf(*arg):\n",
        "    for x in arg:\n",
        "        print(x.is_leaf)"
      ],
      "execution_count": null,
      "outputs": []
    },
    {
      "cell_type": "code",
      "metadata": {
        "colab": {
          "base_uri": "https://localhost:8080/"
        },
        "id": "q6ddN3UeI5Do",
        "outputId": "95b27898-9feb-4fbd-fa12-cceb8168abe6"
      },
      "source": [
        "show_is_leaf(p,a,b)\n",
        "p,a,b"
      ],
      "execution_count": null,
      "outputs": [
        {
          "output_type": "stream",
          "text": [
            "False\n",
            "True\n",
            "True\n"
          ],
          "name": "stdout"
        },
        {
          "output_type": "execute_result",
          "data": {
            "text/plain": [
              "(tensor(3., grad_fn=<AddBackward0>), tensor(2., requires_grad=True), tensor(1))"
            ]
          },
          "metadata": {
            "tags": []
          },
          "execution_count": 54
        }
      ]
    },
    {
      "cell_type": "code",
      "metadata": {
        "colab": {
          "base_uri": "https://localhost:8080/"
        },
        "id": "ZhoFoX2yaMuN",
        "outputId": "9729894b-f80b-40ec-e5c1-2cbcfaeba0e1"
      },
      "source": [
        "a.grad"
      ],
      "execution_count": null,
      "outputs": [
        {
          "output_type": "execute_result",
          "data": {
            "text/plain": [
              "tensor(1.)"
            ]
          },
          "metadata": {
            "tags": []
          },
          "execution_count": 55
        }
      ]
    },
    {
      "cell_type": "code",
      "metadata": {
        "colab": {
          "base_uri": "https://localhost:8080/"
        },
        "id": "oZrEAI3uaRVg",
        "outputId": "354852c6-8df4-4fcc-f98f-65703b044978"
      },
      "source": [
        "a = a + a.grad*5\n",
        "a, a.requires_grad"
      ],
      "execution_count": null,
      "outputs": [
        {
          "output_type": "execute_result",
          "data": {
            "text/plain": [
              "(tensor(7., grad_fn=<AddBackward0>), True)"
            ]
          },
          "metadata": {
            "tags": []
          },
          "execution_count": 56
        }
      ]
    },
    {
      "cell_type": "markdown",
      "metadata": {
        "id": "Vjb5RJL-qSWs"
      },
      "source": [
        "A is no more leaf because it was created by an operation and it has rg = True"
      ]
    },
    {
      "cell_type": "code",
      "metadata": {
        "colab": {
          "base_uri": "https://localhost:8080/",
          "height": 189
        },
        "id": "WtgRHDF5wRxe",
        "outputId": "0e4d5c82-2292-4a97-f4cc-f7d485948002"
      },
      "source": [
        "a.requires_grad = False"
      ],
      "execution_count": null,
      "outputs": [
        {
          "output_type": "error",
          "ename": "RuntimeError",
          "evalue": "ignored",
          "traceback": [
            "\u001b[0;31m---------------------------------------------------------------------------\u001b[0m",
            "\u001b[0;31mRuntimeError\u001b[0m                              Traceback (most recent call last)",
            "\u001b[0;32m<ipython-input-57-fdc2cff0a844>\u001b[0m in \u001b[0;36m<module>\u001b[0;34m()\u001b[0m\n\u001b[0;32m----> 1\u001b[0;31m \u001b[0ma\u001b[0m\u001b[0;34m.\u001b[0m\u001b[0mrequires_grad\u001b[0m \u001b[0;34m=\u001b[0m \u001b[0;32mFalse\u001b[0m\u001b[0;34m\u001b[0m\u001b[0;34m\u001b[0m\u001b[0m\n\u001b[0m",
            "\u001b[0;31mRuntimeError\u001b[0m: you can only change requires_grad flags of leaf variables. If you want to use a computed variable in a subgraph that doesn't require differentiation use var_no_grad = var.detach()."
          ]
        }
      ]
    },
    {
      "cell_type": "code",
      "metadata": {
        "colab": {
          "base_uri": "https://localhost:8080/"
        },
        "id": "EOkN2I_XaTlo",
        "outputId": "b1fb9617-0c3d-4b12-a0ac-48ea2f8ccf16"
      },
      "source": [
        "show_is_leaf(p,a,b)\n",
        "p,a,b"
      ],
      "execution_count": null,
      "outputs": [
        {
          "output_type": "stream",
          "text": [
            "False\n",
            "False\n",
            "True\n"
          ],
          "name": "stdout"
        },
        {
          "output_type": "execute_result",
          "data": {
            "text/plain": [
              "(tensor(3., grad_fn=<AddBackward0>),\n",
              " tensor(7., grad_fn=<AddBackward0>),\n",
              " tensor(1))"
            ]
          },
          "metadata": {
            "tags": []
          },
          "execution_count": 62
        }
      ]
    },
    {
      "cell_type": "markdown",
      "metadata": {
        "id": "bgFLfjx4rI4r"
      },
      "source": [
        "b has rg = False, so it is leaf tensor by conv."
      ]
    },
    {
      "cell_type": "markdown",
      "metadata": {
        "id": "0P6tZDa6d-Gi"
      },
      "source": [
        "b.requires_grad\n"
      ]
    },
    {
      "cell_type": "code",
      "metadata": {
        "colab": {
          "base_uri": "https://localhost:8080/"
        },
        "id": "cw3cQgcsjHQ0",
        "outputId": "3d528268-2b89-45b8-fe48-aabea8672116"
      },
      "source": [
        "c = b*5\n",
        "c.is_leaf"
      ],
      "execution_count": null,
      "outputs": [
        {
          "output_type": "execute_result",
          "data": {
            "text/plain": [
              "True"
            ]
          },
          "metadata": {
            "tags": []
          },
          "execution_count": 63
        }
      ]
    },
    {
      "cell_type": "code",
      "metadata": {
        "colab": {
          "base_uri": "https://localhost:8080/"
        },
        "id": "ZZ55sjTgp4o-",
        "outputId": "c7621bec-5250-4218-8c1e-2be38bce0a32"
      },
      "source": [
        "c.requires_grad"
      ],
      "execution_count": null,
      "outputs": [
        {
          "output_type": "execute_result",
          "data": {
            "text/plain": [
              "False"
            ]
          },
          "metadata": {
            "tags": []
          },
          "execution_count": 64
        }
      ]
    },
    {
      "cell_type": "markdown",
      "metadata": {
        "id": "WH29I5J3rgPD"
      },
      "source": [
        "c was created by an operation, but since it has rg = False, it is also a leaf tensor."
      ]
    },
    {
      "cell_type": "code",
      "metadata": {
        "colab": {
          "base_uri": "https://localhost:8080/"
        },
        "id": "6W3byjotrot6",
        "outputId": "5b17e75a-4cdc-4cbc-f606-195e47e66b12"
      },
      "source": [
        "d = a * 5\n",
        "d"
      ],
      "execution_count": null,
      "outputs": [
        {
          "output_type": "execute_result",
          "data": {
            "text/plain": [
              "tensor(35., grad_fn=<MulBackward0>)"
            ]
          },
          "metadata": {
            "tags": []
          },
          "execution_count": 65
        }
      ]
    },
    {
      "cell_type": "code",
      "metadata": {
        "colab": {
          "base_uri": "https://localhost:8080/"
        },
        "id": "WSP67t20rxBt",
        "outputId": "46c3472d-9e12-4fa8-e042-a6c7911e7a73"
      },
      "source": [
        "d.is_leaf, d.requires_grad"
      ],
      "execution_count": null,
      "outputs": [
        {
          "output_type": "execute_result",
          "data": {
            "text/plain": [
              "(False, True)"
            ]
          },
          "metadata": {
            "tags": []
          },
          "execution_count": 66
        }
      ]
    },
    {
      "cell_type": "markdown",
      "metadata": {
        "id": "xNekhhGJrzPr"
      },
      "source": [
        "d is created by an operation and it has rg = True, so it is not leaf tensor."
      ]
    },
    {
      "cell_type": "code",
      "metadata": {
        "colab": {
          "base_uri": "https://localhost:8080/"
        },
        "id": "MVBb1KYEr-Ga",
        "outputId": "3539064f-2ac2-468f-ca24-6ac75da77134"
      },
      "source": [
        "with torch.no_grad():\n",
        "    e = a + d\n",
        "\n",
        "e.is_leaf, e.requires_grad"
      ],
      "execution_count": null,
      "outputs": [
        {
          "output_type": "execute_result",
          "data": {
            "text/plain": [
              "(True, False)"
            ]
          },
          "metadata": {
            "tags": []
          },
          "execution_count": 67
        }
      ]
    },
    {
      "cell_type": "markdown",
      "metadata": {
        "id": "JkluKJX-sQLE"
      },
      "source": [
        "e is created by a function, but due to context manager all rg were switched off, so it has rg = False which makes it a leaf tensor."
      ]
    },
    {
      "cell_type": "markdown",
      "metadata": {
        "id": "1_e8c6Zjsg5K"
      },
      "source": [
        "## Summary of rg and leaf\n",
        "\n",
        "\n",
        "*   if t has rg == False, it is a leaf tensor\n",
        "*   if t has rg == True and\n",
        "\n",
        "    *   if was created by an operation, it is not a leaf tensor\n",
        "    *   it was created by user, it is a leaf tensor\n",
        "\n",
        "\n",
        "*   if t is a leaf tensor\n",
        "\n",
        "    *   with rg == True, it's gradient will be computed whenever we call backward\n",
        "    *   with rg == False, to compute gradients, we need to set rg = True\n",
        "\n",
        "\n",
        "*   if t is not a leaf tensor \n",
        "\n",
        "    - it always has rg = True\n",
        "    - to compute their gradients use retain_grad()\n",
        "    - we cannot set rg = False\n",
        "\n",
        "\n",
        "\n",
        "\n",
        "\n",
        "\n"
      ]
    },
    {
      "cell_type": "markdown",
      "metadata": {
        "id": "OOo5M0F2WfSg"
      },
      "source": [
        "# Pipeline"
      ]
    },
    {
      "cell_type": "code",
      "metadata": {
        "colab": {
          "base_uri": "https://localhost:8080/"
        },
        "id": "ITEQkKzD-CYN",
        "outputId": "b75bf5ba-321c-49f2-8410-c098908f2dbf"
      },
      "source": [
        "y = 2*x + 3\n",
        "y"
      ],
      "execution_count": null,
      "outputs": [
        {
          "output_type": "execute_result",
          "data": {
            "text/plain": [
              "tensor([-3.2832, -3.2769, -3.2706,  ...,  9.2706,  9.2769,  9.2832])"
            ]
          },
          "metadata": {
            "tags": []
          },
          "execution_count": 68
        }
      ]
    },
    {
      "cell_type": "code",
      "metadata": {
        "id": "-WxPmvfu-tQl"
      },
      "source": [
        "def forward(w,x,b):\n",
        "    return w*x + b"
      ],
      "execution_count": null,
      "outputs": []
    },
    {
      "cell_type": "code",
      "metadata": {
        "id": "YigLA6an-U0T"
      },
      "source": [
        "w = torch.tensor(0.0, requires_grad= True)\n",
        "b = torch.tensor(0.0, requires_grad = True)\n",
        "lr = 0.01\n",
        "mse = torch.nn.MSELoss()\n",
        "optim = torch.optim.SGD([w,b],lr = lr)"
      ],
      "execution_count": null,
      "outputs": []
    },
    {
      "cell_type": "code",
      "metadata": {
        "colab": {
          "base_uri": "https://localhost:8080/"
        },
        "id": "WTJJIEIg-qDx",
        "outputId": "3f699673-c83e-4677-b870-63156c6ba747"
      },
      "source": [
        "n_iters = 1000\n",
        "for epoch in range(n_iters):\n",
        "    # FP\n",
        "    y_pred = forward(w,x,b)\n",
        "\n",
        "    # loss\n",
        "    loss = mse(y_pred, y)\n",
        "\n",
        "    # BP\n",
        "    loss.backward()\n",
        "\n",
        "    # update\n",
        "    optim.step()\n",
        "\n",
        "    # remove\n",
        "    optim.zero_grad()\n",
        "\n",
        "    if epoch%100 == 0:\n",
        "        print(f\"epoch: {epoch+1} W: {w.item():.4f} b: {b.item():.4f} mse: {loss:.4f}\")"
      ],
      "execution_count": null,
      "outputs": [
        {
          "output_type": "stream",
          "text": [
            "epoch: 1 W: 0.1317 b: 0.0600 mse: 22.1726\n",
            "epoch: 101 W: 1.9979 b: 2.6101 mse: 0.1583\n",
            "epoch: 201 W: 2.0000 b: 2.9483 mse: 0.0028\n",
            "epoch: 301 W: 2.0000 b: 2.9931 mse: 0.0000\n",
            "epoch: 401 W: 2.0000 b: 2.9991 mse: 0.0000\n",
            "epoch: 501 W: 2.0000 b: 2.9999 mse: 0.0000\n",
            "epoch: 601 W: 2.0000 b: 3.0000 mse: 0.0000\n",
            "epoch: 701 W: 2.0000 b: 3.0000 mse: 0.0000\n",
            "epoch: 801 W: 2.0000 b: 3.0000 mse: 0.0000\n",
            "epoch: 901 W: 2.0000 b: 3.0000 mse: 0.0000\n"
          ],
          "name": "stdout"
        }
      ]
    },
    {
      "cell_type": "code",
      "metadata": {
        "colab": {
          "base_uri": "https://localhost:8080/"
        },
        "id": "DdTVVgqT_3ts",
        "outputId": "b5f257d9-e927-4849-92f4-6dd363ecc49c"
      },
      "source": [
        "w,b"
      ],
      "execution_count": null,
      "outputs": [
        {
          "output_type": "execute_result",
          "data": {
            "text/plain": [
              "(tensor(2.0000, requires_grad=True), tensor(3.0000, requires_grad=True))"
            ]
          },
          "metadata": {
            "tags": []
          },
          "execution_count": 72
        }
      ]
    },
    {
      "cell_type": "markdown",
      "metadata": {
        "id": "WWa__xxyWowl"
      },
      "source": [
        "# LR automated"
      ]
    },
    {
      "cell_type": "code",
      "metadata": {
        "id": "REte1IfTA8Ok"
      },
      "source": [
        "X = x.view(-1,2)\n",
        "Y = 2*X[:,0] + 0.5*X[:,1] + 3\n",
        "Y = Y.view(X.shape[0],-1)"
      ],
      "execution_count": null,
      "outputs": []
    },
    {
      "cell_type": "code",
      "metadata": {
        "colab": {
          "base_uri": "https://localhost:8080/"
        },
        "id": "1-D9jVFOEQnc",
        "outputId": "f9b45343-867b-42c4-b659-10f59f3b5b4f"
      },
      "source": [
        "n_samples, n_features = X.shape\n",
        "n_samples, n_features"
      ],
      "execution_count": null,
      "outputs": [
        {
          "output_type": "execute_result",
          "data": {
            "text/plain": [
              "(1000, 2)"
            ]
          },
          "metadata": {
            "tags": []
          },
          "execution_count": 77
        }
      ]
    },
    {
      "cell_type": "code",
      "metadata": {
        "id": "bpYuPFRkC5k-"
      },
      "source": [
        "input_size = n_features\n",
        "output_size = 1\n",
        "model = torch.nn.Linear(input_size,output_size)\n",
        "\n",
        "lr = 0.01\n",
        "mse = torch.nn.MSELoss()\n",
        "optim = torch.optim.SGD(model.parameters(),lr = lr)"
      ],
      "execution_count": null,
      "outputs": []
    },
    {
      "cell_type": "code",
      "metadata": {
        "colab": {
          "base_uri": "https://localhost:8080/"
        },
        "id": "-RHq2x7xFwKk",
        "outputId": "e5877c67-58ad-4043-a1cf-46e2bde39824"
      },
      "source": [
        "n_iters = 1000\n",
        "for epoch in range(n_iters):\n",
        "    # FP\n",
        "    y_pred = model(X)\n",
        "\n",
        "    # loss\n",
        "    loss = mse(y_pred, Y)\n",
        "\n",
        "    # BP\n",
        "    loss.backward()\n",
        "\n",
        "    # update\n",
        "    optim.step()\n",
        "\n",
        "    # empty\n",
        "    optim.zero_grad()\n",
        "\n",
        "    if epoch%(n_iters//10) == 0:\n",
        "        w,b = model.parameters()\n",
        "        print(f\"epoch: {epoch+1} W: {w.tolist()[0]} b: {b.item():.4f} mse: {loss:.4f}\")"
      ],
      "execution_count": null,
      "outputs": [
        {
          "output_type": "stream",
          "text": [
            "epoch: 1 W: [0.33399394154548645, 0.20584553480148315] b: 0.3776 mse: 23.9325\n",
            "epoch: 101 W: [1.3105014562606812, 1.1894969940185547] b: 2.6503 mse: 0.1257\n",
            "epoch: 201 W: [1.3100286722183228, 1.1899713277816772] b: 2.9517 mse: 0.0022\n",
            "epoch: 301 W: [1.30996572971344, 1.19003427028656] b: 2.9917 mse: 0.0000\n",
            "epoch: 401 W: [1.3099582195281982, 1.1900417804718018] b: 2.9970 mse: 0.0000\n",
            "epoch: 501 W: [1.3099582195281982, 1.1900417804718018] b: 2.9977 mse: 0.0000\n",
            "epoch: 601 W: [1.3099582195281982, 1.1900417804718018] b: 2.9978 mse: 0.0000\n",
            "epoch: 701 W: [1.3099582195281982, 1.1900417804718018] b: 2.9978 mse: 0.0000\n",
            "epoch: 801 W: [1.3099582195281982, 1.1900417804718018] b: 2.9978 mse: 0.0000\n",
            "epoch: 901 W: [1.3099582195281982, 1.1900417804718018] b: 2.9978 mse: 0.0000\n"
          ],
          "name": "stdout"
        }
      ]
    },
    {
      "cell_type": "markdown",
      "metadata": {
        "id": "4Ltp66PvMyrr"
      },
      "source": [
        "# Broadcasting"
      ]
    },
    {
      "cell_type": "code",
      "metadata": {
        "colab": {
          "base_uri": "https://localhost:8080/"
        },
        "id": "S6hZJ5FrGFxs",
        "outputId": "a6f14438-f111-46d6-948b-be15e7cbd4da"
      },
      "source": [
        "A = torch.ones(2,2)\n",
        "B = torch.zeros(1,2)\n",
        "A,B"
      ],
      "execution_count": null,
      "outputs": [
        {
          "output_type": "execute_result",
          "data": {
            "text/plain": [
              "(tensor([[1., 1.],\n",
              "         [1., 1.]]), tensor([[0., 0.]]))"
            ]
          },
          "metadata": {
            "tags": []
          },
          "execution_count": 80
        }
      ]
    },
    {
      "cell_type": "code",
      "metadata": {
        "id": "BISvcy3vJowh"
      },
      "source": [
        "B += 2"
      ],
      "execution_count": null,
      "outputs": []
    },
    {
      "cell_type": "code",
      "metadata": {
        "colab": {
          "base_uri": "https://localhost:8080/"
        },
        "id": "mKwf6RKsMuKA",
        "outputId": "637e03e9-661f-4304-f824-0cf6265e738e"
      },
      "source": [
        "B"
      ],
      "execution_count": null,
      "outputs": [
        {
          "output_type": "execute_result",
          "data": {
            "text/plain": [
              "tensor([[2., 2.]])"
            ]
          },
          "metadata": {
            "tags": []
          },
          "execution_count": 82
        }
      ]
    },
    {
      "cell_type": "code",
      "metadata": {
        "colab": {
          "base_uri": "https://localhost:8080/"
        },
        "id": "q9ML16YOMu7U",
        "outputId": "992d611b-3649-440b-a9d0-8274a8a1fd6a"
      },
      "source": [
        "A + B"
      ],
      "execution_count": null,
      "outputs": [
        {
          "output_type": "execute_result",
          "data": {
            "text/plain": [
              "tensor([[3., 3.],\n",
              "        [3., 3.]])"
            ]
          },
          "metadata": {
            "tags": []
          },
          "execution_count": 83
        }
      ]
    },
    {
      "cell_type": "code",
      "metadata": {
        "colab": {
          "base_uri": "https://localhost:8080/"
        },
        "id": "qep-WTxbMwDF",
        "outputId": "969e75c2-c771-433c-bf23-c2488bfd30d1"
      },
      "source": [
        "A * B"
      ],
      "execution_count": null,
      "outputs": [
        {
          "output_type": "execute_result",
          "data": {
            "text/plain": [
              "tensor([[2., 2.],\n",
              "        [2., 2.]])"
            ]
          },
          "metadata": {
            "tags": []
          },
          "execution_count": 84
        }
      ]
    },
    {
      "cell_type": "code",
      "metadata": {
        "colab": {
          "base_uri": "https://localhost:8080/"
        },
        "id": "kdUtdlAZM6SH",
        "outputId": "a848922b-3ecf-4ca7-9e27-b0d4cd1870aa"
      },
      "source": [
        "A * B + 3"
      ],
      "execution_count": null,
      "outputs": [
        {
          "output_type": "execute_result",
          "data": {
            "text/plain": [
              "tensor([[5., 5.],\n",
              "        [5., 5.]])"
            ]
          },
          "metadata": {
            "tags": []
          },
          "execution_count": 85
        }
      ]
    },
    {
      "cell_type": "code",
      "metadata": {
        "colab": {
          "base_uri": "https://localhost:8080/"
        },
        "id": "N06gv7RuM8cO",
        "outputId": "b4980006-5fa5-4e56-fca6-47e583fe0eda"
      },
      "source": [
        "B += torch.tensor((2,5))\n",
        "B"
      ],
      "execution_count": null,
      "outputs": [
        {
          "output_type": "execute_result",
          "data": {
            "text/plain": [
              "tensor([[4., 7.]])"
            ]
          },
          "metadata": {
            "tags": []
          },
          "execution_count": 86
        }
      ]
    },
    {
      "cell_type": "code",
      "metadata": {
        "colab": {
          "base_uri": "https://localhost:8080/"
        },
        "id": "NWAApt8ANC9N",
        "outputId": "e6066b6b-861f-44aa-9bb2-170d36542098"
      },
      "source": [
        "A + B"
      ],
      "execution_count": null,
      "outputs": [
        {
          "output_type": "execute_result",
          "data": {
            "text/plain": [
              "tensor([[5., 8.],\n",
              "        [5., 8.]])"
            ]
          },
          "metadata": {
            "tags": []
          },
          "execution_count": 87
        }
      ]
    },
    {
      "cell_type": "code",
      "metadata": {
        "colab": {
          "base_uri": "https://localhost:8080/"
        },
        "id": "hRI3C3F2NMf0",
        "outputId": "78466c4e-a68d-4a84-bc70-ed4c10104e08"
      },
      "source": [
        "A"
      ],
      "execution_count": null,
      "outputs": [
        {
          "output_type": "execute_result",
          "data": {
            "text/plain": [
              "tensor([[1., 1.],\n",
              "        [1., 1.]])"
            ]
          },
          "metadata": {
            "tags": []
          },
          "execution_count": 88
        }
      ]
    },
    {
      "cell_type": "code",
      "metadata": {
        "id": "-61oipohNOGt"
      },
      "source": [
        "A[1:,:] = torch.tensor((3,5))"
      ],
      "execution_count": null,
      "outputs": []
    },
    {
      "cell_type": "code",
      "metadata": {
        "colab": {
          "base_uri": "https://localhost:8080/"
        },
        "id": "XQKaS7w-NsJi",
        "outputId": "c0e2238c-c48d-440c-8a78-e267b9affd33"
      },
      "source": [
        "A"
      ],
      "execution_count": null,
      "outputs": [
        {
          "output_type": "execute_result",
          "data": {
            "text/plain": [
              "tensor([[1., 1.],\n",
              "        [3., 5.]])"
            ]
          },
          "metadata": {
            "tags": []
          },
          "execution_count": 90
        }
      ]
    },
    {
      "cell_type": "code",
      "metadata": {
        "colab": {
          "base_uri": "https://localhost:8080/"
        },
        "id": "tHOvRhemNypG",
        "outputId": "a0947779-0d0a-45f5-c463-2677f11a5b3d"
      },
      "source": [
        "A + B"
      ],
      "execution_count": null,
      "outputs": [
        {
          "output_type": "execute_result",
          "data": {
            "text/plain": [
              "tensor([[ 5.,  8.],\n",
              "        [ 7., 12.]])"
            ]
          },
          "metadata": {
            "tags": []
          },
          "execution_count": 91
        }
      ]
    },
    {
      "cell_type": "code",
      "metadata": {
        "colab": {
          "base_uri": "https://localhost:8080/"
        },
        "id": "N-neKwlAOF0U",
        "outputId": "33109bc7-aabb-4685-8c0b-8e8792a1cc77"
      },
      "source": [
        "A"
      ],
      "execution_count": null,
      "outputs": [
        {
          "output_type": "execute_result",
          "data": {
            "text/plain": [
              "tensor([[1., 1.],\n",
              "        [3., 5.]])"
            ]
          },
          "metadata": {
            "tags": []
          },
          "execution_count": 92
        }
      ]
    },
    {
      "cell_type": "code",
      "metadata": {
        "colab": {
          "base_uri": "https://localhost:8080/"
        },
        "id": "nQlybpjHN0p8",
        "outputId": "2da4026d-2960-4de2-cc91-34bc6ddc5d80"
      },
      "source": [
        "C = A[:,0] * 2 + A[:,1]*0.5\n",
        "C"
      ],
      "execution_count": null,
      "outputs": [
        {
          "output_type": "execute_result",
          "data": {
            "text/plain": [
              "tensor([2.5000, 8.5000])"
            ]
          },
          "metadata": {
            "tags": []
          },
          "execution_count": 93
        }
      ]
    },
    {
      "cell_type": "code",
      "metadata": {
        "colab": {
          "base_uri": "https://localhost:8080/"
        },
        "id": "fHej_mtCN9Hn",
        "outputId": "97afb2ea-9038-420d-f1aa-b9cf91ad3cbe"
      },
      "source": [
        "D = A * torch.tensor((2,0.5)) \n",
        "D.sum(1)"
      ],
      "execution_count": null,
      "outputs": [
        {
          "output_type": "execute_result",
          "data": {
            "text/plain": [
              "tensor([2.5000, 8.5000])"
            ]
          },
          "metadata": {
            "tags": []
          },
          "execution_count": 94
        }
      ]
    },
    {
      "cell_type": "code",
      "metadata": {
        "id": "dKxc6l1XOT8U"
      },
      "source": [
        ""
      ],
      "execution_count": null,
      "outputs": []
    },
    {
      "cell_type": "markdown",
      "metadata": {
        "id": "YRx0Emdc8x4L"
      },
      "source": [
        "# Logistic Regression"
      ]
    },
    {
      "cell_type": "code",
      "metadata": {
        "id": "bZW48Key80yc"
      },
      "source": [
        "from sklearn import datasets\n",
        "from sklearn.preprocessing import StandardScaler\n",
        "from sklearn.metrics import accuracy_score\n",
        "from sklearn.model_selection import train_test_split\n",
        "import numpy as np"
      ],
      "execution_count": null,
      "outputs": []
    },
    {
      "cell_type": "code",
      "metadata": {
        "id": "ZoJg302j9ENG"
      },
      "source": [
        "# Prepare the data\n",
        "# Load the data\n",
        "ds = datasets.load_breast_cancer()\n",
        "X,y = ds.data, ds.target\n",
        "\n",
        "# Split the dataset\n",
        "X_train, X_test, y_train, y_true = train_test_split(X,y,test_size = 0.2, random_state = 99)\n",
        "\n",
        "# Transfrom into standard scaler\n",
        "sc = StandardScaler()\n",
        "X_train = sc.fit_transform(X_train)\n",
        "X_test = sc.transform(X_test)\n",
        "\n",
        "# Make them tensors\n",
        "\n",
        "X_train = torch.from_numpy(X_train.astype(np.float32))\n",
        "X_test = torch.from_numpy(X_test.astype(np.float32))\n",
        "y_train = torch.from_numpy(y_train.astype(np.float32)).view(-1,1)\n",
        "y_true = torch.from_numpy(y_true.astype(np.float32)).view(-1,1)\n"
      ],
      "execution_count": null,
      "outputs": []
    },
    {
      "cell_type": "code",
      "metadata": {
        "id": "auwnOxmf-IeY"
      },
      "source": [
        "# Design the model\n",
        "\n",
        "class LogisticRegression(torch.nn.Module):\n",
        "    def __init__(self, n_input_features):\n",
        "        super().__init__()\n",
        "        self.linear = torch.nn.Linear(n_input_features,1)\n",
        "\n",
        "    def forward(self,x):\n",
        "        linear_results = self.linear(x)\n",
        "        return torch.sigmoid(linear_results)\n",
        "\n",
        "f = X_train.shape[1]\n",
        "model = LogisticRegression(n_input_features= f)\n"
      ],
      "execution_count": null,
      "outputs": []
    },
    {
      "cell_type": "code",
      "metadata": {
        "id": "pkFWwIAZAec8"
      },
      "source": [
        "# Loss and Optimizer\n",
        "\n",
        "lr = 0.01\n",
        "criterion = torch.nn.BCELoss()\n",
        "optimizer = torch.optim.SGD(model.parameters(), lr = lr)"
      ],
      "execution_count": null,
      "outputs": []
    },
    {
      "cell_type": "code",
      "metadata": {
        "colab": {
          "base_uri": "https://localhost:8080/"
        },
        "id": "GbsEulxzBV-M",
        "outputId": "b2ee2f29-5bb6-4244-a35d-260269bca3bb"
      },
      "source": [
        "# Training loop\n",
        "\n",
        "n_epochs = 100\n",
        "print_every = n_epochs // 10\n",
        "\n",
        "for epoch in range(n_epochs):\n",
        "\n",
        "    # FP\n",
        "    y_pred = model(X_train)\n",
        "\n",
        "    # compute loss and gradients for BP\n",
        "    loss = criterion(y_pred, y_train)\n",
        "    loss.backward()\n",
        "\n",
        "    # Apply gradients\n",
        "    optimizer.step()\n",
        "\n",
        "    # remove the gradients\n",
        "    optimizer.zero_grad()\n",
        "\n",
        "    if epoch % print_every == 9:\n",
        "        print(f\"epoch: {epoch+1} loss: {loss.item():.2f}\")"
      ],
      "execution_count": null,
      "outputs": [
        {
          "output_type": "stream",
          "text": [
            "epoch: 10 loss: 0.67\n",
            "epoch: 20 loss: 0.53\n",
            "epoch: 30 loss: 0.44\n",
            "epoch: 40 loss: 0.38\n",
            "epoch: 50 loss: 0.35\n",
            "epoch: 60 loss: 0.32\n",
            "epoch: 70 loss: 0.29\n",
            "epoch: 80 loss: 0.27\n",
            "epoch: 90 loss: 0.26\n",
            "epoch: 100 loss: 0.25\n"
          ],
          "name": "stdout"
        }
      ]
    },
    {
      "cell_type": "code",
      "metadata": {
        "colab": {
          "base_uri": "https://localhost:8080/"
        },
        "id": "idiJKiINCw4_",
        "outputId": "fbe25f7b-c1a3-4f1e-b984-35448dc2205c"
      },
      "source": [
        "with torch.no_grad():\n",
        "    y_pred = model(X_test).round()\n",
        "    print(f\"Test Accuracy: {accuracy_score(y_true, y_pred):.4f}\")"
      ],
      "execution_count": null,
      "outputs": [
        {
          "output_type": "stream",
          "text": [
            "Test Accuracy: 0.9035\n"
          ],
          "name": "stdout"
        }
      ]
    },
    {
      "cell_type": "code",
      "metadata": {
        "colab": {
          "base_uri": "https://localhost:8080/"
        },
        "id": "5osKVeq4ETkU",
        "outputId": "d3ac7f27-32ec-480a-cd22-94995784459f"
      },
      "source": [
        "for x in model.parameters():\n",
        "    print(x.data)"
      ],
      "execution_count": null,
      "outputs": [
        {
          "output_type": "stream",
          "text": [
            "tensor([[-0.1240, -0.1859, -0.0208, -0.0046, -0.0734,  0.0311, -0.0939, -0.2673,\n",
            "          0.0228, -0.0266, -0.0261,  0.1275, -0.2879, -0.2661, -0.0339, -0.0292,\n",
            "          0.0216,  0.0521, -0.0308,  0.0034, -0.2422, -0.1695, -0.0863, -0.2029,\n",
            "         -0.1837, -0.0608, -0.1564, -0.3139, -0.1078, -0.0592]])\n",
            "tensor([-0.0170])\n"
          ],
          "name": "stdout"
        }
      ]
    },
    {
      "cell_type": "code",
      "metadata": {
        "colab": {
          "base_uri": "https://localhost:8080/"
        },
        "id": "B2300Wb-Hw2m",
        "outputId": "72e6639b-a9bc-40e2-c013-3cde0d23d234"
      },
      "source": [
        "W,b = model.linear.parameters()\n",
        "W,b"
      ],
      "execution_count": null,
      "outputs": [
        {
          "output_type": "execute_result",
          "data": {
            "text/plain": [
              "(Parameter containing:\n",
              " tensor([[-0.1240, -0.1859, -0.0208, -0.0046, -0.0734,  0.0311, -0.0939, -0.2673,\n",
              "           0.0228, -0.0266, -0.0261,  0.1275, -0.2879, -0.2661, -0.0339, -0.0292,\n",
              "           0.0216,  0.0521, -0.0308,  0.0034, -0.2422, -0.1695, -0.0863, -0.2029,\n",
              "          -0.1837, -0.0608, -0.1564, -0.3139, -0.1078, -0.0592]],\n",
              "        requires_grad=True), Parameter containing:\n",
              " tensor([-0.0170], requires_grad=True))"
            ]
          },
          "metadata": {
            "tags": []
          },
          "execution_count": 54
        }
      ]
    },
    {
      "cell_type": "code",
      "metadata": {
        "colab": {
          "base_uri": "https://localhost:8080/"
        },
        "id": "SCEhNvSpH-sE",
        "outputId": "6c952da7-bb59-49ff-cb1e-210ea5f4dde8"
      },
      "source": [
        "type(W)"
      ],
      "execution_count": null,
      "outputs": [
        {
          "output_type": "execute_result",
          "data": {
            "text/plain": [
              "torch.nn.parameter.Parameter"
            ]
          },
          "metadata": {
            "tags": []
          },
          "execution_count": 55
        }
      ]
    },
    {
      "cell_type": "code",
      "metadata": {
        "colab": {
          "base_uri": "https://localhost:8080/"
        },
        "id": "MOVWEjssIQbW",
        "outputId": "53d18d0c-d724-460d-a2c6-10e279784c39"
      },
      "source": [
        "W.data"
      ],
      "execution_count": null,
      "outputs": [
        {
          "output_type": "execute_result",
          "data": {
            "text/plain": [
              "tensor([[-0.1240, -0.1859, -0.0208, -0.0046, -0.0734,  0.0311, -0.0939, -0.2673,\n",
              "          0.0228, -0.0266, -0.0261,  0.1275, -0.2879, -0.2661, -0.0339, -0.0292,\n",
              "          0.0216,  0.0521, -0.0308,  0.0034, -0.2422, -0.1695, -0.0863, -0.2029,\n",
              "         -0.1837, -0.0608, -0.1564, -0.3139, -0.1078, -0.0592]])"
            ]
          },
          "metadata": {
            "tags": []
          },
          "execution_count": 56
        }
      ]
    },
    {
      "cell_type": "code",
      "metadata": {
        "colab": {
          "base_uri": "https://localhost:8080/"
        },
        "id": "hfIehvweIT4d",
        "outputId": "9c22f4d5-9c3c-4302-cbc7-ac97ec6a29c2"
      },
      "source": [
        "b.data"
      ],
      "execution_count": null,
      "outputs": [
        {
          "output_type": "execute_result",
          "data": {
            "text/plain": [
              "tensor([-0.0170])"
            ]
          },
          "metadata": {
            "tags": []
          },
          "execution_count": 57
        }
      ]
    },
    {
      "cell_type": "markdown",
      "metadata": {
        "id": "ZxOh8V7nAhC6"
      },
      "source": [
        "# Dataset and Dataloader"
      ]
    },
    {
      "cell_type": "code",
      "metadata": {
        "id": "zIFazhYoAkcr"
      },
      "source": [
        "import torch\n",
        "import numpy as np\n",
        "import torchvision\n",
        "from torch.utils.data import DataLoader, Dataset"
      ],
      "execution_count": null,
      "outputs": []
    },
    {
      "cell_type": "code",
      "metadata": {
        "colab": {
          "base_uri": "https://localhost:8080/"
        },
        "id": "Gr60aK1_AoId",
        "outputId": "f3ad5bc7-df18-4991-f9ad-63afa36fe8bb"
      },
      "source": [
        "! wget 'https://raw.githubusercontent.com/python-engineer/pytorchTutorial/master/data/wine/wine.csv' wine.csv"
      ],
      "execution_count": null,
      "outputs": [
        {
          "output_type": "stream",
          "text": [
            "--2021-04-13 16:27:25--  https://raw.githubusercontent.com/python-engineer/pytorchTutorial/master/data/wine/wine.csv\n",
            "Resolving raw.githubusercontent.com (raw.githubusercontent.com)... 185.199.109.133, 185.199.111.133, 185.199.108.133, ...\n",
            "Connecting to raw.githubusercontent.com (raw.githubusercontent.com)|185.199.109.133|:443... connected.\n",
            "HTTP request sent, awaiting response... 200 OK\n",
            "Length: 10889 (11K) [text/plain]\n",
            "Saving to: ‘wine.csv’\n",
            "\n",
            "\rwine.csv              0%[                    ]       0  --.-KB/s               \rwine.csv            100%[===================>]  10.63K  --.-KB/s    in 0s      \n",
            "\n",
            "2021-04-13 16:27:25 (30.4 MB/s) - ‘wine.csv’ saved [10889/10889]\n",
            "\n",
            "--2021-04-13 16:27:25--  http://wine.csv/\n",
            "Resolving wine.csv (wine.csv)... failed: Name or service not known.\n",
            "wget: unable to resolve host address ‘wine.csv’\n",
            "FINISHED --2021-04-13 16:27:25--\n",
            "Total wall clock time: 0.1s\n",
            "Downloaded: 1 files, 11K in 0s (30.4 MB/s)\n"
          ],
          "name": "stdout"
        }
      ]
    },
    {
      "cell_type": "code",
      "metadata": {
        "colab": {
          "base_uri": "https://localhost:8080/"
        },
        "id": "xGVR6trdDn-C",
        "outputId": "bdb4f101-0ae8-471e-9f77-d53c4728cfaf"
      },
      "source": [
        "! ls"
      ],
      "execution_count": null,
      "outputs": [
        {
          "output_type": "stream",
          "text": [
            "github.com  raw.githubusercontent.com  sample_data  wine.csv\n"
          ],
          "name": "stdout"
        }
      ]
    },
    {
      "cell_type": "code",
      "metadata": {
        "id": "hYrMoeqcDDIj"
      },
      "source": [
        "class WineDataset(Dataset):\n",
        "    def __init__(self, transform = None):\n",
        "        ds = np.loadtxt('wine.csv', delimiter= ',', skiprows=1, dtype= np.float)\n",
        "        self.transform = transform\n",
        "        self.X = ds[:,1:]\n",
        "        self.y = ds[:,[0]]\n",
        "    \n",
        "\n",
        "    def __len__(self):\n",
        "        return self.X.shape[0]\n",
        "\n",
        "    \n",
        "    def __getitem__(self,index):\n",
        "        sample = self.X[index], self.y[index]\n",
        "        return self.transform(sample)\n",
        "\n",
        "\n",
        "dataset = WineDataset()\n"
      ],
      "execution_count": null,
      "outputs": []
    },
    {
      "cell_type": "code",
      "metadata": {
        "colab": {
          "base_uri": "https://localhost:8080/"
        },
        "id": "DCF44XcHEj1O",
        "outputId": "9554d7a4-e717-4881-bec3-b36c972fe48b"
      },
      "source": [
        "dataset[0]"
      ],
      "execution_count": null,
      "outputs": [
        {
          "output_type": "execute_result",
          "data": {
            "text/plain": [
              "(array([1.423e+01, 1.710e+00, 2.430e+00, 1.560e+01, 1.270e+02, 2.800e+00,\n",
              "        3.060e+00, 2.800e-01, 2.290e+00, 5.640e+00, 1.040e+00, 3.920e+00,\n",
              "        1.065e+03]), array([1.]))"
            ]
          },
          "metadata": {
            "tags": []
          },
          "execution_count": 25
        }
      ]
    },
    {
      "cell_type": "code",
      "metadata": {
        "colab": {
          "base_uri": "https://localhost:8080/"
        },
        "id": "GtUxONzfErqi",
        "outputId": "6072fe14-beaf-4ba0-b33c-44f00f8e1bf7"
      },
      "source": [
        "dataloader = DataLoader(dataset= dataset, batch_size= 2, shuffle=True, num_workers = 2)\n",
        "looper = iter(dataloader)\n",
        "\n",
        "looper.next()"
      ],
      "execution_count": null,
      "outputs": [
        {
          "output_type": "execute_result",
          "data": {
            "text/plain": [
              "[tensor([[1.2930e+01, 3.8000e+00, 2.6500e+00, 1.8600e+01, 1.0200e+02, 2.4100e+00,\n",
              "          2.4100e+00, 2.5000e-01, 1.9800e+00, 4.5000e+00, 1.0300e+00, 3.5200e+00,\n",
              "          7.7000e+02],\n",
              "         [1.2850e+01, 1.6000e+00, 2.5200e+00, 1.7800e+01, 9.5000e+01, 2.4800e+00,\n",
              "          2.3700e+00, 2.6000e-01, 1.4600e+00, 3.9300e+00, 1.0900e+00, 3.6300e+00,\n",
              "          1.0150e+03]], dtype=torch.float64), tensor([[1.],\n",
              "         [1.]], dtype=torch.float64)]"
            ]
          },
          "metadata": {
            "tags": []
          },
          "execution_count": 26
        }
      ]
    },
    {
      "cell_type": "code",
      "metadata": {
        "colab": {
          "base_uri": "https://localhost:8080/"
        },
        "id": "yb7sY1nDFepV",
        "outputId": "39bd4f38-02aa-4905-e80d-24d568bfb862"
      },
      "source": [
        "for i, (X,y) in enumerate(dataloader):\n",
        "    print(X,y)\n",
        "    if torch. == 5: break"
      ],
      "execution_count": null,
      "outputs": [
        {
          "output_type": "stream",
          "text": [
            "tensor([[1.2720e+01, 1.8100e+00, 2.2000e+00, 1.8800e+01, 8.6000e+01, 2.2000e+00,\n",
            "         2.5300e+00, 2.6000e-01, 1.7700e+00, 3.9000e+00, 1.1600e+00, 3.1400e+00,\n",
            "         7.1400e+02],\n",
            "        [1.1760e+01, 2.6800e+00, 2.9200e+00, 2.0000e+01, 1.0300e+02, 1.7500e+00,\n",
            "         2.0300e+00, 6.0000e-01, 1.0500e+00, 3.8000e+00, 1.2300e+00, 2.5000e+00,\n",
            "         6.0700e+02]], dtype=torch.float64) tensor([[2.],\n",
            "        [2.]], dtype=torch.float64)\n",
            "tensor([[1.3340e+01, 9.4000e-01, 2.3600e+00, 1.7000e+01, 1.1000e+02, 2.5300e+00,\n",
            "         1.3000e+00, 5.5000e-01, 4.2000e-01, 3.1700e+00, 1.0200e+00, 1.9300e+00,\n",
            "         7.5000e+02],\n",
            "        [1.4100e+01, 2.0200e+00, 2.4000e+00, 1.8800e+01, 1.0300e+02, 2.7500e+00,\n",
            "         2.9200e+00, 3.2000e-01, 2.3800e+00, 6.2000e+00, 1.0700e+00, 2.7500e+00,\n",
            "         1.0600e+03]], dtype=torch.float64) tensor([[2.],\n",
            "        [1.]], dtype=torch.float64)\n",
            "tensor([[1.3070e+01, 1.5000e+00, 2.1000e+00, 1.5500e+01, 9.8000e+01, 2.4000e+00,\n",
            "         2.6400e+00, 2.8000e-01, 1.3700e+00, 3.7000e+00, 1.1800e+00, 2.6900e+00,\n",
            "         1.0200e+03],\n",
            "        [1.3050e+01, 1.7300e+00, 2.0400e+00, 1.2400e+01, 9.2000e+01, 2.7200e+00,\n",
            "         3.2700e+00, 1.7000e-01, 2.9100e+00, 7.2000e+00, 1.1200e+00, 2.9100e+00,\n",
            "         1.1500e+03]], dtype=torch.float64) tensor([[1.],\n",
            "        [1.]], dtype=torch.float64)\n",
            "tensor([[1.3160e+01, 3.5700e+00, 2.1500e+00, 2.1000e+01, 1.0200e+02, 1.5000e+00,\n",
            "         5.5000e-01, 4.3000e-01, 1.3000e+00, 4.0000e+00, 6.0000e-01, 1.6800e+00,\n",
            "         8.3000e+02],\n",
            "        [1.2840e+01, 2.9600e+00, 2.6100e+00, 2.4000e+01, 1.0100e+02, 2.3200e+00,\n",
            "         6.0000e-01, 5.3000e-01, 8.1000e-01, 4.9200e+00, 8.9000e-01, 2.1500e+00,\n",
            "         5.9000e+02]], dtype=torch.float64) tensor([[3.],\n",
            "        [3.]], dtype=torch.float64)\n",
            "tensor([[1.2520e+01, 2.4300e+00, 2.1700e+00, 2.1000e+01, 8.8000e+01, 2.5500e+00,\n",
            "         2.2700e+00, 2.6000e-01, 1.2200e+00, 2.0000e+00, 9.0000e-01, 2.7800e+00,\n",
            "         3.2500e+02],\n",
            "        [1.3240e+01, 3.9800e+00, 2.2900e+00, 1.7500e+01, 1.0300e+02, 2.6400e+00,\n",
            "         2.6300e+00, 3.2000e-01, 1.6600e+00, 4.3600e+00, 8.2000e-01, 3.0000e+00,\n",
            "         6.8000e+02]], dtype=torch.float64) tensor([[2.],\n",
            "        [1.]], dtype=torch.float64)\n",
            "tensor([[1.2000e+01, 9.2000e-01, 2.0000e+00, 1.9000e+01, 8.6000e+01, 2.4200e+00,\n",
            "         2.2600e+00, 3.0000e-01, 1.4300e+00, 2.5000e+00, 1.3800e+00, 3.1200e+00,\n",
            "         2.7800e+02],\n",
            "        [1.2250e+01, 4.7200e+00, 2.5400e+00, 2.1000e+01, 8.9000e+01, 1.3800e+00,\n",
            "         4.7000e-01, 5.3000e-01, 8.0000e-01, 3.8500e+00, 7.5000e-01, 1.2700e+00,\n",
            "         7.2000e+02]], dtype=torch.float64) tensor([[2.],\n",
            "        [3.]], dtype=torch.float64)\n",
            "tensor([[1.3830e+01, 1.6500e+00, 2.6000e+00, 1.7200e+01, 9.4000e+01, 2.4500e+00,\n",
            "         2.9900e+00, 2.2000e-01, 2.2900e+00, 5.6000e+00, 1.2400e+00, 3.3700e+00,\n",
            "         1.2650e+03],\n",
            "        [1.3580e+01, 2.5800e+00, 2.6900e+00, 2.4500e+01, 1.0500e+02, 1.5500e+00,\n",
            "         8.4000e-01, 3.9000e-01, 1.5400e+00, 8.6600e+00, 7.4000e-01, 1.8000e+00,\n",
            "         7.5000e+02]], dtype=torch.float64) tensor([[1.],\n",
            "        [3.]], dtype=torch.float64)\n"
          ],
          "name": "stdout"
        }
      ]
    },
    {
      "cell_type": "code",
      "metadata": {
        "id": "Gpq5vagFFlLb"
      },
      "source": [
        "class ToTensor:\n",
        "    def __call__(self, sample):\n",
        "        x,y = sample\n",
        "        return torch.from_numpy(x), torch.from_numpy(y)"
      ],
      "execution_count": null,
      "outputs": []
    },
    {
      "cell_type": "code",
      "metadata": {
        "colab": {
          "base_uri": "https://localhost:8080/"
        },
        "id": "bq0l5v-5H4K2",
        "outputId": "153399df-b478-417c-ccef-5194f25b8a96"
      },
      "source": [
        "totensor = ToTensor()\n",
        "dsWithTransform = WineDataset(transform=totensor)\n",
        "dataloader = DataLoader(dataset= dsWithTransform, batch_size= 2, shuffle=True, num_workers = 2)\n",
        "looper = iter(dataloader)\n",
        "\n",
        "looper.next()"
      ],
      "execution_count": null,
      "outputs": [
        {
          "output_type": "execute_result",
          "data": {
            "text/plain": [
              "[tensor([[1.3320e+01, 3.2400e+00, 2.3800e+00, 2.1500e+01, 9.2000e+01, 1.9300e+00,\n",
              "          7.6000e-01, 4.5000e-01, 1.2500e+00, 8.4200e+00, 5.5000e-01, 1.6200e+00,\n",
              "          6.5000e+02],\n",
              "         [1.4370e+01, 1.9500e+00, 2.5000e+00, 1.6800e+01, 1.1300e+02, 3.8500e+00,\n",
              "          3.4900e+00, 2.4000e-01, 2.1800e+00, 7.8000e+00, 8.6000e-01, 3.4500e+00,\n",
              "          1.4800e+03]], dtype=torch.float64), tensor([[3.],\n",
              "         [1.]], dtype=torch.float64)]"
            ]
          },
          "metadata": {
            "tags": []
          },
          "execution_count": 38
        }
      ]
    },
    {
      "cell_type": "code",
      "metadata": {
        "id": "hSZcrKgxH8_K"
      },
      "source": [
        ""
      ],
      "execution_count": null,
      "outputs": []
    },
    {
      "cell_type": "markdown",
      "metadata": {
        "id": "pGy2H47ixt2x"
      },
      "source": [
        "# Feed Forward Network"
      ]
    },
    {
      "cell_type": "code",
      "metadata": {
        "id": "x8v_II6YxxNm"
      },
      "source": [
        "import numpy as np\n",
        "import torch\n",
        "import torchvision\n",
        "import torch.nn as nn\n",
        "import matplotlib.pyplot as plt"
      ],
      "execution_count": null,
      "outputs": []
    },
    {
      "cell_type": "code",
      "metadata": {
        "id": "cVTzYE4c02zB"
      },
      "source": [
        "# Device setup\n",
        "device = torch.device('cuda' if torch.cuda.is_available() else 'cpu')\n",
        "\n",
        "# Load the dataset\n",
        "\n",
        "train = torchvision.datasets.MNIST('./data', train = True, \n",
        "                                   transform = torchvision.transforms.ToTensor(),\n",
        "                                   download = True\n",
        "                                   )\n",
        "test = torchvision.datasets.MNIST('./data', train = False,\n",
        "                                   transform = torchvision.transforms.ToTensor(),\n",
        "                                   )"
      ],
      "execution_count": null,
      "outputs": []
    },
    {
      "cell_type": "code",
      "metadata": {
        "colab": {
          "base_uri": "https://localhost:8080/"
        },
        "id": "YLvc6RvL2p_Z",
        "outputId": "d551601f-3d07-4e87-f5b5-32f8a210d7c0"
      },
      "source": [
        "train.data.shape"
      ],
      "execution_count": null,
      "outputs": [
        {
          "output_type": "execute_result",
          "data": {
            "text/plain": [
              "torch.Size([60000, 28, 28])"
            ]
          },
          "metadata": {
            "tags": []
          },
          "execution_count": 59
        }
      ]
    },
    {
      "cell_type": "code",
      "metadata": {
        "id": "THW9eeO_0tdN"
      },
      "source": [
        "input_size = train.data.shape[0]\n",
        "n_clasess = train.targets.unique().shape[0]\n",
        "input_features = 28*28\n",
        "\n",
        "# Hyper parameters\n",
        "hidden_size = 100\n",
        "batch_size = 50\n",
        "learning_rate = 0.01\n",
        "n_epochs = 2"
      ],
      "execution_count": null,
      "outputs": []
    },
    {
      "cell_type": "code",
      "metadata": {
        "id": "lN87lza93Q7u"
      },
      "source": [
        "train_dataloader = torch.utils.data.DataLoader(dataset = train, batch_size= batch_size, shuffle = True, num_workers=2)\n",
        "test_dataloader = torch.utils.data.DataLoader(dataset = test, batch_size= batch_size, num_workers=2)"
      ],
      "execution_count": null,
      "outputs": []
    },
    {
      "cell_type": "code",
      "metadata": {
        "colab": {
          "base_uri": "https://localhost:8080/"
        },
        "id": "GAHQ5LJX5ERb",
        "outputId": "34e4d6d7-9b88-46a1-f317-382b8e6bbfbb"
      },
      "source": [
        "looper = iter(train_dataloader)\n",
        "x,y = looper.next()\n",
        "x.shape, y.shape"
      ],
      "execution_count": null,
      "outputs": [
        {
          "output_type": "execute_result",
          "data": {
            "text/plain": [
              "(torch.Size([50, 1, 28, 28]), torch.Size([50]))"
            ]
          },
          "metadata": {
            "tags": []
          },
          "execution_count": 62
        }
      ]
    },
    {
      "cell_type": "code",
      "metadata": {
        "colab": {
          "base_uri": "https://localhost:8080/",
          "height": 481
        },
        "id": "9gDRpImx5fTO",
        "outputId": "33a054c6-819c-42dd-f6cf-dd27c3b4809c"
      },
      "source": [
        "plt.figure(figsize = (8,8))\n",
        "for i in range(20):\n",
        "    plt.subplot(4,5,i+1)\n",
        "    plt.imshow(x[i][0], cmap = 'gray')\n",
        "    plt.title(y[i].item())"
      ],
      "execution_count": null,
      "outputs": [
        {
          "output_type": "display_data",
          "data": {
            "image/png": "[encoded data removed]",
            "text/plain": [
              "<Figure size 576x576 with 20 Axes>"
            ]
          },
          "metadata": {
            "tags": [],
            "needs_background": "light"
          }
        }
      ]
    },
    {
      "cell_type": "code",
      "metadata": {
        "id": "b2Qd-RAQ6dNB"
      },
      "source": [
        "# Model\n",
        "class NeuralNet(nn.Module):\n",
        "    def __init__(self, n_inFeatures, hidden_size, n_classes):\n",
        "        super().__init__()\n",
        "        self.lin1 = nn.Linear(n_inFeatures, hidden_size)\n",
        "        self.lin2 = nn.Linear(hidden_size,n_clasess)\n",
        "    \n",
        "\n",
        "    def forward(self, x):\n",
        "        out = self.lin1(x)\n",
        "        out = torch.relu(out)\n",
        "        out = self.lin2(out)\n",
        "        return out\n",
        "    \n",
        "\n",
        "model = NeuralNet(input_features, hidden_size, n_clasess).to(device)"
      ],
      "execution_count": null,
      "outputs": []
    },
    {
      "cell_type": "code",
      "metadata": {
        "colab": {
          "base_uri": "https://localhost:8080/"
        },
        "id": "LJYFyQvM6zov",
        "outputId": "b45b08f3-0fad-425d-848b-8d50dc04a825"
      },
      "source": [
        "# loss and optimizer\n",
        "criterion = nn.CrossEntropyLoss()\n",
        "optim = torch.optim.Adam(model.parameters(), learning_rate)\n",
        "\n",
        "# Training loop\n",
        "print_every = 100\n",
        "for epoch in range(n_epochs):\n",
        "    for i, (data, labels) in enumerate(train_dataloader):\n",
        "        # Forward\n",
        "        \n",
        "        # Flatten the input and cast to device\n",
        "        # from 100 x 1 x 28 x 28 to 100 x 784\n",
        "        data = data.view(-1,input_features).to(device)\n",
        "        labels = labels.to(device)\n",
        "        preds = model(data)\n",
        "        loss = criterion(preds, labels)\n",
        "\n",
        "        # Backward\n",
        "        loss.backward()\n",
        "        optim.step()\n",
        "        # Remove gradients\n",
        "        optim.zero_grad()\n",
        "\n",
        "        # Progress\n",
        "        if i%print_every == 0:\n",
        "            print(f\"epoch: {epoch+1} step: {i}/{len(train_dataloader)} loss: {loss.item():.4f}\")"
      ],
      "execution_count": null,
      "outputs": [
        {
          "output_type": "stream",
          "text": [
            "epoch: 1 step: 0/1200 loss: 2.2861\n",
            "epoch: 1 step: 100/1200 loss: 0.2786\n",
            "epoch: 1 step: 200/1200 loss: 0.1091\n",
            "epoch: 1 step: 300/1200 loss: 0.3305\n",
            "epoch: 1 step: 400/1200 loss: 0.1848\n",
            "epoch: 1 step: 500/1200 loss: 0.1764\n",
            "epoch: 1 step: 600/1200 loss: 0.2409\n",
            "epoch: 1 step: 700/1200 loss: 0.0389\n",
            "epoch: 1 step: 800/1200 loss: 0.0564\n",
            "epoch: 1 step: 900/1200 loss: 0.1042\n",
            "epoch: 1 step: 1000/1200 loss: 0.2794\n",
            "epoch: 1 step: 1100/1200 loss: 0.3557\n",
            "epoch: 2 step: 0/1200 loss: 0.1060\n",
            "epoch: 2 step: 100/1200 loss: 0.0967\n",
            "epoch: 2 step: 200/1200 loss: 0.2436\n",
            "epoch: 2 step: 300/1200 loss: 0.0441\n",
            "epoch: 2 step: 400/1200 loss: 0.0778\n",
            "epoch: 2 step: 500/1200 loss: 0.1291\n",
            "epoch: 2 step: 600/1200 loss: 0.2579\n",
            "epoch: 2 step: 700/1200 loss: 0.0706\n",
            "epoch: 2 step: 800/1200 loss: 0.3505\n",
            "epoch: 2 step: 900/1200 loss: 0.2993\n",
            "epoch: 2 step: 1000/1200 loss: 0.2008\n",
            "epoch: 2 step: 1100/1200 loss: 0.0371\n"
          ],
          "name": "stdout"
        }
      ]
    },
    {
      "cell_type": "code",
      "metadata": {
        "colab": {
          "base_uri": "https://localhost:8080/"
        },
        "id": "S0V91eHIAAKw",
        "outputId": "d919a7ff-b87d-4776-d241-576572ebc015"
      },
      "source": [
        "with torch.no_grad():\n",
        "    tot = 0\n",
        "    correct = 0\n",
        "    for i, (data, labels) in enumerate(test_dataloader):\n",
        "        # get output probabilities\n",
        "        data = data.to(device)\n",
        "        labels = labels.to(device)\n",
        "        outputs = model(data.view(-1,input_features))\n",
        "        values, idx = torch.max(outputs, axis = 1)\n",
        "        correct += (idx == labels).sum().item()\n",
        "        tot += labels.shape[0]\n",
        "\n",
        "print('test_accuracy: ', correct/tot)\n"
      ],
      "execution_count": null,
      "outputs": [
        {
          "output_type": "stream",
          "text": [
            "accuracy:  0.96\n"
          ],
          "name": "stdout"
        }
      ]
    },
    {
      "cell_type": "code",
      "metadata": {
        "id": "XA7BuaQZFcB_"
      },
      "source": [
        ""
      ],
      "execution_count": null,
      "outputs": []
    },
    {
      "cell_type": "markdown",
      "metadata": {
        "id": "PgrIHE1IF80z"
      },
      "source": [
        "# CNN on CIFAR10"
      ]
    },
    {
      "cell_type": "code",
      "metadata": {
        "id": "9QZ2NFxUGAk6"
      },
      "source": [
        "import torch\n",
        "from torch import nn\n",
        "import torch.nn.functional as F\n",
        "from torch.utils.data import DataLoader, Dataset\n",
        "from torchvision import datasets, transforms\n",
        "from torchvision.utils import make_grid\n",
        "import matplotlib.pyplot as plt"
      ],
      "execution_count": null,
      "outputs": []
    },
    {
      "cell_type": "code",
      "metadata": {
        "colab": {
          "base_uri": "https://localhost:8080/",
          "height": 104,
          "referenced_widgets": [
            "4b18ed37876f4ad7a022030d4fb62960",
            "bf4bed2d3bbf48a8be1865d9b4d674f5",
            "d3e76df92f904fc4bfb84bb66bfe013b",
            "1c05bb650ff94f1abd6cd2d727c81b05",
            "6d1286764da64f2486e8deb0cb7cf8a9",
            "2f5fcbad236242db8a6db9b194c37ecd",
            "a487e02977f94a079e39cb440e303377",
            "fffac57f29694b39b82b9588d3f11db8"
          ]
        },
        "id": "ybBRmO--GjUd",
        "outputId": "654a3b33-e452-414e-abfe-9282d5656270"
      },
      "source": [
        "# Device setup\n",
        "device = torch.device('cuda' if torch.cuda.is_available() else 'cpu')\n",
        "\n",
        "# Load the dataset\n",
        "\n",
        "train = datasets.CIFAR10('./data', train = True, \n",
        "                                   transform = transforms.ToTensor(),\n",
        "                                   download = True\n",
        "                                   )\n",
        "test = datasets.CIFAR10('./data', train = False,\n",
        "                                   transform = transforms.ToTensor(),\n",
        "                                   )\n",
        "batch_size = 4\n",
        "\n",
        "train_dataloader = torch.utils.data.DataLoader(dataset = train, batch_size= batch_size, shuffle = True, num_workers=2)\n",
        "test_dataloader = torch.utils.data.DataLoader(dataset = test, batch_size= batch_size, num_workers=2)"
      ],
      "execution_count": null,
      "outputs": [
        {
          "output_type": "stream",
          "text": [
            "Downloading https://www.cs.toronto.edu/~kriz/cifar-10-python.tar.gz to ./data/cifar-10-python.tar.gz\n"
          ],
          "name": "stdout"
        },
        {
          "output_type": "display_data",
          "data": {
            "application/vnd.jupyter.widget-view+json": {
              "model_id": "4b18ed37876f4ad7a022030d4fb62960",
              "version_minor": 0,
              "version_major": 2
            },
            "text/plain": [
              "HBox(children=(FloatProgress(value=0.0, max=170498071.0), HTML(value='')))"
            ]
          },
          "metadata": {
            "tags": []
          }
        },
        {
          "output_type": "stream",
          "text": [
            "\n",
            "Extracting ./data/cifar-10-python.tar.gz to ./data\n"
          ],
          "name": "stdout"
        }
      ]
    },
    {
      "cell_type": "code",
      "metadata": {
        "colab": {
          "base_uri": "https://localhost:8080/"
        },
        "id": "AMYeCMfsMQ2Q",
        "outputId": "4f1d6ece-331e-4c45-a38d-e927f314045b"
      },
      "source": [
        "classes = ('plane', 'car', 'bird', 'cat',\n",
        "           'deer', 'dog', 'frog', 'horse', 'ship', 'truck')\n",
        "labelNames = {i:classes[i] for i in range(10)}\n",
        "labelNames"
      ],
      "execution_count": null,
      "outputs": [
        {
          "output_type": "execute_result",
          "data": {
            "text/plain": [
              "{0: 'plane',\n",
              " 1: 'car',\n",
              " 2: 'bird',\n",
              " 3: 'cat',\n",
              " 4: 'deer',\n",
              " 5: 'dog',\n",
              " 6: 'frog',\n",
              " 7: 'horse',\n",
              " 8: 'ship',\n",
              " 9: 'truck'}"
            ]
          },
          "metadata": {
            "tags": []
          },
          "execution_count": 31
        }
      ]
    },
    {
      "cell_type": "code",
      "metadata": {
        "colab": {
          "base_uri": "https://localhost:8080/",
          "height": 343
        },
        "id": "Ue7SubNdHDuQ",
        "outputId": "558ab559-7e19-4a7e-d7a1-3b2db2d1cfbd"
      },
      "source": [
        "def show(images, labels):\n",
        "    images = images.permute(1,2,0)\n",
        "    plt.imshow(images)\n",
        "    plt.title(labels)\n",
        "\n",
        "train_iter = iter(train_dataloader)\n",
        "images, labels = train_iter.next()\n",
        "\n",
        "grid = make_grid(images)\n",
        "show(grid, \" - \".join([classes[x.item()] for x in labels]))\n",
        "\n",
        "\n",
        "plt.figure(figsize = (12,8))\n",
        "grid = 141\n",
        "for i in range(labels.shape[0]):\n",
        "    image = images[i]\n",
        "    image.transpose_(2,1)\n",
        "    image.transpose_(0,-1)\n",
        "    plt.subplot(grid+i)\n",
        "    plt.imshow(image)\n",
        "    plt.title(classes[labels[i]])"
      ],
      "execution_count": null,
      "outputs": [
        {
          "output_type": "display_data",
          "data": {
            "image/png": "[encoded data removed]",
            "text/plain": [
              "<Figure size 432x288 with 1 Axes>"
            ]
          },
          "metadata": {
            "tags": [],
            "needs_background": "light"
          }
        },
        {
          "output_type": "display_data",
          "data": {
            "image/png": "[encoded data removed]",
            "text/plain": [
              "<Figure size 864x576 with 4 Axes>"
            ]
          },
          "metadata": {
            "tags": [],
            "needs_background": "light"
          }
        }
      ]
    },
    {
      "cell_type": "code",
      "metadata": {
        "colab": {
          "base_uri": "https://localhost:8080/",
          "height": 35
        },
        "id": "mGqQPLJysmJ9",
        "outputId": "f3a31030-f176-4f95-cb4a-57ffad5adecf"
      },
      "source": [
        "\" - \".join([str(x.item()) for x in labels])"
      ],
      "execution_count": null,
      "outputs": [
        {
          "output_type": "execute_result",
          "data": {
            "application/vnd.google.colaboratory.intrinsic+json": {
              "type": "string"
            },
            "text/plain": [
              "'4 - 2 - 0 - 1'"
            ]
          },
          "metadata": {
            "tags": []
          },
          "execution_count": 30
        }
      ]
    },
    {
      "cell_type": "code",
      "metadata": {
        "colab": {
          "base_uri": "https://localhost:8080/"
        },
        "id": "kg8mRvqMHzxY",
        "outputId": "fcf94034-5208-4064-daba-a50429b82b5e"
      },
      "source": [
        "images[0].shape"
      ],
      "execution_count": null,
      "outputs": [
        {
          "output_type": "execute_result",
          "data": {
            "text/plain": [
              "torch.Size([3, 32, 32])"
            ]
          },
          "metadata": {
            "tags": []
          },
          "execution_count": 7
        }
      ]
    },
    {
      "cell_type": "code",
      "metadata": {
        "id": "NvL1Kgd-NXJW"
      },
      "source": [
        "# Model design\n",
        "\n",
        "class CNN(nn.Module):\n",
        "    def __init__(self, n_classes):\n",
        "        super().__init__()\n",
        "        # -> n,3,32,32\n",
        "        self.conv1 = nn.Conv2d(in_channels = 3, out_channels = 8, kernel_size = 5, stride=1, padding=0) # -> n,8,28,28\n",
        "        self.pool = nn.MaxPool2d(kernel_size = 2, stride = 2) # -> n,8,14,14\n",
        "        self.conv2 = nn.Conv2d(in_channels = 8, out_channels = 16, kernel_size = 5, stride=1, padding=0) # -> n,16,10,10\n",
        "        # pool -> n,16,5,5\n",
        "        self.fc1 = nn.Linear(16*5*5, 64) # -> n, 64\n",
        "        self.fc2 = nn.Linear(64,n_classes)\n",
        "\n",
        "    def forward(self,x):\n",
        "        # -> n,3,32,32\n",
        "        x = F.relu(self.conv1(x)) # -> n,8,28,28\n",
        "        x = self.pool(x) # -> n,8,14,14\n",
        "        x = F.relu(self.conv2(x))  # -> n,16,10,10\n",
        "        x = self.pool(x) # -> n,16,5,5\n",
        "        flatten = torch.tensor(x.shape[1:]).prod().item()\n",
        "        x = x.view(-1,flatten)\n",
        "        x = F.relu(self.fc1(x))\n",
        "        x = F.relu(self.fc2(x))\n",
        "        return x\n",
        "\n"
      ],
      "execution_count": null,
      "outputs": []
    },
    {
      "cell_type": "code",
      "metadata": {
        "colab": {
          "base_uri": "https://localhost:8080/"
        },
        "id": "tk0tV5-CT__e",
        "outputId": "2c37e01b-a49e-48a7-afee-3db35014687e"
      },
      "source": [
        "model = CNN(10).to(device)\n",
        "\n",
        "# Loss and Optimizer \n",
        "lr = 0.0001\n",
        "criterion = nn.CrossEntropyLoss()\n",
        "optim = torch.optim.Adam(model.parameters(), lr)\n",
        "\n",
        "# Training loop\n",
        "n_epochs = 4\n",
        "print_every = 500\n",
        "for epoch in range(n_epochs):\n",
        "    for i, (data, labels) in enumerate(train_dataloader):\n",
        "        # Forward\n",
        "        data = data.to(device)\n",
        "        labels = labels.to(device)\n",
        "        preds = model(data)\n",
        "        loss = criterion(preds, labels)\n",
        "\n",
        "        # Backward\n",
        "        optim.zero_grad()\n",
        "        loss.backward()\n",
        "        optim.step()\n",
        "\n",
        "        # Progress\n",
        "        if i%print_every == 0:\n",
        "            print(f\"epoch: {epoch+1} step: {i}/{len(train_dataloader)} loss: {loss.item():.4f}\")"
      ],
      "execution_count": null,
      "outputs": [
        {
          "output_type": "stream",
          "text": [
            "epoch: 1 step: 0/12500 loss: 2.2709\n",
            "epoch: 1 step: 500/12500 loss: 2.1932\n",
            "epoch: 1 step: 1000/12500 loss: 2.1269\n",
            "epoch: 1 step: 1500/12500 loss: 2.0952\n",
            "epoch: 1 step: 2000/12500 loss: 2.4589\n",
            "epoch: 1 step: 2500/12500 loss: 2.3175\n",
            "epoch: 1 step: 3000/12500 loss: 1.6283\n",
            "epoch: 1 step: 3500/12500 loss: 2.5811\n",
            "epoch: 1 step: 4000/12500 loss: 1.8884\n",
            "epoch: 1 step: 4500/12500 loss: 2.0228\n",
            "epoch: 1 step: 5000/12500 loss: 1.8149\n",
            "epoch: 1 step: 5500/12500 loss: 1.8886\n",
            "epoch: 1 step: 6000/12500 loss: 1.9359\n",
            "epoch: 1 step: 6500/12500 loss: 1.9768\n",
            "epoch: 1 step: 7000/12500 loss: 2.2838\n",
            "epoch: 1 step: 7500/12500 loss: 0.7952\n",
            "epoch: 1 step: 8000/12500 loss: 1.8341\n",
            "epoch: 1 step: 8500/12500 loss: 1.6435\n",
            "epoch: 1 step: 9000/12500 loss: 1.7548\n",
            "epoch: 1 step: 9500/12500 loss: 1.5940\n",
            "epoch: 1 step: 10000/12500 loss: 1.6130\n",
            "epoch: 1 step: 10500/12500 loss: 2.7606\n",
            "epoch: 1 step: 11000/12500 loss: 1.9230\n",
            "epoch: 1 step: 11500/12500 loss: 1.6850\n",
            "epoch: 1 step: 12000/12500 loss: 1.4202\n",
            "epoch: 2 step: 0/12500 loss: 2.4710\n",
            "epoch: 2 step: 500/12500 loss: 1.6271\n",
            "epoch: 2 step: 1000/12500 loss: 2.4695\n",
            "epoch: 2 step: 1500/12500 loss: 1.6326\n",
            "epoch: 2 step: 2000/12500 loss: 2.3207\n",
            "epoch: 2 step: 2500/12500 loss: 1.7524\n",
            "epoch: 2 step: 3000/12500 loss: 1.6092\n",
            "epoch: 2 step: 3500/12500 loss: 2.0457\n",
            "epoch: 2 step: 4000/12500 loss: 1.7217\n",
            "epoch: 2 step: 4500/12500 loss: 2.0107\n",
            "epoch: 2 step: 5000/12500 loss: 1.7731\n",
            "epoch: 2 step: 5500/12500 loss: 1.9272\n",
            "epoch: 2 step: 6000/12500 loss: 1.5774\n",
            "epoch: 2 step: 6500/12500 loss: 1.6625\n",
            "epoch: 2 step: 7000/12500 loss: 1.7499\n",
            "epoch: 2 step: 7500/12500 loss: 2.2902\n",
            "epoch: 2 step: 8000/12500 loss: 1.8874\n",
            "epoch: 2 step: 8500/12500 loss: 1.2499\n",
            "epoch: 2 step: 9000/12500 loss: 1.5598\n",
            "epoch: 2 step: 9500/12500 loss: 1.3510\n",
            "epoch: 2 step: 10000/12500 loss: 2.0525\n",
            "epoch: 2 step: 10500/12500 loss: 1.9589\n",
            "epoch: 2 step: 11000/12500 loss: 2.0285\n",
            "epoch: 2 step: 11500/12500 loss: 1.6586\n",
            "epoch: 2 step: 12000/12500 loss: 1.2805\n",
            "epoch: 3 step: 0/12500 loss: 2.0484\n",
            "epoch: 3 step: 500/12500 loss: 1.6472\n",
            "epoch: 3 step: 1000/12500 loss: 2.4019\n",
            "epoch: 3 step: 1500/12500 loss: 2.2651\n",
            "epoch: 3 step: 2000/12500 loss: 1.4115\n",
            "epoch: 3 step: 2500/12500 loss: 1.4203\n",
            "epoch: 3 step: 3000/12500 loss: 1.8037\n",
            "epoch: 3 step: 3500/12500 loss: 1.3443\n",
            "epoch: 3 step: 4000/12500 loss: 1.2319\n",
            "epoch: 3 step: 4500/12500 loss: 1.0840\n",
            "epoch: 3 step: 5000/12500 loss: 2.2141\n",
            "epoch: 3 step: 5500/12500 loss: 1.3258\n",
            "epoch: 3 step: 6000/12500 loss: 2.0518\n",
            "epoch: 3 step: 6500/12500 loss: 1.1060\n",
            "epoch: 3 step: 7000/12500 loss: 2.0821\n",
            "epoch: 3 step: 7500/12500 loss: 1.8329\n",
            "epoch: 3 step: 8000/12500 loss: 1.8743\n",
            "epoch: 3 step: 8500/12500 loss: 1.8987\n",
            "epoch: 3 step: 9000/12500 loss: 1.2003\n",
            "epoch: 3 step: 9500/12500 loss: 2.1979\n",
            "epoch: 3 step: 10000/12500 loss: 1.9953\n",
            "epoch: 3 step: 10500/12500 loss: 0.8608\n",
            "epoch: 3 step: 11000/12500 loss: 2.5815\n",
            "epoch: 3 step: 11500/12500 loss: 1.8511\n",
            "epoch: 3 step: 12000/12500 loss: 1.8702\n",
            "epoch: 4 step: 0/12500 loss: 2.4824\n",
            "epoch: 4 step: 500/12500 loss: 1.1555\n",
            "epoch: 4 step: 1000/12500 loss: 0.8589\n",
            "epoch: 4 step: 1500/12500 loss: 2.4844\n",
            "epoch: 4 step: 2000/12500 loss: 0.4896\n",
            "epoch: 4 step: 2500/12500 loss: 1.9927\n",
            "epoch: 4 step: 3000/12500 loss: 1.6747\n",
            "epoch: 4 step: 3500/12500 loss: 1.2987\n",
            "epoch: 4 step: 4000/12500 loss: 1.3551\n",
            "epoch: 4 step: 4500/12500 loss: 1.6644\n",
            "epoch: 4 step: 5000/12500 loss: 1.4694\n",
            "epoch: 4 step: 5500/12500 loss: 0.6937\n",
            "epoch: 4 step: 6000/12500 loss: 1.3825\n",
            "epoch: 4 step: 6500/12500 loss: 1.5981\n",
            "epoch: 4 step: 7000/12500 loss: 1.9075\n",
            "epoch: 4 step: 7500/12500 loss: 2.5263\n",
            "epoch: 4 step: 8000/12500 loss: 0.8085\n",
            "epoch: 4 step: 8500/12500 loss: 2.5318\n",
            "epoch: 4 step: 9000/12500 loss: 1.2115\n",
            "epoch: 4 step: 9500/12500 loss: 1.0348\n",
            "epoch: 4 step: 10000/12500 loss: 1.5709\n",
            "epoch: 4 step: 10500/12500 loss: 1.8103\n",
            "epoch: 4 step: 11000/12500 loss: 2.3901\n",
            "epoch: 4 step: 11500/12500 loss: 2.6304\n",
            "epoch: 4 step: 12000/12500 loss: 1.9726\n"
          ],
          "name": "stdout"
        }
      ]
    },
    {
      "cell_type": "code",
      "metadata": {
        "colab": {
          "base_uri": "https://localhost:8080/"
        },
        "id": "6CNaQ9c7VbfK",
        "outputId": "bba92988-4384-47f1-b9bb-d539262599de"
      },
      "source": [
        "# training loop\n",
        "with torch.no_grad():\n",
        "    tot = 0\n",
        "    correct = 0\n",
        "\n",
        "    n_class_correct = [0 for i in range(10)]\n",
        "    n_class_samples = [0 for i in range(10)]\n",
        "    for i, (data, labels) in enumerate(test_dataloader):\n",
        "        # get output probabilities\n",
        "        data = data.to(device)\n",
        "        labels = labels.to(device)\n",
        "        outputs = model(data)\n",
        "        _, predicted = torch.max(outputs, axis = 1)\n",
        "        correct += (predicted == labels).sum().item()\n",
        "        tot += labels.shape[0]\n",
        "\n",
        "        for i in range(batch_size):\n",
        "            label = labels[i]\n",
        "            pred = predicted[i]\n",
        "            if (label == pred):\n",
        "                n_class_correct[label] += 1\n",
        "            n_class_samples[label] += 1\n",
        "\n",
        "    print('test_accuracy: ', correct/tot)\n",
        "    for i in range(10):\n",
        "        acc = 100.0 * n_class_correct[i] / n_class_samples[i]\n",
        "        print(f'Accuracy of {classes[i]}: {acc} %')\n"
      ],
      "execution_count": null,
      "outputs": [
        {
          "output_type": "stream",
          "text": [
            "test_accuracy:  0.4369\n",
            "Accuracy of plane: 61.1 %\n",
            "Accuracy of car: 64.0 %\n",
            "Accuracy of bird: 0.0 %\n",
            "Accuracy of cat: 0.0 %\n",
            "Accuracy of deer: 52.5 %\n",
            "Accuracy of dog: 0.0 %\n",
            "Accuracy of frog: 71.8 %\n",
            "Accuracy of horse: 69.3 %\n",
            "Accuracy of ship: 54.0 %\n",
            "Accuracy of truck: 64.2 %\n"
          ],
          "name": "stdout"
        }
      ]
    },
    {
      "cell_type": "markdown",
      "metadata": {
        "id": "DN-7XJQUVh8p"
      },
      "source": [
        "# Perceptron"
      ]
    },
    {
      "cell_type": "code",
      "metadata": {
        "id": "2YKJFgYLVpoC"
      },
      "source": [
        "import torch\n",
        "from matplotlib import pyplot as plt\n",
        "from sklearn.datasets import make_classification\n",
        "from tqdm import tqdm"
      ],
      "execution_count": 260,
      "outputs": []
    },
    {
      "cell_type": "code",
      "metadata": {
        "colab": {
          "base_uri": "https://localhost:8080/",
          "height": 283
        },
        "id": "UISzMa8iWA4z",
        "outputId": "ce7476d0-207b-4634-adcf-659f75854029"
      },
      "source": [
        "X, y = make_classification(n_samples=100, n_features=2, n_informative=2, n_redundant=0,\n",
        "                           n_classes=2, n_clusters_per_class=1, class_sep=1.5, random_state = 122)\n",
        "x = torch.tensor(X)\n",
        "y = torch.tensor(y, dtype= torch.float64)\n",
        "y[ y == 0]  = -1\n",
        "plt.scatter(x = X[:,0], y = X[:,1], c = y, cmap= 'copper')"
      ],
      "execution_count": 265,
      "outputs": [
        {
          "output_type": "execute_result",
          "data": {
            "text/plain": [
              "<matplotlib.collections.PathCollection at 0x7f910b4e4ed0>"
            ]
          },
          "metadata": {
            "tags": []
          },
          "execution_count": 265
        },
        {
          "output_type": "display_data",
          "data": {
            "image/png": "[encoded data removed]",
            "text/plain": [
              "<Figure size 432x288 with 1 Axes>"
            ]
          },
          "metadata": {
            "tags": [],
            "needs_background": "light"
          }
        }
      ]
    },
    {
      "cell_type": "code",
      "metadata": {
        "id": "zf63ck1EY4NL"
      },
      "source": [
        "EPOCHS = 5\n",
        "w = x.new_zeros((2))\n",
        "b = 0\n",
        "\n",
        "for epoch in range(EPOCHS):\n",
        "    all_classified = True\n",
        "    for i in range(y.shape[0]):\n",
        "        if y[i] != torch.sign(torch.dot(x[i], w) + b): # Compare predictions\n",
        "            w += y[i] * x[i] # update weights\n",
        "            b += y[i] # update bias\n",
        "            all_classified = False\n",
        "            \n",
        "    if all_classified: \n",
        "        print(\"\\nAll points are classified correctly.\")\n",
        "        break"
      ],
      "execution_count": null,
      "outputs": []
    },
    {
      "cell_type": "code",
      "metadata": {
        "colab": {
          "base_uri": "https://localhost:8080/"
        },
        "id": "y3q251zpdB0I",
        "outputId": "aed753b8-eb86-4e79-8a94-ce3a097428fb"
      },
      "source": [
        "y_pred = torch.sign((x * w + b).sum(axis = 1))\n",
        "correct = (y == y_pred).sum()\n",
        "correct"
      ],
      "execution_count": 278,
      "outputs": [
        {
          "output_type": "execute_result",
          "data": {
            "text/plain": [
              "tensor(96)"
            ]
          },
          "metadata": {
            "tags": []
          },
          "execution_count": 278
        }
      ]
    },
    {
      "cell_type": "code",
      "metadata": {
        "colab": {
          "base_uri": "https://localhost:8080/"
        },
        "id": "moUmpYdBkoLd",
        "outputId": "6563a841-17f2-4927-e3f9-85ffdb2d37ba"
      },
      "source": [
        "y_check = torch.zeros_like(y)\n",
        "for i in range(len(y)):\n",
        "    y_check[i] = torch.sign(torch.dot(x[i], w) + b)\n",
        "res = (y_check == y_pred).sum()\n",
        "res"
      ],
      "execution_count": 283,
      "outputs": [
        {
          "output_type": "execute_result",
          "data": {
            "text/plain": [
              "tensor(96)"
            ]
          },
          "metadata": {
            "tags": []
          },
          "execution_count": 283
        }
      ]
    },
    {
      "cell_type": "code",
      "metadata": {
        "colab": {
          "base_uri": "https://localhost:8080/"
        },
        "id": "ByIMBIi-srVk",
        "outputId": "361022e9-1cc1-400c-d937-063a568bd573"
      },
      "source": [
        "correct = (y_check == y).sum()\n",
        "correct"
      ],
      "execution_count": 284,
      "outputs": [
        {
          "output_type": "execute_result",
          "data": {
            "text/plain": [
              "tensor(100)"
            ]
          },
          "metadata": {
            "tags": []
          },
          "execution_count": 284
        }
      ]
    }
  ]
}